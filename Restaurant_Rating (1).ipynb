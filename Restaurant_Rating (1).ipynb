{
 "cells": [
  {
   "cell_type": "code",
   "execution_count": 1,
   "metadata": {
    "collapsed": true
   },
   "outputs": [],
   "source": [
    "import pandas as pd\n",
    "import numpy as np\n",
    "import sklearn"
   ]
  },
  {
   "cell_type": "code",
   "execution_count": 2,
   "metadata": {
    "collapsed": true
   },
   "outputs": [],
   "source": [
    "rst = pd.read_csv(\"E:\\TA_restaurants_curated.csv\")"
   ]
  },
  {
   "cell_type": "code",
   "execution_count": 3,
   "metadata": {},
   "outputs": [
    {
     "data": {
      "text/html": [
       "<div>\n",
       "<style>\n",
       "    .dataframe thead tr:only-child th {\n",
       "        text-align: right;\n",
       "    }\n",
       "\n",
       "    .dataframe thead th {\n",
       "        text-align: left;\n",
       "    }\n",
       "\n",
       "    .dataframe tbody tr th {\n",
       "        vertical-align: top;\n",
       "    }\n",
       "</style>\n",
       "<table border=\"1\" class=\"dataframe\">\n",
       "  <thead>\n",
       "    <tr style=\"text-align: right;\">\n",
       "      <th></th>\n",
       "      <th>Unnamed: 0</th>\n",
       "      <th>Name</th>\n",
       "      <th>City</th>\n",
       "      <th>Cuisine Style</th>\n",
       "      <th>Ranking</th>\n",
       "      <th>Rating</th>\n",
       "      <th>Price Range</th>\n",
       "      <th>Number of Reviews</th>\n",
       "      <th>Reviews</th>\n",
       "      <th>URL_TA</th>\n",
       "      <th>ID_TA</th>\n",
       "    </tr>\n",
       "  </thead>\n",
       "  <tbody>\n",
       "    <tr>\n",
       "      <th>0</th>\n",
       "      <td>0</td>\n",
       "      <td>Martine of Martine's Table</td>\n",
       "      <td>Amsterdam</td>\n",
       "      <td>['French', 'Dutch', 'European']</td>\n",
       "      <td>1.0</td>\n",
       "      <td>5.0</td>\n",
       "      <td>$$ - $$$</td>\n",
       "      <td>136.0</td>\n",
       "      <td>[['Just like home', 'A Warm Welcome to Wintry ...</td>\n",
       "      <td>/Restaurant_Review-g188590-d11752080-Reviews-M...</td>\n",
       "      <td>d11752080</td>\n",
       "    </tr>\n",
       "    <tr>\n",
       "      <th>1</th>\n",
       "      <td>1</td>\n",
       "      <td>De Silveren Spiegel</td>\n",
       "      <td>Amsterdam</td>\n",
       "      <td>['Dutch', 'European', 'Vegetarian Friendly', '...</td>\n",
       "      <td>2.0</td>\n",
       "      <td>4.5</td>\n",
       "      <td>$$$$</td>\n",
       "      <td>812.0</td>\n",
       "      <td>[['Great food and staff', 'just perfect'], ['0...</td>\n",
       "      <td>/Restaurant_Review-g188590-d693419-Reviews-De_...</td>\n",
       "      <td>d693419</td>\n",
       "    </tr>\n",
       "    <tr>\n",
       "      <th>2</th>\n",
       "      <td>2</td>\n",
       "      <td>La Rive</td>\n",
       "      <td>Amsterdam</td>\n",
       "      <td>['Mediterranean', 'French', 'International', '...</td>\n",
       "      <td>3.0</td>\n",
       "      <td>4.5</td>\n",
       "      <td>$$$$</td>\n",
       "      <td>567.0</td>\n",
       "      <td>[['Satisfaction', 'Delicious old school restau...</td>\n",
       "      <td>/Restaurant_Review-g188590-d696959-Reviews-La_...</td>\n",
       "      <td>d696959</td>\n",
       "    </tr>\n",
       "    <tr>\n",
       "      <th>3</th>\n",
       "      <td>3</td>\n",
       "      <td>Vinkeles</td>\n",
       "      <td>Amsterdam</td>\n",
       "      <td>['French', 'European', 'International', 'Conte...</td>\n",
       "      <td>4.0</td>\n",
       "      <td>5.0</td>\n",
       "      <td>$$$$</td>\n",
       "      <td>564.0</td>\n",
       "      <td>[['True five star dinner', 'A superb evening o...</td>\n",
       "      <td>/Restaurant_Review-g188590-d1239229-Reviews-Vi...</td>\n",
       "      <td>d1239229</td>\n",
       "    </tr>\n",
       "    <tr>\n",
       "      <th>4</th>\n",
       "      <td>4</td>\n",
       "      <td>Librije's Zusje Amsterdam</td>\n",
       "      <td>Amsterdam</td>\n",
       "      <td>['Dutch', 'European', 'International', 'Vegeta...</td>\n",
       "      <td>5.0</td>\n",
       "      <td>4.5</td>\n",
       "      <td>$$$$</td>\n",
       "      <td>316.0</td>\n",
       "      <td>[['Best meal.... EVER', 'super food experience...</td>\n",
       "      <td>/Restaurant_Review-g188590-d6864170-Reviews-Li...</td>\n",
       "      <td>d6864170</td>\n",
       "    </tr>\n",
       "  </tbody>\n",
       "</table>\n",
       "</div>"
      ],
      "text/plain": [
       "   Unnamed: 0                        Name       City  \\\n",
       "0           0  Martine of Martine's Table  Amsterdam   \n",
       "1           1         De Silveren Spiegel  Amsterdam   \n",
       "2           2                     La Rive  Amsterdam   \n",
       "3           3                    Vinkeles  Amsterdam   \n",
       "4           4   Librije's Zusje Amsterdam  Amsterdam   \n",
       "\n",
       "                                       Cuisine Style  Ranking  Rating  \\\n",
       "0                    ['French', 'Dutch', 'European']      1.0     5.0   \n",
       "1  ['Dutch', 'European', 'Vegetarian Friendly', '...      2.0     4.5   \n",
       "2  ['Mediterranean', 'French', 'International', '...      3.0     4.5   \n",
       "3  ['French', 'European', 'International', 'Conte...      4.0     5.0   \n",
       "4  ['Dutch', 'European', 'International', 'Vegeta...      5.0     4.5   \n",
       "\n",
       "  Price Range  Number of Reviews  \\\n",
       "0    $$ - $$$              136.0   \n",
       "1        $$$$              812.0   \n",
       "2        $$$$              567.0   \n",
       "3        $$$$              564.0   \n",
       "4        $$$$              316.0   \n",
       "\n",
       "                                             Reviews  \\\n",
       "0  [['Just like home', 'A Warm Welcome to Wintry ...   \n",
       "1  [['Great food and staff', 'just perfect'], ['0...   \n",
       "2  [['Satisfaction', 'Delicious old school restau...   \n",
       "3  [['True five star dinner', 'A superb evening o...   \n",
       "4  [['Best meal.... EVER', 'super food experience...   \n",
       "\n",
       "                                              URL_TA      ID_TA  \n",
       "0  /Restaurant_Review-g188590-d11752080-Reviews-M...  d11752080  \n",
       "1  /Restaurant_Review-g188590-d693419-Reviews-De_...    d693419  \n",
       "2  /Restaurant_Review-g188590-d696959-Reviews-La_...    d696959  \n",
       "3  /Restaurant_Review-g188590-d1239229-Reviews-Vi...   d1239229  \n",
       "4  /Restaurant_Review-g188590-d6864170-Reviews-Li...   d6864170  "
      ]
     },
     "execution_count": 3,
     "metadata": {},
     "output_type": "execute_result"
    }
   ],
   "source": [
    "rst.head(5)"
   ]
  },
  {
   "cell_type": "code",
   "execution_count": 4,
   "metadata": {},
   "outputs": [
    {
     "data": {
      "text/plain": [
       "(125527, 11)"
      ]
     },
     "execution_count": 4,
     "metadata": {},
     "output_type": "execute_result"
    }
   ],
   "source": [
    "rst.shape"
   ]
  },
  {
   "cell_type": "code",
   "execution_count": 5,
   "metadata": {},
   "outputs": [
    {
     "data": {
      "text/html": [
       "<div>\n",
       "<style>\n",
       "    .dataframe thead tr:only-child th {\n",
       "        text-align: right;\n",
       "    }\n",
       "\n",
       "    .dataframe thead th {\n",
       "        text-align: left;\n",
       "    }\n",
       "\n",
       "    .dataframe tbody tr th {\n",
       "        vertical-align: top;\n",
       "    }\n",
       "</style>\n",
       "<table border=\"1\" class=\"dataframe\">\n",
       "  <thead>\n",
       "    <tr style=\"text-align: right;\">\n",
       "      <th></th>\n",
       "      <th>Unnamed: 0</th>\n",
       "      <th>Name</th>\n",
       "      <th>City</th>\n",
       "      <th>Cuisine Style</th>\n",
       "      <th>Ranking</th>\n",
       "      <th>Rating</th>\n",
       "      <th>Price Range</th>\n",
       "      <th>Number of Reviews</th>\n",
       "      <th>Reviews</th>\n",
       "      <th>URL_TA</th>\n",
       "      <th>ID_TA</th>\n",
       "    </tr>\n",
       "  </thead>\n",
       "  <tbody>\n",
       "    <tr>\n",
       "      <th>125522</th>\n",
       "      <td>1662</td>\n",
       "      <td>Konrad Kaffee- &amp; Cocktailbar</td>\n",
       "      <td>Zurich</td>\n",
       "      <td>NaN</td>\n",
       "      <td>NaN</td>\n",
       "      <td>NaN</td>\n",
       "      <td>NaN</td>\n",
       "      <td>NaN</td>\n",
       "      <td>NaN</td>\n",
       "      <td>/Restaurant_Review-g188113-d13273526-Reviews-K...</td>\n",
       "      <td>d13273526</td>\n",
       "    </tr>\n",
       "    <tr>\n",
       "      <th>125523</th>\n",
       "      <td>1663</td>\n",
       "      <td>Blueberry American Bakery</td>\n",
       "      <td>Zurich</td>\n",
       "      <td>['Cafe']</td>\n",
       "      <td>NaN</td>\n",
       "      <td>NaN</td>\n",
       "      <td>NaN</td>\n",
       "      <td>NaN</td>\n",
       "      <td>NaN</td>\n",
       "      <td>/Restaurant_Review-g188113-d13292844-Reviews-B...</td>\n",
       "      <td>d13292844</td>\n",
       "    </tr>\n",
       "    <tr>\n",
       "      <th>125524</th>\n",
       "      <td>1664</td>\n",
       "      <td>Restaurant Bahnhof</td>\n",
       "      <td>Zurich</td>\n",
       "      <td>NaN</td>\n",
       "      <td>NaN</td>\n",
       "      <td>NaN</td>\n",
       "      <td>NaN</td>\n",
       "      <td>NaN</td>\n",
       "      <td>NaN</td>\n",
       "      <td>/Restaurant_Review-g188113-d13296092-Reviews-R...</td>\n",
       "      <td>d13296092</td>\n",
       "    </tr>\n",
       "    <tr>\n",
       "      <th>125525</th>\n",
       "      <td>1665</td>\n",
       "      <td>Yoyo Pizza</td>\n",
       "      <td>Zurich</td>\n",
       "      <td>['Fast Food']</td>\n",
       "      <td>NaN</td>\n",
       "      <td>NaN</td>\n",
       "      <td>NaN</td>\n",
       "      <td>NaN</td>\n",
       "      <td>NaN</td>\n",
       "      <td>/Restaurant_Review-g188113-d13323362-Reviews-Y...</td>\n",
       "      <td>d13323362</td>\n",
       "    </tr>\n",
       "    <tr>\n",
       "      <th>125526</th>\n",
       "      <td>1666</td>\n",
       "      <td>dieci</td>\n",
       "      <td>Zurich</td>\n",
       "      <td>['Italian', 'Pizza', 'Mediterranean', 'Diner']</td>\n",
       "      <td>NaN</td>\n",
       "      <td>NaN</td>\n",
       "      <td>$$ - $$$</td>\n",
       "      <td>NaN</td>\n",
       "      <td>NaN</td>\n",
       "      <td>/Restaurant_Review-g188113-d13349842-Reviews-D...</td>\n",
       "      <td>d13349842</td>\n",
       "    </tr>\n",
       "  </tbody>\n",
       "</table>\n",
       "</div>"
      ],
      "text/plain": [
       "        Unnamed: 0                          Name    City  \\\n",
       "125522        1662  Konrad Kaffee- & Cocktailbar  Zurich   \n",
       "125523        1663     Blueberry American Bakery  Zurich   \n",
       "125524        1664            Restaurant Bahnhof  Zurich   \n",
       "125525        1665                    Yoyo Pizza  Zurich   \n",
       "125526        1666                         dieci  Zurich   \n",
       "\n",
       "                                         Cuisine Style  Ranking  Rating  \\\n",
       "125522                                             NaN      NaN     NaN   \n",
       "125523                                        ['Cafe']      NaN     NaN   \n",
       "125524                                             NaN      NaN     NaN   \n",
       "125525                                   ['Fast Food']      NaN     NaN   \n",
       "125526  ['Italian', 'Pizza', 'Mediterranean', 'Diner']      NaN     NaN   \n",
       "\n",
       "       Price Range  Number of Reviews Reviews  \\\n",
       "125522         NaN                NaN     NaN   \n",
       "125523         NaN                NaN     NaN   \n",
       "125524         NaN                NaN     NaN   \n",
       "125525         NaN                NaN     NaN   \n",
       "125526    $$ - $$$                NaN     NaN   \n",
       "\n",
       "                                                   URL_TA      ID_TA  \n",
       "125522  /Restaurant_Review-g188113-d13273526-Reviews-K...  d13273526  \n",
       "125523  /Restaurant_Review-g188113-d13292844-Reviews-B...  d13292844  \n",
       "125524  /Restaurant_Review-g188113-d13296092-Reviews-R...  d13296092  \n",
       "125525  /Restaurant_Review-g188113-d13323362-Reviews-Y...  d13323362  \n",
       "125526  /Restaurant_Review-g188113-d13349842-Reviews-D...  d13349842  "
      ]
     },
     "execution_count": 5,
     "metadata": {},
     "output_type": "execute_result"
    }
   ],
   "source": [
    "rst.tail(5)"
   ]
  },
  {
   "cell_type": "code",
   "execution_count": 6,
   "metadata": {
    "collapsed": true
   },
   "outputs": [],
   "source": [
    "Rst = rst.sample(n=10000,replace=\"False\")"
   ]
  },
  {
   "cell_type": "code",
   "execution_count": 7,
   "metadata": {
    "collapsed": true
   },
   "outputs": [],
   "source": [
    "Rst = Rst.drop([\"Unnamed: 0\",\"URL_TA\", \"ID_TA\" ], axis = 1)"
   ]
  },
  {
   "cell_type": "code",
   "execution_count": 8,
   "metadata": {},
   "outputs": [
    {
     "data": {
      "text/plain": [
       "Index(['Name', 'City', 'Cuisine Style', 'Ranking', 'Rating', 'Price Range',\n",
       "       'Number of Reviews', 'Reviews'],\n",
       "      dtype='object')"
      ]
     },
     "execution_count": 8,
     "metadata": {},
     "output_type": "execute_result"
    }
   ],
   "source": [
    "Rst.columns"
   ]
  },
  {
   "cell_type": "code",
   "execution_count": 9,
   "metadata": {},
   "outputs": [
    {
     "data": {
      "text/plain": [
       "Name                    0\n",
       "City                    0\n",
       "Cuisine Style        2522\n",
       "Ranking               761\n",
       "Rating                756\n",
       "Price Range          3844\n",
       "Number of Reviews    1397\n",
       "Reviews               752\n",
       "dtype: int64"
      ]
     },
     "execution_count": 9,
     "metadata": {},
     "output_type": "execute_result"
    }
   ],
   "source": [
    "Rst.isnull().sum()"
   ]
  },
  {
   "cell_type": "code",
   "execution_count": 10,
   "metadata": {},
   "outputs": [
    {
     "data": {
      "text/plain": [
       "(10000, 8)"
      ]
     },
     "execution_count": 10,
     "metadata": {},
     "output_type": "execute_result"
    }
   ],
   "source": [
    "Rst.shape"
   ]
  },
  {
   "cell_type": "code",
   "execution_count": 11,
   "metadata": {
    "collapsed": true
   },
   "outputs": [],
   "source": [
    "Rst.rename(columns={Rst.columns[2]:\"Cuisine\"},inplace=\"True\")     #########  Cuisine Style ...."
   ]
  },
  {
   "cell_type": "code",
   "execution_count": 12,
   "metadata": {
    "collapsed": true
   },
   "outputs": [],
   "source": [
    "Rst.rename(columns={Rst.columns[5]:\"PriceinRange\"},inplace=\"True\")     #########  Cuisine Style ...."
   ]
  },
  {
   "cell_type": "code",
   "execution_count": 13,
   "metadata": {
    "collapsed": true
   },
   "outputs": [],
   "source": [
    "Rst.rename(columns={Rst.columns[6]:\"Reviewsinnos\"},inplace=\"True\")     #########  Cuisine Style ...."
   ]
  },
  {
   "cell_type": "code",
   "execution_count": 14,
   "metadata": {},
   "outputs": [
    {
     "data": {
      "text/plain": [
       "Index(['Name', 'City', 'Cuisine', 'Ranking', 'Rating', 'PriceinRange',\n",
       "       'Reviewsinnos', 'Reviews'],\n",
       "      dtype='object')"
      ]
     },
     "execution_count": 14,
     "metadata": {},
     "output_type": "execute_result"
    }
   ],
   "source": [
    "Rst.columns"
   ]
  },
  {
   "cell_type": "code",
   "execution_count": 15,
   "metadata": {},
   "outputs": [
    {
     "data": {
      "text/html": [
       "<div>\n",
       "<style>\n",
       "    .dataframe thead tr:only-child th {\n",
       "        text-align: right;\n",
       "    }\n",
       "\n",
       "    .dataframe thead th {\n",
       "        text-align: left;\n",
       "    }\n",
       "\n",
       "    .dataframe tbody tr th {\n",
       "        vertical-align: top;\n",
       "    }\n",
       "</style>\n",
       "<table border=\"1\" class=\"dataframe\">\n",
       "  <thead>\n",
       "    <tr style=\"text-align: right;\">\n",
       "      <th></th>\n",
       "      <th>Name</th>\n",
       "      <th>City</th>\n",
       "      <th>Cuisine</th>\n",
       "      <th>Ranking</th>\n",
       "      <th>Rating</th>\n",
       "      <th>PriceinRange</th>\n",
       "      <th>Reviewsinnos</th>\n",
       "      <th>Reviews</th>\n",
       "    </tr>\n",
       "  </thead>\n",
       "  <tbody>\n",
       "    <tr>\n",
       "      <th>48307</th>\n",
       "      <td>Piebury Corner - Kings Cross</td>\n",
       "      <td>London</td>\n",
       "      <td>['British', 'Bar', 'Pub', 'Diner', 'Scottish',...</td>\n",
       "      <td>2732.0</td>\n",
       "      <td>4.5</td>\n",
       "      <td>$$ - $$$</td>\n",
       "      <td>40.0</td>\n",
       "      <td>[['Lovely evening', 'Brilliant pie before an a...</td>\n",
       "    </tr>\n",
       "    <tr>\n",
       "      <th>108919</th>\n",
       "      <td>Pod Schudky</td>\n",
       "      <td>Prague</td>\n",
       "      <td>['European', 'Czech']</td>\n",
       "      <td>NaN</td>\n",
       "      <td>NaN</td>\n",
       "      <td>NaN</td>\n",
       "      <td>NaN</td>\n",
       "      <td>NaN</td>\n",
       "    </tr>\n",
       "    <tr>\n",
       "      <th>94004</th>\n",
       "      <td>Tofuya</td>\n",
       "      <td>Paris</td>\n",
       "      <td>['Japanese']</td>\n",
       "      <td>4608.0</td>\n",
       "      <td>4.5</td>\n",
       "      <td>$$ - $$$</td>\n",
       "      <td>22.0</td>\n",
       "      <td>[['Great for a tasty and healthy lunch', 'A ne...</td>\n",
       "    </tr>\n",
       "    <tr>\n",
       "      <th>27180</th>\n",
       "      <td>Tinto</td>\n",
       "      <td>Budapest</td>\n",
       "      <td>['Spanish']</td>\n",
       "      <td>2035.0</td>\n",
       "      <td>3.5</td>\n",
       "      <td>NaN</td>\n",
       "      <td>15.0</td>\n",
       "      <td>[['Great place', 'Brilliant'], ['02/15/2017', ...</td>\n",
       "    </tr>\n",
       "    <tr>\n",
       "      <th>106532</th>\n",
       "      <td>Pivonkove Zatisi</td>\n",
       "      <td>Prague</td>\n",
       "      <td>NaN</td>\n",
       "      <td>2266.0</td>\n",
       "      <td>4.0</td>\n",
       "      <td>NaN</td>\n",
       "      <td>19.0</td>\n",
       "      <td>[['Chinese is Chinese', 'Cheap but not very go...</td>\n",
       "    </tr>\n",
       "  </tbody>\n",
       "</table>\n",
       "</div>"
      ],
      "text/plain": [
       "                                Name      City  \\\n",
       "48307   Piebury Corner - Kings Cross    London   \n",
       "108919                   Pod Schudky    Prague   \n",
       "94004                         Tofuya     Paris   \n",
       "27180                          Tinto  Budapest   \n",
       "106532              Pivonkove Zatisi    Prague   \n",
       "\n",
       "                                                  Cuisine  Ranking  Rating  \\\n",
       "48307   ['British', 'Bar', 'Pub', 'Diner', 'Scottish',...   2732.0     4.5   \n",
       "108919                              ['European', 'Czech']      NaN     NaN   \n",
       "94004                                        ['Japanese']   4608.0     4.5   \n",
       "27180                                         ['Spanish']   2035.0     3.5   \n",
       "106532                                                NaN   2266.0     4.0   \n",
       "\n",
       "       PriceinRange  Reviewsinnos  \\\n",
       "48307      $$ - $$$          40.0   \n",
       "108919          NaN           NaN   \n",
       "94004      $$ - $$$          22.0   \n",
       "27180           NaN          15.0   \n",
       "106532          NaN          19.0   \n",
       "\n",
       "                                                  Reviews  \n",
       "48307   [['Lovely evening', 'Brilliant pie before an a...  \n",
       "108919                                                NaN  \n",
       "94004   [['Great for a tasty and healthy lunch', 'A ne...  \n",
       "27180   [['Great place', 'Brilliant'], ['02/15/2017', ...  \n",
       "106532  [['Chinese is Chinese', 'Cheap but not very go...  "
      ]
     },
     "execution_count": 15,
     "metadata": {},
     "output_type": "execute_result"
    }
   ],
   "source": [
    "Rst.head()"
   ]
  },
  {
   "cell_type": "code",
   "execution_count": 16,
   "metadata": {
    "collapsed": true
   },
   "outputs": [],
   "source": [
    "import seaborn as sns\n",
    "import matplotlib.pyplot as plt\n",
    "%matplotlib inline"
   ]
  },
  {
   "cell_type": "code",
   "execution_count": 17,
   "metadata": {},
   "outputs": [
    {
     "name": "stdout",
     "output_type": "stream",
     "text": [
      "\n",
      " Sorted by number of restaurants \n",
      "\n",
      "London        1438\n",
      "Paris         1176\n",
      "Madrid         768\n",
      "Barcelona      657\n",
      "Berlin         591\n",
      "Milan          525\n",
      "Rome           467\n",
      "Prague         373\n",
      "Lisbon         334\n",
      "Vienna         310\n",
      "Brussels       281\n",
      "Hamburg        270\n",
      "Lyon           258\n",
      "Amsterdam      251\n",
      "Munich         230\n",
      "Stockholm      207\n",
      "Budapest       202\n",
      "Copenhagen     193\n",
      "Warsaw         190\n",
      "Dublin         157\n",
      "Edinburgh      148\n",
      "Geneva         138\n",
      "Athens         136\n",
      "Zurich         125\n",
      "Oporto         118\n",
      "Helsinki       103\n",
      "Oslo           101\n",
      "Bratislava      79\n",
      "Krakow          79\n",
      "Luxembourg      52\n",
      "Ljubljana       43\n",
      "Name: City, dtype: int64\n",
      "\n",
      " Total number of restaurants: 10000\n"
     ]
    }
   ],
   "source": [
    "####  City   \n",
    "\n",
    "Total_restaurants = Rst['City'].value_counts(dropna=False)\n",
    "print(\"\\n Sorted by number of restaurants \\n\")\n",
    "print(Total_restaurants)\n",
    "total_rest = Total_restaurants.sum()\n",
    "print(\"\\n Total number of restaurants: {}\".format(total_rest))\n"
   ]
  },
  {
   "cell_type": "code",
   "execution_count": 241,
   "metadata": {
    "scrolled": true
   },
   "outputs": [
    {
     "data": {
      "text/plain": [
       "<matplotlib.axes._subplots.AxesSubplot at 0xa87fe6400>"
      ]
     },
     "execution_count": 241,
     "metadata": {},
     "output_type": "execute_result"
    },
    {
     "data": {
      "image/png": "[encoded data removed]",
      "text/plain": [
       "<matplotlib.figure.Figure at 0xa88c66ba8>"
      ]
     },
     "metadata": {},
     "output_type": "display_data"
    }
   ],
   "source": [
    "explode = [0.1 for i in Total_restaurants]\n",
    "Total_restaurants.plot(kind='pie', figsize=(15, 15), explode=explode, fontsize=20, autopct=lambda v: int(v*total_rest/100),\n",
    "                        title=\"Repartition by cities of number of restaurants\")"
   ]
  },
  {
   "cell_type": "code",
   "execution_count": 242,
   "metadata": {
    "collapsed": true
   },
   "outputs": [],
   "source": [
    "### London has maximum nos. of restaurants ......"
   ]
  },
  {
   "cell_type": "code",
   "execution_count": 18,
   "metadata": {},
   "outputs": [
    {
     "data": {
      "text/plain": [
       "$$ - $$$    4332\n",
       "$           1487\n",
       "$$$$         337\n",
       "Name: PriceinRange, dtype: int64"
      ]
     },
     "execution_count": 18,
     "metadata": {},
     "output_type": "execute_result"
    }
   ],
   "source": [
    "Rst.PriceinRange.value_counts()"
   ]
  },
  {
   "cell_type": "code",
   "execution_count": 19,
   "metadata": {},
   "outputs": [
    {
     "data": {
      "text/plain": [
       "3844"
      ]
     },
     "execution_count": 19,
     "metadata": {},
     "output_type": "execute_result"
    }
   ],
   "source": [
    "Rst.PriceinRange.isnull().sum()"
   ]
  },
  {
   "cell_type": "code",
   "execution_count": 20,
   "metadata": {
    "collapsed": true
   },
   "outputs": [],
   "source": [
    "Rst[\"PriceinRange\"] = Rst[\"PriceinRange\"].map({\"$\": \"low\" , \"$$$$\" : \"High\" , \"$$ - $$$\" : \"Mid\" })"
   ]
  },
  {
   "cell_type": "code",
   "execution_count": 21,
   "metadata": {},
   "outputs": [
    {
     "data": {
      "text/plain": [
       "3844"
      ]
     },
     "execution_count": 21,
     "metadata": {},
     "output_type": "execute_result"
    }
   ],
   "source": [
    "Rst.PriceinRange.isnull().sum()"
   ]
  },
  {
   "cell_type": "code",
   "execution_count": 22,
   "metadata": {
    "collapsed": true
   },
   "outputs": [],
   "source": [
    "#tia.age=tia.age.fillna('29.842592624521075')\n",
    "Rst.PriceinRange = Rst.PriceinRange.fillna(\"Unknown\")"
   ]
  },
  {
   "cell_type": "code",
   "execution_count": 23,
   "metadata": {},
   "outputs": [
    {
     "data": {
      "text/plain": [
       "Mid        4332\n",
       "Unknown    3844\n",
       "low        1487\n",
       "High        337\n",
       "Name: PriceinRange, dtype: int64"
      ]
     },
     "execution_count": 23,
     "metadata": {},
     "output_type": "execute_result"
    }
   ],
   "source": [
    "Rst.PriceinRange.value_counts()"
   ]
  },
  {
   "cell_type": "code",
   "execution_count": 24,
   "metadata": {},
   "outputs": [
    {
     "data": {
      "text/plain": [
       "48307         Mid\n",
       "108919    Unknown\n",
       "94004         Mid\n",
       "27180     Unknown\n",
       "106532    Unknown\n",
       "51328         Mid\n",
       "82367         Mid\n",
       "24440         Mid\n",
       "75299         low\n",
       "229           Mid\n",
       "Name: PriceinRange, dtype: object"
      ]
     },
     "execution_count": 24,
     "metadata": {},
     "output_type": "execute_result"
    }
   ],
   "source": [
    "Rst.PriceinRange.head(10)"
   ]
  },
  {
   "cell_type": "code",
   "execution_count": 250,
   "metadata": {},
   "outputs": [
    {
     "data": {
      "text/plain": [
       "(array([ 0,  1,  2,  3,  4,  5,  6,  7,  8,  9, 10, 11, 12, 13, 14, 15, 16,\n",
       "        17, 18, 19, 20, 21, 22, 23, 24, 25, 26, 27, 28, 29, 30]),\n",
       " <a list of 31 Text xticklabel objects>)"
      ]
     },
     "execution_count": 250,
     "metadata": {},
     "output_type": "execute_result"
    },
    {
     "data": {
      "image/png": "[encoded data removed]",
      "text/plain": [
       "<matplotlib.figure.Figure at 0xa88dd1cc0>"
      ]
     },
     "metadata": {},
     "output_type": "display_data"
    }
   ],
   "source": [
    "fig, ax = plt.subplots(2, 1, figsize=(12, 8))\n",
    "plt.subplots_adjust(wspace=1.0, hspace=0.50)\n",
    "Rst.PriceinRange.value_counts().plot(kind=\"bar\", ax=ax[0])\n",
    "ax[0].set_title(\"PriceinRange\")\n",
    "Rst.City.value_counts().plot(kind=\"bar\", ax=ax[1])\n",
    "ax[1].set_title(\"City\")\n",
    "plt.xticks(rotation=60)"
   ]
  },
  {
   "cell_type": "markdown",
   "metadata": {},
   "source": [
    "London , Paris and madrid has medium price range . And High values in Geneva krakow and Helsinki ."
   ]
  },
  {
   "cell_type": "code",
   "execution_count": 25,
   "metadata": {
    "scrolled": true
   },
   "outputs": [
    {
     "data": {
      "text/html": [
       "<div>\n",
       "<style>\n",
       "    .dataframe thead tr:only-child th {\n",
       "        text-align: right;\n",
       "    }\n",
       "\n",
       "    .dataframe thead th {\n",
       "        text-align: left;\n",
       "    }\n",
       "\n",
       "    .dataframe tbody tr th {\n",
       "        vertical-align: top;\n",
       "    }\n",
       "</style>\n",
       "<table border=\"1\" class=\"dataframe\">\n",
       "  <thead>\n",
       "    <tr style=\"text-align: right;\">\n",
       "      <th></th>\n",
       "      <th>Name</th>\n",
       "      <th>City</th>\n",
       "      <th>Cuisine</th>\n",
       "      <th>Ranking</th>\n",
       "      <th>Rating</th>\n",
       "      <th>PriceinRange</th>\n",
       "      <th>Reviewsinnos</th>\n",
       "      <th>Reviews</th>\n",
       "    </tr>\n",
       "  </thead>\n",
       "  <tbody>\n",
       "    <tr>\n",
       "      <th>48307</th>\n",
       "      <td>Piebury Corner - Kings Cross</td>\n",
       "      <td>London</td>\n",
       "      <td>['British', 'Bar', 'Pub', 'Diner', 'Scottish',...</td>\n",
       "      <td>2732.0</td>\n",
       "      <td>4.5</td>\n",
       "      <td>Mid</td>\n",
       "      <td>40.0</td>\n",
       "      <td>[['Lovely evening', 'Brilliant pie before an a...</td>\n",
       "    </tr>\n",
       "    <tr>\n",
       "      <th>108919</th>\n",
       "      <td>Pod Schudky</td>\n",
       "      <td>Prague</td>\n",
       "      <td>['European', 'Czech']</td>\n",
       "      <td>NaN</td>\n",
       "      <td>NaN</td>\n",
       "      <td>Unknown</td>\n",
       "      <td>NaN</td>\n",
       "      <td>NaN</td>\n",
       "    </tr>\n",
       "    <tr>\n",
       "      <th>94004</th>\n",
       "      <td>Tofuya</td>\n",
       "      <td>Paris</td>\n",
       "      <td>['Japanese']</td>\n",
       "      <td>4608.0</td>\n",
       "      <td>4.5</td>\n",
       "      <td>Mid</td>\n",
       "      <td>22.0</td>\n",
       "      <td>[['Great for a tasty and healthy lunch', 'A ne...</td>\n",
       "    </tr>\n",
       "    <tr>\n",
       "      <th>27180</th>\n",
       "      <td>Tinto</td>\n",
       "      <td>Budapest</td>\n",
       "      <td>['Spanish']</td>\n",
       "      <td>2035.0</td>\n",
       "      <td>3.5</td>\n",
       "      <td>Unknown</td>\n",
       "      <td>15.0</td>\n",
       "      <td>[['Great place', 'Brilliant'], ['02/15/2017', ...</td>\n",
       "    </tr>\n",
       "    <tr>\n",
       "      <th>106532</th>\n",
       "      <td>Pivonkove Zatisi</td>\n",
       "      <td>Prague</td>\n",
       "      <td>NaN</td>\n",
       "      <td>2266.0</td>\n",
       "      <td>4.0</td>\n",
       "      <td>Unknown</td>\n",
       "      <td>19.0</td>\n",
       "      <td>[['Chinese is Chinese', 'Cheap but not very go...</td>\n",
       "    </tr>\n",
       "    <tr>\n",
       "      <th>51328</th>\n",
       "      <td>Frankie &amp; Benny's</td>\n",
       "      <td>London</td>\n",
       "      <td>['Italian', 'American', 'Pizza', 'Vegetarian F...</td>\n",
       "      <td>5757.0</td>\n",
       "      <td>3.5</td>\n",
       "      <td>Mid</td>\n",
       "      <td>346.0</td>\n",
       "      <td>[['Evening Meal', 'Brekkie'], ['12/22/2017', '...</td>\n",
       "    </tr>\n",
       "    <tr>\n",
       "      <th>82367</th>\n",
       "      <td>Central Cafe</td>\n",
       "      <td>Milan</td>\n",
       "      <td>['Italian']</td>\n",
       "      <td>5448.0</td>\n",
       "      <td>3.5</td>\n",
       "      <td>Mid</td>\n",
       "      <td>20.0</td>\n",
       "      <td>[['Central Caffe', 'The best was the cold hein...</td>\n",
       "    </tr>\n",
       "    <tr>\n",
       "      <th>24440</th>\n",
       "      <td>Winery Boitsfort</td>\n",
       "      <td>Brussels</td>\n",
       "      <td>['Belgian', 'Mediterranean', 'European', 'Soups']</td>\n",
       "      <td>2499.0</td>\n",
       "      <td>3.5</td>\n",
       "      <td>Mid</td>\n",
       "      <td>4.0</td>\n",
       "      <td>[[], []]</td>\n",
       "    </tr>\n",
       "    <tr>\n",
       "      <th>75299</th>\n",
       "      <td>Kiosco Torrero</td>\n",
       "      <td>Madrid</td>\n",
       "      <td>['Fusion']</td>\n",
       "      <td>7927.0</td>\n",
       "      <td>2.0</td>\n",
       "      <td>low</td>\n",
       "      <td>5.0</td>\n",
       "      <td>[[], []]</td>\n",
       "    </tr>\n",
       "    <tr>\n",
       "      <th>229</th>\n",
       "      <td>Sampurna</td>\n",
       "      <td>Amsterdam</td>\n",
       "      <td>['Asian', 'Indonesian', 'Vegetarian Friendly',...</td>\n",
       "      <td>230.0</td>\n",
       "      <td>4.0</td>\n",
       "      <td>Mid</td>\n",
       "      <td>818.0</td>\n",
       "      <td>[['An authentic Indonesian meal in Amsterdam',...</td>\n",
       "    </tr>\n",
       "    <tr>\n",
       "      <th>31332</th>\n",
       "      <td>The Barn House</td>\n",
       "      <td>Dublin</td>\n",
       "      <td>NaN</td>\n",
       "      <td>1475.0</td>\n",
       "      <td>4.5</td>\n",
       "      <td>Unknown</td>\n",
       "      <td>4.0</td>\n",
       "      <td>[['Small Pub, Strange Atmosphere', 'Legendary ...</td>\n",
       "    </tr>\n",
       "    <tr>\n",
       "      <th>114941</th>\n",
       "      <td>Green Bar</td>\n",
       "      <td>Rome</td>\n",
       "      <td>['Italian']</td>\n",
       "      <td>5813.0</td>\n",
       "      <td>5.0</td>\n",
       "      <td>Unknown</td>\n",
       "      <td>2.0</td>\n",
       "      <td>[['Happy hour with Marco'], ['07/02/2015']]</td>\n",
       "    </tr>\n",
       "    <tr>\n",
       "      <th>91414</th>\n",
       "      <td>Creperie de Quiberon</td>\n",
       "      <td>Paris</td>\n",
       "      <td>['Vegetarian Friendly']</td>\n",
       "      <td>2018.0</td>\n",
       "      <td>4.0</td>\n",
       "      <td>Mid</td>\n",
       "      <td>92.0</td>\n",
       "      <td>[['A great galette and crepe option along Rue....</td>\n",
       "    </tr>\n",
       "    <tr>\n",
       "      <th>85366</th>\n",
       "      <td>Ben Thanh Restaurant</td>\n",
       "      <td>Munich</td>\n",
       "      <td>['Chinese', 'Japanese', 'Sushi', 'Thai', 'Viet...</td>\n",
       "      <td>1771.0</td>\n",
       "      <td>4.5</td>\n",
       "      <td>Unknown</td>\n",
       "      <td>8.0</td>\n",
       "      <td>[['Delicious', 'Excellent food!'], ['01/04/201...</td>\n",
       "    </tr>\n",
       "    <tr>\n",
       "      <th>48521</th>\n",
       "      <td>North London Tavern</td>\n",
       "      <td>London</td>\n",
       "      <td>['Bar', 'British', 'Pub', 'Gastropub', 'Vegeta...</td>\n",
       "      <td>2947.0</td>\n",
       "      <td>4.0</td>\n",
       "      <td>Mid</td>\n",
       "      <td>167.0</td>\n",
       "      <td>[['Very accommodating at a bad time to eat th....</td>\n",
       "    </tr>\n",
       "    <tr>\n",
       "      <th>52189</th>\n",
       "      <td>Cakehole Cafe</td>\n",
       "      <td>London</td>\n",
       "      <td>NaN</td>\n",
       "      <td>6618.0</td>\n",
       "      <td>4.5</td>\n",
       "      <td>Unknown</td>\n",
       "      <td>11.0</td>\n",
       "      <td>[['Great cake!', 'great place to hold an intim...</td>\n",
       "    </tr>\n",
       "    <tr>\n",
       "      <th>61173</th>\n",
       "      <td>Wing Fu</td>\n",
       "      <td>London</td>\n",
       "      <td>NaN</td>\n",
       "      <td>15605.0</td>\n",
       "      <td>2.5</td>\n",
       "      <td>Unknown</td>\n",
       "      <td>3.0</td>\n",
       "      <td>[['Woeful fu', 'Tasty!'], ['11/05/2016', '04/0...</td>\n",
       "    </tr>\n",
       "    <tr>\n",
       "      <th>17367</th>\n",
       "      <td>Man Kee (eh. Plumhaus)</td>\n",
       "      <td>Berlin</td>\n",
       "      <td>['Chinese', 'Asian', 'Thai']</td>\n",
       "      <td>3572.0</td>\n",
       "      <td>5.0</td>\n",
       "      <td>Mid</td>\n",
       "      <td>2.0</td>\n",
       "      <td>[[], []]</td>\n",
       "    </tr>\n",
       "    <tr>\n",
       "      <th>10966</th>\n",
       "      <td>Restaurante La Coctelera</td>\n",
       "      <td>Barcelona</td>\n",
       "      <td>NaN</td>\n",
       "      <td>5595.0</td>\n",
       "      <td>4.0</td>\n",
       "      <td>Unknown</td>\n",
       "      <td>7.0</td>\n",
       "      <td>[['Très bon tappas', 'Great place full of loca...</td>\n",
       "    </tr>\n",
       "    <tr>\n",
       "      <th>29815</th>\n",
       "      <td>Foodcorner</td>\n",
       "      <td>Copenhagen</td>\n",
       "      <td>['Italian', 'Pizza', 'Fast Food', 'Turkish']</td>\n",
       "      <td>NaN</td>\n",
       "      <td>NaN</td>\n",
       "      <td>High</td>\n",
       "      <td>NaN</td>\n",
       "      <td>NaN</td>\n",
       "    </tr>\n",
       "  </tbody>\n",
       "</table>\n",
       "</div>"
      ],
      "text/plain": [
       "                                Name        City  \\\n",
       "48307   Piebury Corner - Kings Cross      London   \n",
       "108919                   Pod Schudky      Prague   \n",
       "94004                         Tofuya       Paris   \n",
       "27180                          Tinto    Budapest   \n",
       "106532              Pivonkove Zatisi      Prague   \n",
       "51328              Frankie & Benny's      London   \n",
       "82367                   Central Cafe       Milan   \n",
       "24440               Winery Boitsfort    Brussels   \n",
       "75299                 Kiosco Torrero      Madrid   \n",
       "229                         Sampurna   Amsterdam   \n",
       "31332                 The Barn House      Dublin   \n",
       "114941                     Green Bar        Rome   \n",
       "91414           Creperie de Quiberon       Paris   \n",
       "85366           Ben Thanh Restaurant      Munich   \n",
       "48521            North London Tavern      London   \n",
       "52189                  Cakehole Cafe      London   \n",
       "61173                        Wing Fu      London   \n",
       "17367         Man Kee (eh. Plumhaus)      Berlin   \n",
       "10966       Restaurante La Coctelera   Barcelona   \n",
       "29815                     Foodcorner  Copenhagen   \n",
       "\n",
       "                                                  Cuisine  Ranking  Rating  \\\n",
       "48307   ['British', 'Bar', 'Pub', 'Diner', 'Scottish',...   2732.0     4.5   \n",
       "108919                              ['European', 'Czech']      NaN     NaN   \n",
       "94004                                        ['Japanese']   4608.0     4.5   \n",
       "27180                                         ['Spanish']   2035.0     3.5   \n",
       "106532                                                NaN   2266.0     4.0   \n",
       "51328   ['Italian', 'American', 'Pizza', 'Vegetarian F...   5757.0     3.5   \n",
       "82367                                         ['Italian']   5448.0     3.5   \n",
       "24440   ['Belgian', 'Mediterranean', 'European', 'Soups']   2499.0     3.5   \n",
       "75299                                          ['Fusion']   7927.0     2.0   \n",
       "229     ['Asian', 'Indonesian', 'Vegetarian Friendly',...    230.0     4.0   \n",
       "31332                                                 NaN   1475.0     4.5   \n",
       "114941                                        ['Italian']   5813.0     5.0   \n",
       "91414                             ['Vegetarian Friendly']   2018.0     4.0   \n",
       "85366   ['Chinese', 'Japanese', 'Sushi', 'Thai', 'Viet...   1771.0     4.5   \n",
       "48521   ['Bar', 'British', 'Pub', 'Gastropub', 'Vegeta...   2947.0     4.0   \n",
       "52189                                                 NaN   6618.0     4.5   \n",
       "61173                                                 NaN  15605.0     2.5   \n",
       "17367                        ['Chinese', 'Asian', 'Thai']   3572.0     5.0   \n",
       "10966                                                 NaN   5595.0     4.0   \n",
       "29815        ['Italian', 'Pizza', 'Fast Food', 'Turkish']      NaN     NaN   \n",
       "\n",
       "       PriceinRange  Reviewsinnos  \\\n",
       "48307           Mid          40.0   \n",
       "108919      Unknown           NaN   \n",
       "94004           Mid          22.0   \n",
       "27180       Unknown          15.0   \n",
       "106532      Unknown          19.0   \n",
       "51328           Mid         346.0   \n",
       "82367           Mid          20.0   \n",
       "24440           Mid           4.0   \n",
       "75299           low           5.0   \n",
       "229             Mid         818.0   \n",
       "31332       Unknown           4.0   \n",
       "114941      Unknown           2.0   \n",
       "91414           Mid          92.0   \n",
       "85366       Unknown           8.0   \n",
       "48521           Mid         167.0   \n",
       "52189       Unknown          11.0   \n",
       "61173       Unknown           3.0   \n",
       "17367           Mid           2.0   \n",
       "10966       Unknown           7.0   \n",
       "29815          High           NaN   \n",
       "\n",
       "                                                  Reviews  \n",
       "48307   [['Lovely evening', 'Brilliant pie before an a...  \n",
       "108919                                                NaN  \n",
       "94004   [['Great for a tasty and healthy lunch', 'A ne...  \n",
       "27180   [['Great place', 'Brilliant'], ['02/15/2017', ...  \n",
       "106532  [['Chinese is Chinese', 'Cheap but not very go...  \n",
       "51328   [['Evening Meal', 'Brekkie'], ['12/22/2017', '...  \n",
       "82367   [['Central Caffe', 'The best was the cold hein...  \n",
       "24440                                            [[], []]  \n",
       "75299                                            [[], []]  \n",
       "229     [['An authentic Indonesian meal in Amsterdam',...  \n",
       "31332   [['Small Pub, Strange Atmosphere', 'Legendary ...  \n",
       "114941        [['Happy hour with Marco'], ['07/02/2015']]  \n",
       "91414   [['A great galette and crepe option along Rue....  \n",
       "85366   [['Delicious', 'Excellent food!'], ['01/04/201...  \n",
       "48521   [['Very accommodating at a bad time to eat th....  \n",
       "52189   [['Great cake!', 'great place to hold an intim...  \n",
       "61173   [['Woeful fu', 'Tasty!'], ['11/05/2016', '04/0...  \n",
       "17367                                            [[], []]  \n",
       "10966   [['Très bon tappas', 'Great place full of loca...  \n",
       "29815                                                 NaN  "
      ]
     },
     "execution_count": 25,
     "metadata": {},
     "output_type": "execute_result"
    }
   ],
   "source": [
    "Rst.head(20)"
   ]
  },
  {
   "cell_type": "code",
   "execution_count": 253,
   "metadata": {
    "collapsed": true
   },
   "outputs": [],
   "source": [
    "### Which Cuisine has most no. of Rating and reviews .."
   ]
  },
  {
   "cell_type": "code",
   "execution_count": 26,
   "metadata": {},
   "outputs": [
    {
     "data": {
      "text/html": [
       "<div>\n",
       "<style>\n",
       "    .dataframe thead tr:only-child th {\n",
       "        text-align: right;\n",
       "    }\n",
       "\n",
       "    .dataframe thead th {\n",
       "        text-align: left;\n",
       "    }\n",
       "\n",
       "    .dataframe tbody tr th {\n",
       "        vertical-align: top;\n",
       "    }\n",
       "</style>\n",
       "<table border=\"1\" class=\"dataframe\">\n",
       "  <thead>\n",
       "    <tr style=\"text-align: right;\">\n",
       "      <th></th>\n",
       "      <th>Ranking</th>\n",
       "      <th>Rating</th>\n",
       "      <th>Reviewsinnos</th>\n",
       "    </tr>\n",
       "    <tr>\n",
       "      <th>Cuisine</th>\n",
       "      <th></th>\n",
       "      <th></th>\n",
       "      <th></th>\n",
       "    </tr>\n",
       "  </thead>\n",
       "  <tbody>\n",
       "    <tr>\n",
       "      <th>['Italian']</th>\n",
       "      <td>1081113.0</td>\n",
       "      <td>1004.5</td>\n",
       "      <td>7895.0</td>\n",
       "    </tr>\n",
       "    <tr>\n",
       "      <th>['French']</th>\n",
       "      <td>1224896.0</td>\n",
       "      <td>770.0</td>\n",
       "      <td>8527.0</td>\n",
       "    </tr>\n",
       "    <tr>\n",
       "      <th>['Spanish']</th>\n",
       "      <td>859379.0</td>\n",
       "      <td>633.5</td>\n",
       "      <td>7045.0</td>\n",
       "    </tr>\n",
       "    <tr>\n",
       "      <th>['Cafe']</th>\n",
       "      <td>471865.0</td>\n",
       "      <td>382.0</td>\n",
       "      <td>1637.0</td>\n",
       "    </tr>\n",
       "    <tr>\n",
       "      <th>['French', 'European']</th>\n",
       "      <td>306891.0</td>\n",
       "      <td>352.5</td>\n",
       "      <td>30519.0</td>\n",
       "    </tr>\n",
       "    <tr>\n",
       "      <th>['European', 'Portuguese']</th>\n",
       "      <td>156526.0</td>\n",
       "      <td>301.0</td>\n",
       "      <td>3405.0</td>\n",
       "    </tr>\n",
       "    <tr>\n",
       "      <th>['Pizza']</th>\n",
       "      <td>368222.0</td>\n",
       "      <td>287.0</td>\n",
       "      <td>2425.0</td>\n",
       "    </tr>\n",
       "    <tr>\n",
       "      <th>['Chinese']</th>\n",
       "      <td>429779.0</td>\n",
       "      <td>284.0</td>\n",
       "      <td>1264.0</td>\n",
       "    </tr>\n",
       "    <tr>\n",
       "      <th>['Mediterranean']</th>\n",
       "      <td>289166.0</td>\n",
       "      <td>252.5</td>\n",
       "      <td>1390.0</td>\n",
       "    </tr>\n",
       "    <tr>\n",
       "      <th>['Italian', 'Pizza']</th>\n",
       "      <td>321510.0</td>\n",
       "      <td>241.0</td>\n",
       "      <td>3012.0</td>\n",
       "    </tr>\n",
       "  </tbody>\n",
       "</table>\n",
       "</div>"
      ],
      "text/plain": [
       "                              Ranking  Rating  Reviewsinnos\n",
       "Cuisine                                                    \n",
       "['Italian']                 1081113.0  1004.5        7895.0\n",
       "['French']                  1224896.0   770.0        8527.0\n",
       "['Spanish']                  859379.0   633.5        7045.0\n",
       "['Cafe']                     471865.0   382.0        1637.0\n",
       "['French', 'European']       306891.0   352.5       30519.0\n",
       "['European', 'Portuguese']   156526.0   301.0        3405.0\n",
       "['Pizza']                    368222.0   287.0        2425.0\n",
       "['Chinese']                  429779.0   284.0        1264.0\n",
       "['Mediterranean']            289166.0   252.5        1390.0\n",
       "['Italian', 'Pizza']         321510.0   241.0        3012.0"
      ]
     },
     "execution_count": 26,
     "metadata": {},
     "output_type": "execute_result"
    }
   ],
   "source": [
    "c = Rst.groupby('Cuisine')\n",
    "c = c.sum()\n",
    "c = c.sort_values(['Rating'], ascending=False)\n",
    "c.head(10)"
   ]
  },
  {
   "cell_type": "code",
   "execution_count": 27,
   "metadata": {},
   "outputs": [
    {
     "data": {
      "text/html": [
       "<div>\n",
       "<style>\n",
       "    .dataframe thead tr:only-child th {\n",
       "        text-align: right;\n",
       "    }\n",
       "\n",
       "    .dataframe thead th {\n",
       "        text-align: left;\n",
       "    }\n",
       "\n",
       "    .dataframe tbody tr th {\n",
       "        vertical-align: top;\n",
       "    }\n",
       "</style>\n",
       "<table border=\"1\" class=\"dataframe\">\n",
       "  <thead>\n",
       "    <tr style=\"text-align: right;\">\n",
       "      <th></th>\n",
       "      <th>Ranking</th>\n",
       "      <th>Rating</th>\n",
       "      <th>Reviewsinnos</th>\n",
       "    </tr>\n",
       "    <tr>\n",
       "      <th>City</th>\n",
       "      <th></th>\n",
       "      <th></th>\n",
       "      <th></th>\n",
       "    </tr>\n",
       "  </thead>\n",
       "  <tbody>\n",
       "    <tr>\n",
       "      <th>London</th>\n",
       "      <td>10720418.0</td>\n",
       "      <td>5089.5</td>\n",
       "      <td>155481.0</td>\n",
       "    </tr>\n",
       "    <tr>\n",
       "      <th>Paris</th>\n",
       "      <td>7656387.0</td>\n",
       "      <td>4384.5</td>\n",
       "      <td>132151.0</td>\n",
       "    </tr>\n",
       "    <tr>\n",
       "      <th>Madrid</th>\n",
       "      <td>3122677.0</td>\n",
       "      <td>2715.0</td>\n",
       "      <td>75412.0</td>\n",
       "    </tr>\n",
       "    <tr>\n",
       "      <th>Barcelona</th>\n",
       "      <td>2343059.0</td>\n",
       "      <td>2417.5</td>\n",
       "      <td>87810.0</td>\n",
       "    </tr>\n",
       "    <tr>\n",
       "      <th>Berlin</th>\n",
       "      <td>1708922.0</td>\n",
       "      <td>2194.0</td>\n",
       "      <td>31098.0</td>\n",
       "    </tr>\n",
       "    <tr>\n",
       "      <th>Rome</th>\n",
       "      <td>1437239.0</td>\n",
       "      <td>1977.0</td>\n",
       "      <td>127624.0</td>\n",
       "    </tr>\n",
       "    <tr>\n",
       "      <th>Milan</th>\n",
       "      <td>1499166.0</td>\n",
       "      <td>1856.5</td>\n",
       "      <td>80958.0</td>\n",
       "    </tr>\n",
       "    <tr>\n",
       "      <th>Prague</th>\n",
       "      <td>671403.0</td>\n",
       "      <td>1341.0</td>\n",
       "      <td>37467.0</td>\n",
       "    </tr>\n",
       "    <tr>\n",
       "      <th>Lisbon</th>\n",
       "      <td>593507.0</td>\n",
       "      <td>1270.5</td>\n",
       "      <td>32930.0</td>\n",
       "    </tr>\n",
       "    <tr>\n",
       "      <th>Vienna</th>\n",
       "      <td>481336.0</td>\n",
       "      <td>1149.0</td>\n",
       "      <td>23504.0</td>\n",
       "    </tr>\n",
       "  </tbody>\n",
       "</table>\n",
       "</div>"
      ],
      "text/plain": [
       "              Ranking  Rating  Reviewsinnos\n",
       "City                                       \n",
       "London     10720418.0  5089.5      155481.0\n",
       "Paris       7656387.0  4384.5      132151.0\n",
       "Madrid      3122677.0  2715.0       75412.0\n",
       "Barcelona   2343059.0  2417.5       87810.0\n",
       "Berlin      1708922.0  2194.0       31098.0\n",
       "Rome        1437239.0  1977.0      127624.0\n",
       "Milan       1499166.0  1856.5       80958.0\n",
       "Prague       671403.0  1341.0       37467.0\n",
       "Lisbon       593507.0  1270.5       32930.0\n",
       "Vienna       481336.0  1149.0       23504.0"
      ]
     },
     "execution_count": 27,
     "metadata": {},
     "output_type": "execute_result"
    }
   ],
   "source": [
    "a = Rst.groupby(\"City\")\n",
    "a = a.sum()\n",
    "a = a.sort_values(['Rating'], ascending = False)\n",
    "a.head(10)"
   ]
  },
  {
   "cell_type": "code",
   "execution_count": 28,
   "metadata": {},
   "outputs": [
    {
     "data": {
      "text/html": [
       "<div>\n",
       "<style>\n",
       "    .dataframe thead tr:only-child th {\n",
       "        text-align: right;\n",
       "    }\n",
       "\n",
       "    .dataframe thead th {\n",
       "        text-align: left;\n",
       "    }\n",
       "\n",
       "    .dataframe tbody tr th {\n",
       "        vertical-align: top;\n",
       "    }\n",
       "</style>\n",
       "<table border=\"1\" class=\"dataframe\">\n",
       "  <thead>\n",
       "    <tr style=\"text-align: right;\">\n",
       "      <th></th>\n",
       "      <th>Ranking</th>\n",
       "      <th>Rating</th>\n",
       "      <th>Reviewsinnos</th>\n",
       "    </tr>\n",
       "    <tr>\n",
       "      <th>Reviews</th>\n",
       "      <th></th>\n",
       "      <th></th>\n",
       "      <th></th>\n",
       "    </tr>\n",
       "  </thead>\n",
       "  <tbody>\n",
       "    <tr>\n",
       "      <th>[[], []]</th>\n",
       "      <td>7347227.0</td>\n",
       "      <td>6085.0</td>\n",
       "      <td>14627.0</td>\n",
       "    </tr>\n",
       "    <tr>\n",
       "      <th>[['Best night ever!!!', 'Great bar!! We loved it'], ['02/09/2018', '02/04/2018']]</th>\n",
       "      <td>1053.0</td>\n",
       "      <td>15.0</td>\n",
       "      <td>183.0</td>\n",
       "    </tr>\n",
       "    <tr>\n",
       "      <th>[['Absolutely Perfect!!!', 'Small But Great!'], ['09/17/2017', '12/26/2015']]</th>\n",
       "      <td>21753.0</td>\n",
       "      <td>13.5</td>\n",
       "      <td>69.0</td>\n",
       "    </tr>\n",
       "    <tr>\n",
       "      <th>[['Best Meal in Porto for Me', 'Distinguished Food Experience'], ['12/29/2017', '12/23/2017']]</th>\n",
       "      <td>327.0</td>\n",
       "      <td>13.5</td>\n",
       "      <td>594.0</td>\n",
       "    </tr>\n",
       "    <tr>\n",
       "      <th>[['Stretchy pants', 'Time for a sushi break'], ['12/26/2017', '12/22/2017']]</th>\n",
       "      <td>864.0</td>\n",
       "      <td>12.0</td>\n",
       "      <td>2928.0</td>\n",
       "    </tr>\n",
       "    <tr>\n",
       "      <th>[['Massive portions!!', 'Gluten free Czech food was a treat'], ['12/13/2017', '12/06/2017']]</th>\n",
       "      <td>1611.0</td>\n",
       "      <td>12.0</td>\n",
       "      <td>2451.0</td>\n",
       "    </tr>\n",
       "    <tr>\n",
       "      <th>[['Nice sunday brunch but stolen jacket', 'Super nice place in the center of Brussels'], ['10/29/2017', '08/05/2017']]</th>\n",
       "      <td>3762.0</td>\n",
       "      <td>12.0</td>\n",
       "      <td>39.0</td>\n",
       "    </tr>\n",
       "    <tr>\n",
       "      <th>[['Quick stop', 'Nice bowl of Goulash in the sun'], ['01/03/2018', '11/28/2017']]</th>\n",
       "      <td>3489.0</td>\n",
       "      <td>10.5</td>\n",
       "      <td>780.0</td>\n",
       "    </tr>\n",
       "    <tr>\n",
       "      <th>[['New trendy decor and food. Lovely staff.'], ['01/05/2018']]</th>\n",
       "      <td>2966.0</td>\n",
       "      <td>10.0</td>\n",
       "      <td>NaN</td>\n",
       "    </tr>\n",
       "    <tr>\n",
       "      <th>[['Burger', 'Awesome'], ['12/08/2017', '11/11/2017']]</th>\n",
       "      <td>8814.0</td>\n",
       "      <td>10.0</td>\n",
       "      <td>30.0</td>\n",
       "    </tr>\n",
       "  </tbody>\n",
       "</table>\n",
       "</div>"
      ],
      "text/plain": [
       "                                                      Ranking  Rating  \\\n",
       "Reviews                                                                 \n",
       "[[], []]                                            7347227.0  6085.0   \n",
       "[['Best night ever!!!', 'Great bar!! We loved i...     1053.0    15.0   \n",
       "[['Absolutely Perfect!!!', 'Small But Great!'],...    21753.0    13.5   \n",
       "[['Best Meal in Porto for Me', 'Distinguished F...      327.0    13.5   \n",
       "[['Stretchy pants', 'Time for a sushi break'], ...      864.0    12.0   \n",
       "[['Massive portions!!', 'Gluten free Czech food...     1611.0    12.0   \n",
       "[['Nice sunday brunch but stolen jacket', 'Supe...     3762.0    12.0   \n",
       "[['Quick stop', 'Nice bowl of Goulash in the su...     3489.0    10.5   \n",
       "[['New trendy decor and food. Lovely staff.'], ...     2966.0    10.0   \n",
       "[['Burger', 'Awesome'], ['12/08/2017', '11/11/2...     8814.0    10.0   \n",
       "\n",
       "                                                    Reviewsinnos  \n",
       "Reviews                                                           \n",
       "[[], []]                                                 14627.0  \n",
       "[['Best night ever!!!', 'Great bar!! We loved i...         183.0  \n",
       "[['Absolutely Perfect!!!', 'Small But Great!'],...          69.0  \n",
       "[['Best Meal in Porto for Me', 'Distinguished F...         594.0  \n",
       "[['Stretchy pants', 'Time for a sushi break'], ...        2928.0  \n",
       "[['Massive portions!!', 'Gluten free Czech food...        2451.0  \n",
       "[['Nice sunday brunch but stolen jacket', 'Supe...          39.0  \n",
       "[['Quick stop', 'Nice bowl of Goulash in the su...         780.0  \n",
       "[['New trendy decor and food. Lovely staff.'], ...           NaN  \n",
       "[['Burger', 'Awesome'], ['12/08/2017', '11/11/2...          30.0  "
      ]
     },
     "execution_count": 28,
     "metadata": {},
     "output_type": "execute_result"
    }
   ],
   "source": [
    "c = Rst.groupby('Reviews').sum()\n",
    "c = c.sort_values(['Rating'], ascending=False)\n",
    "c.head(10)"
   ]
  },
  {
   "cell_type": "code",
   "execution_count": 257,
   "metadata": {
    "collapsed": true
   },
   "outputs": [],
   "source": [
    "#### Realtion of rating and price range ...."
   ]
  },
  {
   "cell_type": "code",
   "execution_count": 320,
   "metadata": {},
   "outputs": [
    {
     "data": {
      "text/plain": [
       "<matplotlib.axes._subplots.AxesSubplot at 0xa88f58ef0>"
      ]
     },
     "execution_count": 320,
     "metadata": {},
     "output_type": "execute_result"
    },
    {
     "data": {
      "image/png": "[encoded data removed]",
      "text/plain": [
       "<matplotlib.figure.Figure at 0xa88fc4198>"
      ]
     },
     "metadata": {},
     "output_type": "display_data"
    }
   ],
   "source": [
    "sns.boxplot(x=\"PriceinRange\",y=\"Rating\", data=Rst)    "
   ]
  },
  {
   "cell_type": "markdown",
   "metadata": {},
   "source": [
    "Having High prices and Low price rating almost have the same ratings.\n",
    "Also Low restaurants gives ratings from 1 ,2,3,4and 5 as well"
   ]
  },
  {
   "cell_type": "code",
   "execution_count": 259,
   "metadata": {
    "collapsed": true
   },
   "outputs": [],
   "source": [
    "### Realation of rating and No. of Reviews ..."
   ]
  },
  {
   "cell_type": "code",
   "execution_count": 260,
   "metadata": {},
   "outputs": [
    {
     "name": "stderr",
     "output_type": "stream",
     "text": [
      "E:\\python\\lib\\site-packages\\scipy\\stats\\stats.py:1633: FutureWarning: Using a non-tuple sequence for multidimensional indexing is deprecated; use `arr[tuple(seq)]` instead of `arr[seq]`. In the future this will be interpreted as an array index, `arr[np.array(seq)]`, which will result either in an error or a different result.\n",
      "  return np.add.reduce(sorted[indexer] * weights, axis=axis) / sumval\n"
     ]
    },
    {
     "data": {
      "text/plain": [
       "<matplotlib.axes._subplots.AxesSubplot at 0xa88e627b8>"
      ]
     },
     "execution_count": 260,
     "metadata": {},
     "output_type": "execute_result"
    },
    {
     "data": {
      "image/png": "[encoded data removed]",
      "text/plain": [
       "<matplotlib.figure.Figure at 0xa8289b860>"
      ]
     },
     "metadata": {},
     "output_type": "display_data"
    }
   ],
   "source": [
    "sns.barplot(x=\"Rating\",y=\"Reviewsinnos\", data=Rst)    "
   ]
  },
  {
   "cell_type": "markdown",
   "metadata": {},
   "source": [
    "From the above observed that 4 star rating and the 4.5 star rating have the maximum amount of reviews followed by the 3.5 and the 3.0"
   ]
  },
  {
   "cell_type": "markdown",
   "metadata": {},
   "source": [
    "Reviews per price range city wise ..."
   ]
  },
  {
   "cell_type": "markdown",
   "metadata": {},
   "source": [
    " Maximum 4.0 Rating restaurants and followed by 4.5 in our datasets ."
   ]
  },
  {
   "cell_type": "code",
   "execution_count": 29,
   "metadata": {},
   "outputs": [
    {
     "data": {
      "text/plain": [
       " 4.0    3217\n",
       " 4.5    2453\n",
       " 3.5    1547\n",
       " 5.0     893\n",
       " 3.0     694\n",
       " 2.5     229\n",
       " 2.0     113\n",
       " 1.0      66\n",
       " 1.5      30\n",
       "-1.0       2\n",
       "Name: Rating, dtype: int64"
      ]
     },
     "execution_count": 29,
     "metadata": {},
     "output_type": "execute_result"
    }
   ],
   "source": [
    "Rst.Rating.value_counts()"
   ]
  },
  {
   "cell_type": "code",
   "execution_count": 30,
   "metadata": {
    "collapsed": true
   },
   "outputs": [],
   "source": [
    "five_restaurants = Rst[Rst['Rating'] == 5]  ### 5 star restaurants ..."
   ]
  },
  {
   "cell_type": "code",
   "execution_count": 31,
   "metadata": {},
   "outputs": [
    {
     "data": {
      "text/html": [
       "<div>\n",
       "<style>\n",
       "    .dataframe thead tr:only-child th {\n",
       "        text-align: right;\n",
       "    }\n",
       "\n",
       "    .dataframe thead th {\n",
       "        text-align: left;\n",
       "    }\n",
       "\n",
       "    .dataframe tbody tr th {\n",
       "        vertical-align: top;\n",
       "    }\n",
       "</style>\n",
       "<table border=\"1\" class=\"dataframe\">\n",
       "  <thead>\n",
       "    <tr style=\"text-align: right;\">\n",
       "      <th></th>\n",
       "      <th>Name</th>\n",
       "      <th>City</th>\n",
       "      <th>Cuisine</th>\n",
       "      <th>Ranking</th>\n",
       "      <th>Rating</th>\n",
       "      <th>PriceinRange</th>\n",
       "      <th>Reviewsinnos</th>\n",
       "      <th>Reviews</th>\n",
       "    </tr>\n",
       "  </thead>\n",
       "  <tbody>\n",
       "    <tr>\n",
       "      <th>114941</th>\n",
       "      <td>Green Bar</td>\n",
       "      <td>Rome</td>\n",
       "      <td>['Italian']</td>\n",
       "      <td>5813.0</td>\n",
       "      <td>5.0</td>\n",
       "      <td>Unknown</td>\n",
       "      <td>2.0</td>\n",
       "      <td>[['Happy hour with Marco'], ['07/02/2015']]</td>\n",
       "    </tr>\n",
       "    <tr>\n",
       "      <th>17367</th>\n",
       "      <td>Man Kee (eh. Plumhaus)</td>\n",
       "      <td>Berlin</td>\n",
       "      <td>['Chinese', 'Asian', 'Thai']</td>\n",
       "      <td>3572.0</td>\n",
       "      <td>5.0</td>\n",
       "      <td>Mid</td>\n",
       "      <td>2.0</td>\n",
       "      <td>[[], []]</td>\n",
       "    </tr>\n",
       "    <tr>\n",
       "      <th>97657</th>\n",
       "      <td>Ryaki</td>\n",
       "      <td>Paris</td>\n",
       "      <td>NaN</td>\n",
       "      <td>8261.0</td>\n",
       "      <td>5.0</td>\n",
       "      <td>Unknown</td>\n",
       "      <td>NaN</td>\n",
       "      <td>[[], []]</td>\n",
       "    </tr>\n",
       "    <tr>\n",
       "      <th>71435</th>\n",
       "      <td>La Cocina de Lola</td>\n",
       "      <td>Madrid</td>\n",
       "      <td>['Mexican']</td>\n",
       "      <td>4058.0</td>\n",
       "      <td>5.0</td>\n",
       "      <td>Unknown</td>\n",
       "      <td>NaN</td>\n",
       "      <td>[[], []]</td>\n",
       "    </tr>\n",
       "    <tr>\n",
       "      <th>53688</th>\n",
       "      <td>Vittorio's Deli</td>\n",
       "      <td>London</td>\n",
       "      <td>NaN</td>\n",
       "      <td>8117.0</td>\n",
       "      <td>5.0</td>\n",
       "      <td>Unknown</td>\n",
       "      <td>2.0</td>\n",
       "      <td>[['Delicious Deli', 'Excellent home-made food'...</td>\n",
       "    </tr>\n",
       "    <tr>\n",
       "      <th>67719</th>\n",
       "      <td>Enklima</td>\n",
       "      <td>Madrid</td>\n",
       "      <td>['Fusion', 'Mediterranean', 'Spanish']</td>\n",
       "      <td>341.0</td>\n",
       "      <td>5.0</td>\n",
       "      <td>Mid</td>\n",
       "      <td>84.0</td>\n",
       "      <td>[['A wonderful surprise', 'Fantastic food!'], ...</td>\n",
       "    </tr>\n",
       "    <tr>\n",
       "      <th>53696</th>\n",
       "      <td>A y A</td>\n",
       "      <td>London</td>\n",
       "      <td>NaN</td>\n",
       "      <td>8125.0</td>\n",
       "      <td>5.0</td>\n",
       "      <td>Unknown</td>\n",
       "      <td>7.0</td>\n",
       "      <td>[['Best place ever in London!!!!', 'Delicious,...</td>\n",
       "    </tr>\n",
       "    <tr>\n",
       "      <th>43243</th>\n",
       "      <td>J&amp;f Restaurant</td>\n",
       "      <td>Lisbon</td>\n",
       "      <td>['Indian', 'European', 'Contemporary', 'Portug...</td>\n",
       "      <td>2153.0</td>\n",
       "      <td>5.0</td>\n",
       "      <td>low</td>\n",
       "      <td>3.0</td>\n",
       "      <td>[['Local nice place in non tourist district', ...</td>\n",
       "    </tr>\n",
       "    <tr>\n",
       "      <th>54518</th>\n",
       "      <td>John Charlick Foods</td>\n",
       "      <td>London</td>\n",
       "      <td>NaN</td>\n",
       "      <td>8947.0</td>\n",
       "      <td>5.0</td>\n",
       "      <td>Unknown</td>\n",
       "      <td>4.0</td>\n",
       "      <td>[['Absolutely fantastic lunch in London', 'Bes...</td>\n",
       "    </tr>\n",
       "    <tr>\n",
       "      <th>122647</th>\n",
       "      <td>Blekitny Zaulek</td>\n",
       "      <td>Warsaw</td>\n",
       "      <td>NaN</td>\n",
       "      <td>1141.0</td>\n",
       "      <td>5.0</td>\n",
       "      <td>Unknown</td>\n",
       "      <td>NaN</td>\n",
       "      <td>[['Mirage'], ['05/28/2012']]</td>\n",
       "    </tr>\n",
       "    <tr>\n",
       "      <th>1570</th>\n",
       "      <td>Le Baravin</td>\n",
       "      <td>Amsterdam</td>\n",
       "      <td>['French', 'European']</td>\n",
       "      <td>1574.0</td>\n",
       "      <td>5.0</td>\n",
       "      <td>Unknown</td>\n",
       "      <td>5.0</td>\n",
       "      <td>[['Amazing French wines and food', 'A French G...</td>\n",
       "    </tr>\n",
       "    <tr>\n",
       "      <th>54868</th>\n",
       "      <td>The Millwall Cafe</td>\n",
       "      <td>London</td>\n",
       "      <td>NaN</td>\n",
       "      <td>9297.0</td>\n",
       "      <td>5.0</td>\n",
       "      <td>Unknown</td>\n",
       "      <td>NaN</td>\n",
       "      <td>[['Brilliant breakfast.'], ['08/18/2017']]</td>\n",
       "    </tr>\n",
       "    <tr>\n",
       "      <th>9525</th>\n",
       "      <td>Paradise</td>\n",
       "      <td>Barcelona</td>\n",
       "      <td>NaN</td>\n",
       "      <td>4154.0</td>\n",
       "      <td>5.0</td>\n",
       "      <td>Unknown</td>\n",
       "      <td>NaN</td>\n",
       "      <td>[[], []]</td>\n",
       "    </tr>\n",
       "    <tr>\n",
       "      <th>96055</th>\n",
       "      <td>Aux Merveilleux de Fred</td>\n",
       "      <td>Paris</td>\n",
       "      <td>['French']</td>\n",
       "      <td>6659.0</td>\n",
       "      <td>5.0</td>\n",
       "      <td>Unknown</td>\n",
       "      <td>3.0</td>\n",
       "      <td>[['A.M.A.Z.I.N.G', 'Marvellous by name, marvel...</td>\n",
       "    </tr>\n",
       "    <tr>\n",
       "      <th>51272</th>\n",
       "      <td>Carmel by the Green</td>\n",
       "      <td>London</td>\n",
       "      <td>['Cafe', 'Contemporary', 'Healthy']</td>\n",
       "      <td>5701.0</td>\n",
       "      <td>5.0</td>\n",
       "      <td>low</td>\n",
       "      <td>7.0</td>\n",
       "      <td>[['Cool pit stop - great snacks', 'Best place ...</td>\n",
       "    </tr>\n",
       "    <tr>\n",
       "      <th>54605</th>\n",
       "      <td>Royal Fish Bar</td>\n",
       "      <td>London</td>\n",
       "      <td>['Seafood']</td>\n",
       "      <td>9034.0</td>\n",
       "      <td>5.0</td>\n",
       "      <td>Unknown</td>\n",
       "      <td>4.0</td>\n",
       "      <td>[['Fish and chips....mmmmm', 'Excellent food a...</td>\n",
       "    </tr>\n",
       "    <tr>\n",
       "      <th>119654</th>\n",
       "      <td>Cafe Barcelona</td>\n",
       "      <td>Vienna</td>\n",
       "      <td>NaN</td>\n",
       "      <td>1872.0</td>\n",
       "      <td>5.0</td>\n",
       "      <td>Unknown</td>\n",
       "      <td>NaN</td>\n",
       "      <td>[['Went because of the NYT hype but actually.....</td>\n",
       "    </tr>\n",
       "    <tr>\n",
       "      <th>17231</th>\n",
       "      <td>Wirtshaus zum Oberstubchen</td>\n",
       "      <td>Berlin</td>\n",
       "      <td>NaN</td>\n",
       "      <td>3436.0</td>\n",
       "      <td>5.0</td>\n",
       "      <td>Unknown</td>\n",
       "      <td>NaN</td>\n",
       "      <td>[[], []]</td>\n",
       "    </tr>\n",
       "    <tr>\n",
       "      <th>6630</th>\n",
       "      <td>Patachou</td>\n",
       "      <td>Barcelona</td>\n",
       "      <td>['French', 'Cafe', 'Fast Food', 'European', 'S...</td>\n",
       "      <td>1259.0</td>\n",
       "      <td>5.0</td>\n",
       "      <td>low</td>\n",
       "      <td>21.0</td>\n",
       "      <td>[['\"Chouxsome\"!', 'new favourite'], ['12/05/20...</td>\n",
       "    </tr>\n",
       "    <tr>\n",
       "      <th>40498</th>\n",
       "      <td>Ma Llow</td>\n",
       "      <td>Krakow</td>\n",
       "      <td>NaN</td>\n",
       "      <td>760.0</td>\n",
       "      <td>5.0</td>\n",
       "      <td>Unknown</td>\n",
       "      <td>NaN</td>\n",
       "      <td>[[], []]</td>\n",
       "    </tr>\n",
       "    <tr>\n",
       "      <th>4517</th>\n",
       "      <td>Rethemnos</td>\n",
       "      <td>Athens</td>\n",
       "      <td>NaN</td>\n",
       "      <td>1085.0</td>\n",
       "      <td>5.0</td>\n",
       "      <td>Unknown</td>\n",
       "      <td>NaN</td>\n",
       "      <td>[[], []]</td>\n",
       "    </tr>\n",
       "    <tr>\n",
       "      <th>33206</th>\n",
       "      <td>Jollof Hub</td>\n",
       "      <td>Edinburgh</td>\n",
       "      <td>NaN</td>\n",
       "      <td>1264.0</td>\n",
       "      <td>5.0</td>\n",
       "      <td>Unknown</td>\n",
       "      <td>6.0</td>\n",
       "      <td>[['Something different', 'Unadulterated authen...</td>\n",
       "    </tr>\n",
       "    <tr>\n",
       "      <th>119561</th>\n",
       "      <td>Spice Restaurant - Bar</td>\n",
       "      <td>Vienna</td>\n",
       "      <td>['Thai']</td>\n",
       "      <td>1778.0</td>\n",
       "      <td>5.0</td>\n",
       "      <td>Unknown</td>\n",
       "      <td>3.0</td>\n",
       "      <td>[['Valentines day', 'Private Bar'], ['02/14/20...</td>\n",
       "    </tr>\n",
       "    <tr>\n",
       "      <th>8209</th>\n",
       "      <td>La Filipina Bar Restaurant</td>\n",
       "      <td>Barcelona</td>\n",
       "      <td>['Filipino', 'Spanish', 'Asian']</td>\n",
       "      <td>2838.0</td>\n",
       "      <td>5.0</td>\n",
       "      <td>Mid</td>\n",
       "      <td>8.0</td>\n",
       "      <td>[['Muy Deliciosa!'], ['07/16/2017']]</td>\n",
       "    </tr>\n",
       "    <tr>\n",
       "      <th>90086</th>\n",
       "      <td>Jeongane</td>\n",
       "      <td>Paris</td>\n",
       "      <td>['Asian', 'Korean', 'Vegetarian Friendly']</td>\n",
       "      <td>690.0</td>\n",
       "      <td>5.0</td>\n",
       "      <td>low</td>\n",
       "      <td>58.0</td>\n",
       "      <td>[['Absolutely amazing', 'Non-barbecue dishes w...</td>\n",
       "    </tr>\n",
       "    <tr>\n",
       "      <th>113172</th>\n",
       "      <td>Cooperativa Giuseppe Garibaldi</td>\n",
       "      <td>Rome</td>\n",
       "      <td>NaN</td>\n",
       "      <td>4043.0</td>\n",
       "      <td>5.0</td>\n",
       "      <td>Unknown</td>\n",
       "      <td>8.0</td>\n",
       "      <td>[[], []]</td>\n",
       "    </tr>\n",
       "    <tr>\n",
       "      <th>53608</th>\n",
       "      <td>The Food Yard</td>\n",
       "      <td>London</td>\n",
       "      <td>['Mediterranean']</td>\n",
       "      <td>8037.0</td>\n",
       "      <td>5.0</td>\n",
       "      <td>low</td>\n",
       "      <td>4.0</td>\n",
       "      <td>[['Fresh and fabulous', 'Amazing food'], ['09/...</td>\n",
       "    </tr>\n",
       "    <tr>\n",
       "      <th>52901</th>\n",
       "      <td>Luigi's Sandwich Bar</td>\n",
       "      <td>London</td>\n",
       "      <td>NaN</td>\n",
       "      <td>7330.0</td>\n",
       "      <td>5.0</td>\n",
       "      <td>Unknown</td>\n",
       "      <td>4.0</td>\n",
       "      <td>[['SMALL BUT BIG CHOICE', 'Great place and ser...</td>\n",
       "    </tr>\n",
       "    <tr>\n",
       "      <th>25397</th>\n",
       "      <td>Paneer</td>\n",
       "      <td>Budapest</td>\n",
       "      <td>['Fast Food', 'European', 'Central European', ...</td>\n",
       "      <td>252.0</td>\n",
       "      <td>5.0</td>\n",
       "      <td>Mid</td>\n",
       "      <td>89.0</td>\n",
       "      <td>[['Perfect for cheese lovers', 'For cheese lov...</td>\n",
       "    </tr>\n",
       "    <tr>\n",
       "      <th>52732</th>\n",
       "      <td>Rokkon</td>\n",
       "      <td>London</td>\n",
       "      <td>['Sushi']</td>\n",
       "      <td>7161.0</td>\n",
       "      <td>5.0</td>\n",
       "      <td>Unknown</td>\n",
       "      <td>7.0</td>\n",
       "      <td>[['Charming Japanese, true to its origin', 'Su...</td>\n",
       "    </tr>\n",
       "    <tr>\n",
       "      <th>...</th>\n",
       "      <td>...</td>\n",
       "      <td>...</td>\n",
       "      <td>...</td>\n",
       "      <td>...</td>\n",
       "      <td>...</td>\n",
       "      <td>...</td>\n",
       "      <td>...</td>\n",
       "      <td>...</td>\n",
       "    </tr>\n",
       "    <tr>\n",
       "      <th>122128</th>\n",
       "      <td>Manoush</td>\n",
       "      <td>Warsaw</td>\n",
       "      <td>['International', 'Mediterranean']</td>\n",
       "      <td>621.0</td>\n",
       "      <td>5.0</td>\n",
       "      <td>Mid</td>\n",
       "      <td>11.0</td>\n",
       "      <td>[['Manoush is Excellent', 'Realy nice place di...</td>\n",
       "    </tr>\n",
       "    <tr>\n",
       "      <th>122282</th>\n",
       "      <td>Zmiana Klimatu</td>\n",
       "      <td>Warsaw</td>\n",
       "      <td>['Polish', 'European', 'Mediterranean']</td>\n",
       "      <td>775.0</td>\n",
       "      <td>5.0</td>\n",
       "      <td>Mid</td>\n",
       "      <td>12.0</td>\n",
       "      <td>[['Fine place for a pizza', 'Cozy restaurant w...</td>\n",
       "    </tr>\n",
       "    <tr>\n",
       "      <th>43480</th>\n",
       "      <td>The Lingerie Restaurant</td>\n",
       "      <td>Lisbon</td>\n",
       "      <td>['European', 'Portuguese']</td>\n",
       "      <td>2390.0</td>\n",
       "      <td>5.0</td>\n",
       "      <td>High</td>\n",
       "      <td>9.0</td>\n",
       "      <td>[[], []]</td>\n",
       "    </tr>\n",
       "    <tr>\n",
       "      <th>122056</th>\n",
       "      <td>Mandala</td>\n",
       "      <td>Warsaw</td>\n",
       "      <td>NaN</td>\n",
       "      <td>549.0</td>\n",
       "      <td>5.0</td>\n",
       "      <td>Unknown</td>\n",
       "      <td>6.0</td>\n",
       "      <td>[[], []]</td>\n",
       "    </tr>\n",
       "    <tr>\n",
       "      <th>84542</th>\n",
       "      <td>Schneewittchen</td>\n",
       "      <td>Munich</td>\n",
       "      <td>NaN</td>\n",
       "      <td>942.0</td>\n",
       "      <td>5.0</td>\n",
       "      <td>Unknown</td>\n",
       "      <td>13.0</td>\n",
       "      <td>[['Lovely cafe', 'Fun Sunday brunch'], ['06/26...</td>\n",
       "    </tr>\n",
       "    <tr>\n",
       "      <th>21162</th>\n",
       "      <td>U Gulky</td>\n",
       "      <td>Bratislava</td>\n",
       "      <td>NaN</td>\n",
       "      <td>288.0</td>\n",
       "      <td>5.0</td>\n",
       "      <td>Unknown</td>\n",
       "      <td>5.0</td>\n",
       "      <td>[['Hidden gem under Bratislava castle 😊', 'Bes...</td>\n",
       "    </tr>\n",
       "    <tr>\n",
       "      <th>9546</th>\n",
       "      <td>Zodiac</td>\n",
       "      <td>Barcelona</td>\n",
       "      <td>NaN</td>\n",
       "      <td>4175.0</td>\n",
       "      <td>5.0</td>\n",
       "      <td>Unknown</td>\n",
       "      <td>NaN</td>\n",
       "      <td>[[], []]</td>\n",
       "    </tr>\n",
       "    <tr>\n",
       "      <th>16960</th>\n",
       "      <td>Hasir</td>\n",
       "      <td>Berlin</td>\n",
       "      <td>NaN</td>\n",
       "      <td>3165.0</td>\n",
       "      <td>5.0</td>\n",
       "      <td>Unknown</td>\n",
       "      <td>5.0</td>\n",
       "      <td>[['Best Classical Turkish Cousine', 'As good a...</td>\n",
       "    </tr>\n",
       "    <tr>\n",
       "      <th>23547</th>\n",
       "      <td>Sos Freshfood</td>\n",
       "      <td>Brussels</td>\n",
       "      <td>['Healthy']</td>\n",
       "      <td>1589.0</td>\n",
       "      <td>5.0</td>\n",
       "      <td>Unknown</td>\n",
       "      <td>2.0</td>\n",
       "      <td>[[], []]</td>\n",
       "    </tr>\n",
       "    <tr>\n",
       "      <th>39887</th>\n",
       "      <td>Gogo Burger</td>\n",
       "      <td>Krakow</td>\n",
       "      <td>['American', 'Fast Food', 'Healthy', 'Vegetari...</td>\n",
       "      <td>149.0</td>\n",
       "      <td>5.0</td>\n",
       "      <td>low</td>\n",
       "      <td>43.0</td>\n",
       "      <td>[['Great burgers, super friendly hosts', 'Simp...</td>\n",
       "    </tr>\n",
       "    <tr>\n",
       "      <th>111003</th>\n",
       "      <td>il bazar dello zucchero</td>\n",
       "      <td>Rome</td>\n",
       "      <td>NaN</td>\n",
       "      <td>1874.0</td>\n",
       "      <td>5.0</td>\n",
       "      <td>Unknown</td>\n",
       "      <td>60.0</td>\n",
       "      <td>[[], []]</td>\n",
       "    </tr>\n",
       "    <tr>\n",
       "      <th>23160</th>\n",
       "      <td>Renard Bakery</td>\n",
       "      <td>Brussels</td>\n",
       "      <td>['French', 'American', 'Belgian', 'European', ...</td>\n",
       "      <td>1217.0</td>\n",
       "      <td>5.0</td>\n",
       "      <td>Mid</td>\n",
       "      <td>4.0</td>\n",
       "      <td>[['AMAZING...', 'French Bakery at its best'], ...</td>\n",
       "    </tr>\n",
       "    <tr>\n",
       "      <th>115006</th>\n",
       "      <td>Ye Xiuzhen</td>\n",
       "      <td>Rome</td>\n",
       "      <td>NaN</td>\n",
       "      <td>5878.0</td>\n",
       "      <td>5.0</td>\n",
       "      <td>Unknown</td>\n",
       "      <td>NaN</td>\n",
       "      <td>[[], []]</td>\n",
       "    </tr>\n",
       "    <tr>\n",
       "      <th>54764</th>\n",
       "      <td>Cally Cafe</td>\n",
       "      <td>London</td>\n",
       "      <td>NaN</td>\n",
       "      <td>9193.0</td>\n",
       "      <td>5.0</td>\n",
       "      <td>Unknown</td>\n",
       "      <td>NaN</td>\n",
       "      <td>[['Little Gem of a Cafe'], ['11/28/2016']]</td>\n",
       "    </tr>\n",
       "    <tr>\n",
       "      <th>4479</th>\n",
       "      <td>Handmade</td>\n",
       "      <td>Athens</td>\n",
       "      <td>['Cafe', 'Healthy', 'Street Food']</td>\n",
       "      <td>1047.0</td>\n",
       "      <td>5.0</td>\n",
       "      <td>Mid</td>\n",
       "      <td>2.0</td>\n",
       "      <td>[['Best coffee ever..'], ['11/21/2015']]</td>\n",
       "    </tr>\n",
       "    <tr>\n",
       "      <th>114344</th>\n",
       "      <td>Coffee Time</td>\n",
       "      <td>Rome</td>\n",
       "      <td>['Bar', 'Italian']</td>\n",
       "      <td>5215.0</td>\n",
       "      <td>5.0</td>\n",
       "      <td>Mid</td>\n",
       "      <td>4.0</td>\n",
       "      <td>[[], []]</td>\n",
       "    </tr>\n",
       "    <tr>\n",
       "      <th>97491</th>\n",
       "      <td>jia he</td>\n",
       "      <td>Paris</td>\n",
       "      <td>['Chinese', 'Asian']</td>\n",
       "      <td>8095.0</td>\n",
       "      <td>5.0</td>\n",
       "      <td>Unknown</td>\n",
       "      <td>2.0</td>\n",
       "      <td>[[], []]</td>\n",
       "    </tr>\n",
       "    <tr>\n",
       "      <th>56412</th>\n",
       "      <td>Dhan</td>\n",
       "      <td>London</td>\n",
       "      <td>['Indian']</td>\n",
       "      <td>10842.0</td>\n",
       "      <td>5.0</td>\n",
       "      <td>Unknown</td>\n",
       "      <td>6.0</td>\n",
       "      <td>[['Nice stadium and friendly folks', 'Superb f...</td>\n",
       "    </tr>\n",
       "    <tr>\n",
       "      <th>97398</th>\n",
       "      <td>Legoutdu9</td>\n",
       "      <td>Paris</td>\n",
       "      <td>['Asian', 'Contemporary', 'Fusion']</td>\n",
       "      <td>8002.0</td>\n",
       "      <td>5.0</td>\n",
       "      <td>Mid</td>\n",
       "      <td>NaN</td>\n",
       "      <td>[[], []]</td>\n",
       "    </tr>\n",
       "    <tr>\n",
       "      <th>85150</th>\n",
       "      <td>Bab Al Hara</td>\n",
       "      <td>Munich</td>\n",
       "      <td>['Lebanese', 'Mediterranean', 'Middle Eastern'...</td>\n",
       "      <td>1554.0</td>\n",
       "      <td>5.0</td>\n",
       "      <td>Unknown</td>\n",
       "      <td>NaN</td>\n",
       "      <td>[['Great Syrian food'], ['10/07/2017']]</td>\n",
       "    </tr>\n",
       "    <tr>\n",
       "      <th>12870</th>\n",
       "      <td>Bar Bomberos</td>\n",
       "      <td>Barcelona</td>\n",
       "      <td>['Bar', 'Pub']</td>\n",
       "      <td>7499.0</td>\n",
       "      <td>5.0</td>\n",
       "      <td>Mid</td>\n",
       "      <td>8.0</td>\n",
       "      <td>[['Nice place to watch football', 'love this p...</td>\n",
       "    </tr>\n",
       "    <tr>\n",
       "      <th>65775</th>\n",
       "      <td>Uno pizza</td>\n",
       "      <td>Lyon</td>\n",
       "      <td>NaN</td>\n",
       "      <td>1324.0</td>\n",
       "      <td>5.0</td>\n",
       "      <td>Unknown</td>\n",
       "      <td>4.0</td>\n",
       "      <td>[[], []]</td>\n",
       "    </tr>\n",
       "    <tr>\n",
       "      <th>54653</th>\n",
       "      <td>Katies</td>\n",
       "      <td>London</td>\n",
       "      <td>NaN</td>\n",
       "      <td>9082.0</td>\n",
       "      <td>5.0</td>\n",
       "      <td>Unknown</td>\n",
       "      <td>NaN</td>\n",
       "      <td>[['Very nice depending on what you get'], ['02...</td>\n",
       "    </tr>\n",
       "    <tr>\n",
       "      <th>114362</th>\n",
       "      <td>Dar Bruschettaro</td>\n",
       "      <td>Rome</td>\n",
       "      <td>['Brew Pub']</td>\n",
       "      <td>5233.0</td>\n",
       "      <td>5.0</td>\n",
       "      <td>Unknown</td>\n",
       "      <td>6.0</td>\n",
       "      <td>[[], []]</td>\n",
       "    </tr>\n",
       "    <tr>\n",
       "      <th>42422</th>\n",
       "      <td>Snack Chinese dong</td>\n",
       "      <td>Lisbon</td>\n",
       "      <td>['Chinese', 'Vegetarian Friendly']</td>\n",
       "      <td>1330.0</td>\n",
       "      <td>5.0</td>\n",
       "      <td>low</td>\n",
       "      <td>7.0</td>\n",
       "      <td>[['Yummy!', 'Snack chinese dong'], ['12/30/201...</td>\n",
       "    </tr>\n",
       "    <tr>\n",
       "      <th>41397</th>\n",
       "      <td>Quase Cafe</td>\n",
       "      <td>Lisbon</td>\n",
       "      <td>['Cafe', 'Portuguese', 'European', 'Vegetarian...</td>\n",
       "      <td>305.0</td>\n",
       "      <td>5.0</td>\n",
       "      <td>low</td>\n",
       "      <td>73.0</td>\n",
       "      <td>[['Cozy place, great food, nice staff', 'Cozy ...</td>\n",
       "    </tr>\n",
       "    <tr>\n",
       "      <th>87460</th>\n",
       "      <td>Docinhos da Ana</td>\n",
       "      <td>Oporto</td>\n",
       "      <td>['European', 'Portuguese']</td>\n",
       "      <td>857.0</td>\n",
       "      <td>5.0</td>\n",
       "      <td>low</td>\n",
       "      <td>3.0</td>\n",
       "      <td>[[], []]</td>\n",
       "    </tr>\n",
       "    <tr>\n",
       "      <th>115766</th>\n",
       "      <td>The Artisan</td>\n",
       "      <td>Stockholm</td>\n",
       "      <td>['Italian', 'Bar', 'Pizza', 'Fast Food', 'Pub'...</td>\n",
       "      <td>688.0</td>\n",
       "      <td>5.0</td>\n",
       "      <td>Mid</td>\n",
       "      <td>7.0</td>\n",
       "      <td>[['love it 🍕🇮🇹', 'Super pizza'], ['10/14/2017'...</td>\n",
       "    </tr>\n",
       "    <tr>\n",
       "      <th>85200</th>\n",
       "      <td>Restaurant-Bar \"Zur Stub'n\"</td>\n",
       "      <td>Munich</td>\n",
       "      <td>['International']</td>\n",
       "      <td>1604.0</td>\n",
       "      <td>5.0</td>\n",
       "      <td>Unknown</td>\n",
       "      <td>2.0</td>\n",
       "      <td>[[], []]</td>\n",
       "    </tr>\n",
       "    <tr>\n",
       "      <th>55106</th>\n",
       "      <td>Lovelygloworm Cafe</td>\n",
       "      <td>London</td>\n",
       "      <td>['Cafe']</td>\n",
       "      <td>9535.0</td>\n",
       "      <td>5.0</td>\n",
       "      <td>Unknown</td>\n",
       "      <td>NaN</td>\n",
       "      <td>[['amazing amazing amazing food and great cus....</td>\n",
       "    </tr>\n",
       "  </tbody>\n",
       "</table>\n",
       "<p>893 rows × 8 columns</p>\n",
       "</div>"
      ],
      "text/plain": [
       "                                  Name        City  \\\n",
       "114941                       Green Bar        Rome   \n",
       "17367           Man Kee (eh. Plumhaus)      Berlin   \n",
       "97657                            Ryaki       Paris   \n",
       "71435                La Cocina de Lola      Madrid   \n",
       "53688                  Vittorio's Deli      London   \n",
       "67719                          Enklima      Madrid   \n",
       "53696                            A y A      London   \n",
       "43243                   J&f Restaurant      Lisbon   \n",
       "54518              John Charlick Foods      London   \n",
       "122647                 Blekitny Zaulek      Warsaw   \n",
       "1570                        Le Baravin   Amsterdam   \n",
       "54868                The Millwall Cafe      London   \n",
       "9525                          Paradise   Barcelona   \n",
       "96055          Aux Merveilleux de Fred       Paris   \n",
       "51272              Carmel by the Green      London   \n",
       "54605                   Royal Fish Bar      London   \n",
       "119654                  Cafe Barcelona      Vienna   \n",
       "17231       Wirtshaus zum Oberstubchen      Berlin   \n",
       "6630                          Patachou   Barcelona   \n",
       "40498                          Ma Llow      Krakow   \n",
       "4517                         Rethemnos      Athens   \n",
       "33206                       Jollof Hub   Edinburgh   \n",
       "119561          Spice Restaurant - Bar      Vienna   \n",
       "8209        La Filipina Bar Restaurant   Barcelona   \n",
       "90086                         Jeongane       Paris   \n",
       "113172  Cooperativa Giuseppe Garibaldi        Rome   \n",
       "53608                    The Food Yard      London   \n",
       "52901             Luigi's Sandwich Bar      London   \n",
       "25397                           Paneer    Budapest   \n",
       "52732                           Rokkon      London   \n",
       "...                                ...         ...   \n",
       "122128                         Manoush      Warsaw   \n",
       "122282                  Zmiana Klimatu      Warsaw   \n",
       "43480          The Lingerie Restaurant      Lisbon   \n",
       "122056                         Mandala      Warsaw   \n",
       "84542                   Schneewittchen      Munich   \n",
       "21162                          U Gulky  Bratislava   \n",
       "9546                            Zodiac   Barcelona   \n",
       "16960                            Hasir      Berlin   \n",
       "23547                    Sos Freshfood    Brussels   \n",
       "39887                      Gogo Burger      Krakow   \n",
       "111003         il bazar dello zucchero        Rome   \n",
       "23160                    Renard Bakery    Brussels   \n",
       "115006                      Ye Xiuzhen        Rome   \n",
       "54764                       Cally Cafe      London   \n",
       "4479                          Handmade      Athens   \n",
       "114344                     Coffee Time        Rome   \n",
       "97491                           jia he       Paris   \n",
       "56412                             Dhan      London   \n",
       "97398                        Legoutdu9       Paris   \n",
       "85150                      Bab Al Hara      Munich   \n",
       "12870                     Bar Bomberos   Barcelona   \n",
       "65775                        Uno pizza        Lyon   \n",
       "54653                           Katies      London   \n",
       "114362                Dar Bruschettaro        Rome   \n",
       "42422               Snack Chinese dong      Lisbon   \n",
       "41397                       Quase Cafe      Lisbon   \n",
       "87460                  Docinhos da Ana      Oporto   \n",
       "115766                     The Artisan   Stockholm   \n",
       "85200      Restaurant-Bar \"Zur Stub'n\"      Munich   \n",
       "55106               Lovelygloworm Cafe      London   \n",
       "\n",
       "                                                  Cuisine  Ranking  Rating  \\\n",
       "114941                                        ['Italian']   5813.0     5.0   \n",
       "17367                        ['Chinese', 'Asian', 'Thai']   3572.0     5.0   \n",
       "97657                                                 NaN   8261.0     5.0   \n",
       "71435                                         ['Mexican']   4058.0     5.0   \n",
       "53688                                                 NaN   8117.0     5.0   \n",
       "67719              ['Fusion', 'Mediterranean', 'Spanish']    341.0     5.0   \n",
       "53696                                                 NaN   8125.0     5.0   \n",
       "43243   ['Indian', 'European', 'Contemporary', 'Portug...   2153.0     5.0   \n",
       "54518                                                 NaN   8947.0     5.0   \n",
       "122647                                                NaN   1141.0     5.0   \n",
       "1570                               ['French', 'European']   1574.0     5.0   \n",
       "54868                                                 NaN   9297.0     5.0   \n",
       "9525                                                  NaN   4154.0     5.0   \n",
       "96055                                          ['French']   6659.0     5.0   \n",
       "51272                 ['Cafe', 'Contemporary', 'Healthy']   5701.0     5.0   \n",
       "54605                                         ['Seafood']   9034.0     5.0   \n",
       "119654                                                NaN   1872.0     5.0   \n",
       "17231                                                 NaN   3436.0     5.0   \n",
       "6630    ['French', 'Cafe', 'Fast Food', 'European', 'S...   1259.0     5.0   \n",
       "40498                                                 NaN    760.0     5.0   \n",
       "4517                                                  NaN   1085.0     5.0   \n",
       "33206                                                 NaN   1264.0     5.0   \n",
       "119561                                           ['Thai']   1778.0     5.0   \n",
       "8209                     ['Filipino', 'Spanish', 'Asian']   2838.0     5.0   \n",
       "90086          ['Asian', 'Korean', 'Vegetarian Friendly']    690.0     5.0   \n",
       "113172                                                NaN   4043.0     5.0   \n",
       "53608                                   ['Mediterranean']   8037.0     5.0   \n",
       "52901                                                 NaN   7330.0     5.0   \n",
       "25397   ['Fast Food', 'European', 'Central European', ...    252.0     5.0   \n",
       "52732                                           ['Sushi']   7161.0     5.0   \n",
       "...                                                   ...      ...     ...   \n",
       "122128                 ['International', 'Mediterranean']    621.0     5.0   \n",
       "122282            ['Polish', 'European', 'Mediterranean']    775.0     5.0   \n",
       "43480                          ['European', 'Portuguese']   2390.0     5.0   \n",
       "122056                                                NaN    549.0     5.0   \n",
       "84542                                                 NaN    942.0     5.0   \n",
       "21162                                                 NaN    288.0     5.0   \n",
       "9546                                                  NaN   4175.0     5.0   \n",
       "16960                                                 NaN   3165.0     5.0   \n",
       "23547                                         ['Healthy']   1589.0     5.0   \n",
       "39887   ['American', 'Fast Food', 'Healthy', 'Vegetari...    149.0     5.0   \n",
       "111003                                                NaN   1874.0     5.0   \n",
       "23160   ['French', 'American', 'Belgian', 'European', ...   1217.0     5.0   \n",
       "115006                                                NaN   5878.0     5.0   \n",
       "54764                                                 NaN   9193.0     5.0   \n",
       "4479                   ['Cafe', 'Healthy', 'Street Food']   1047.0     5.0   \n",
       "114344                                 ['Bar', 'Italian']   5215.0     5.0   \n",
       "97491                                ['Chinese', 'Asian']   8095.0     5.0   \n",
       "56412                                          ['Indian']  10842.0     5.0   \n",
       "97398                 ['Asian', 'Contemporary', 'Fusion']   8002.0     5.0   \n",
       "85150   ['Lebanese', 'Mediterranean', 'Middle Eastern'...   1554.0     5.0   \n",
       "12870                                      ['Bar', 'Pub']   7499.0     5.0   \n",
       "65775                                                 NaN   1324.0     5.0   \n",
       "54653                                                 NaN   9082.0     5.0   \n",
       "114362                                       ['Brew Pub']   5233.0     5.0   \n",
       "42422                  ['Chinese', 'Vegetarian Friendly']   1330.0     5.0   \n",
       "41397   ['Cafe', 'Portuguese', 'European', 'Vegetarian...    305.0     5.0   \n",
       "87460                          ['European', 'Portuguese']    857.0     5.0   \n",
       "115766  ['Italian', 'Bar', 'Pizza', 'Fast Food', 'Pub'...    688.0     5.0   \n",
       "85200                                   ['International']   1604.0     5.0   \n",
       "55106                                            ['Cafe']   9535.0     5.0   \n",
       "\n",
       "       PriceinRange  Reviewsinnos  \\\n",
       "114941      Unknown           2.0   \n",
       "17367           Mid           2.0   \n",
       "97657       Unknown           NaN   \n",
       "71435       Unknown           NaN   \n",
       "53688       Unknown           2.0   \n",
       "67719           Mid          84.0   \n",
       "53696       Unknown           7.0   \n",
       "43243           low           3.0   \n",
       "54518       Unknown           4.0   \n",
       "122647      Unknown           NaN   \n",
       "1570        Unknown           5.0   \n",
       "54868       Unknown           NaN   \n",
       "9525        Unknown           NaN   \n",
       "96055       Unknown           3.0   \n",
       "51272           low           7.0   \n",
       "54605       Unknown           4.0   \n",
       "119654      Unknown           NaN   \n",
       "17231       Unknown           NaN   \n",
       "6630            low          21.0   \n",
       "40498       Unknown           NaN   \n",
       "4517        Unknown           NaN   \n",
       "33206       Unknown           6.0   \n",
       "119561      Unknown           3.0   \n",
       "8209            Mid           8.0   \n",
       "90086           low          58.0   \n",
       "113172      Unknown           8.0   \n",
       "53608           low           4.0   \n",
       "52901       Unknown           4.0   \n",
       "25397           Mid          89.0   \n",
       "52732       Unknown           7.0   \n",
       "...             ...           ...   \n",
       "122128          Mid          11.0   \n",
       "122282          Mid          12.0   \n",
       "43480          High           9.0   \n",
       "122056      Unknown           6.0   \n",
       "84542       Unknown          13.0   \n",
       "21162       Unknown           5.0   \n",
       "9546        Unknown           NaN   \n",
       "16960       Unknown           5.0   \n",
       "23547       Unknown           2.0   \n",
       "39887           low          43.0   \n",
       "111003      Unknown          60.0   \n",
       "23160           Mid           4.0   \n",
       "115006      Unknown           NaN   \n",
       "54764       Unknown           NaN   \n",
       "4479            Mid           2.0   \n",
       "114344          Mid           4.0   \n",
       "97491       Unknown           2.0   \n",
       "56412       Unknown           6.0   \n",
       "97398           Mid           NaN   \n",
       "85150       Unknown           NaN   \n",
       "12870           Mid           8.0   \n",
       "65775       Unknown           4.0   \n",
       "54653       Unknown           NaN   \n",
       "114362      Unknown           6.0   \n",
       "42422           low           7.0   \n",
       "41397           low          73.0   \n",
       "87460           low           3.0   \n",
       "115766          Mid           7.0   \n",
       "85200       Unknown           2.0   \n",
       "55106       Unknown           NaN   \n",
       "\n",
       "                                                  Reviews  \n",
       "114941        [['Happy hour with Marco'], ['07/02/2015']]  \n",
       "17367                                            [[], []]  \n",
       "97657                                            [[], []]  \n",
       "71435                                            [[], []]  \n",
       "53688   [['Delicious Deli', 'Excellent home-made food'...  \n",
       "67719   [['A wonderful surprise', 'Fantastic food!'], ...  \n",
       "53696   [['Best place ever in London!!!!', 'Delicious,...  \n",
       "43243   [['Local nice place in non tourist district', ...  \n",
       "54518   [['Absolutely fantastic lunch in London', 'Bes...  \n",
       "122647                       [['Mirage'], ['05/28/2012']]  \n",
       "1570    [['Amazing French wines and food', 'A French G...  \n",
       "54868          [['Brilliant breakfast.'], ['08/18/2017']]  \n",
       "9525                                             [[], []]  \n",
       "96055   [['A.M.A.Z.I.N.G', 'Marvellous by name, marvel...  \n",
       "51272   [['Cool pit stop - great snacks', 'Best place ...  \n",
       "54605   [['Fish and chips....mmmmm', 'Excellent food a...  \n",
       "119654  [['Went because of the NYT hype but actually.....  \n",
       "17231                                            [[], []]  \n",
       "6630    [['\"Chouxsome\"!', 'new favourite'], ['12/05/20...  \n",
       "40498                                            [[], []]  \n",
       "4517                                             [[], []]  \n",
       "33206   [['Something different', 'Unadulterated authen...  \n",
       "119561  [['Valentines day', 'Private Bar'], ['02/14/20...  \n",
       "8209                 [['Muy Deliciosa!'], ['07/16/2017']]  \n",
       "90086   [['Absolutely amazing', 'Non-barbecue dishes w...  \n",
       "113172                                           [[], []]  \n",
       "53608   [['Fresh and fabulous', 'Amazing food'], ['09/...  \n",
       "52901   [['SMALL BUT BIG CHOICE', 'Great place and ser...  \n",
       "25397   [['Perfect for cheese lovers', 'For cheese lov...  \n",
       "52732   [['Charming Japanese, true to its origin', 'Su...  \n",
       "...                                                   ...  \n",
       "122128  [['Manoush is Excellent', 'Realy nice place di...  \n",
       "122282  [['Fine place for a pizza', 'Cozy restaurant w...  \n",
       "43480                                            [[], []]  \n",
       "122056                                           [[], []]  \n",
       "84542   [['Lovely cafe', 'Fun Sunday brunch'], ['06/26...  \n",
       "21162   [['Hidden gem under Bratislava castle 😊', 'Bes...  \n",
       "9546                                             [[], []]  \n",
       "16960   [['Best Classical Turkish Cousine', 'As good a...  \n",
       "23547                                            [[], []]  \n",
       "39887   [['Great burgers, super friendly hosts', 'Simp...  \n",
       "111003                                           [[], []]  \n",
       "23160   [['AMAZING...', 'French Bakery at its best'], ...  \n",
       "115006                                           [[], []]  \n",
       "54764          [['Little Gem of a Cafe'], ['11/28/2016']]  \n",
       "4479             [['Best coffee ever..'], ['11/21/2015']]  \n",
       "114344                                           [[], []]  \n",
       "97491                                            [[], []]  \n",
       "56412   [['Nice stadium and friendly folks', 'Superb f...  \n",
       "97398                                            [[], []]  \n",
       "85150             [['Great Syrian food'], ['10/07/2017']]  \n",
       "12870   [['Nice place to watch football', 'love this p...  \n",
       "65775                                            [[], []]  \n",
       "54653   [['Very nice depending on what you get'], ['02...  \n",
       "114362                                           [[], []]  \n",
       "42422   [['Yummy!', 'Snack chinese dong'], ['12/30/201...  \n",
       "41397   [['Cozy place, great food, nice staff', 'Cozy ...  \n",
       "87460                                            [[], []]  \n",
       "115766  [['love it 🍕🇮🇹', 'Super pizza'], ['10/14/2017'...  \n",
       "85200                                            [[], []]  \n",
       "55106   [['amazing amazing amazing food and great cus....  \n",
       "\n",
       "[893 rows x 8 columns]"
      ]
     },
     "execution_count": 31,
     "metadata": {},
     "output_type": "execute_result"
    }
   ],
   "source": [
    "five_restaurants"
   ]
  },
  {
   "cell_type": "markdown",
   "metadata": {
    "collapsed": true
   },
   "source": [
    "#  Rating :"
   ]
  },
  {
   "cell_type": "code",
   "execution_count": 32,
   "metadata": {},
   "outputs": [
    {
     "data": {
      "text/plain": [
       "array([ 4.5,  nan,  3.5,  4. ,  2. ,  5. ,  2.5,  1. ,  3. ,  1.5, -1. ])"
      ]
     },
     "execution_count": 32,
     "metadata": {},
     "output_type": "execute_result"
    }
   ],
   "source": [
    "Rst[\"Rating\"].unique()"
   ]
  },
  {
   "cell_type": "code",
   "execution_count": 33,
   "metadata": {},
   "outputs": [
    {
     "data": {
      "text/plain": [
       "48307     4.5\n",
       "108919    NaN\n",
       "94004     4.5\n",
       "27180     3.5\n",
       "106532    4.0\n",
       "Name: Rating, dtype: float64"
      ]
     },
     "execution_count": 33,
     "metadata": {},
     "output_type": "execute_result"
    }
   ],
   "source": [
    "Rst.Rating.head()  # Coverted to float ....."
   ]
  },
  {
   "cell_type": "code",
   "execution_count": 34,
   "metadata": {
    "collapsed": true
   },
   "outputs": [],
   "source": [
    "Rst[\"Rating\"] = Rst[\"Rating\"].fillna(Rst[\"Rating\"].mean())   #### Nan As a mean ..\n"
   ]
  },
  {
   "cell_type": "code",
   "execution_count": 35,
   "metadata": {
    "collapsed": true
   },
   "outputs": [],
   "source": [
    "Rst['Rating'] = Rst['Rating'].apply(lambda r: float(r))   ### Converting to float ..\n"
   ]
  },
  {
   "cell_type": "code",
   "execution_count": 36,
   "metadata": {},
   "outputs": [
    {
     "name": "stdout",
     "output_type": "stream",
     "text": [
      "<class 'pandas.core.frame.DataFrame'>\n",
      "Int64Index: 10000 entries, 48307 to 84827\n",
      "Data columns (total 8 columns):\n",
      "Name            10000 non-null object\n",
      "City            10000 non-null object\n",
      "Cuisine         7478 non-null object\n",
      "Ranking         9239 non-null float64\n",
      "Rating          10000 non-null float64\n",
      "PriceinRange    10000 non-null object\n",
      "Reviewsinnos    8603 non-null float64\n",
      "Reviews         9248 non-null object\n",
      "dtypes: float64(3), object(5)\n",
      "memory usage: 703.1+ KB\n"
     ]
    }
   ],
   "source": [
    "Rst.info()"
   ]
  },
  {
   "cell_type": "code",
   "execution_count": 37,
   "metadata": {},
   "outputs": [
    {
     "data": {
      "text/plain": [
       "Name               0\n",
       "City               0\n",
       "Cuisine         2522\n",
       "Ranking          761\n",
       "Rating             0\n",
       "PriceinRange       0\n",
       "Reviewsinnos    1397\n",
       "Reviews          752\n",
       "dtype: int64"
      ]
     },
     "execution_count": 37,
     "metadata": {},
     "output_type": "execute_result"
    }
   ],
   "source": [
    "Rst.isnull().sum()"
   ]
  },
  {
   "cell_type": "markdown",
   "metadata": {},
   "source": [
    "# Cuisine"
   ]
  },
  {
   "cell_type": "code",
   "execution_count": 38,
   "metadata": {},
   "outputs": [
    {
     "data": {
      "text/plain": [
       "array([\"['British', 'Bar', 'Pub', 'Diner', 'Scottish', 'Vegetarian Friendly']\",\n",
       "       \"['European', 'Czech']\", \"['Japanese']\", ...,\n",
       "       \"['Bar', 'European', 'Pub', 'Hungarian', 'Vegetarian Friendly']\",\n",
       "       \"['European', 'Pizza', 'Mediterranean', 'Vegetarian Friendly']\",\n",
       "       \"['Cafe', 'Grill', 'Vegetarian Friendly']\"], dtype=object)"
      ]
     },
     "execution_count": 38,
     "metadata": {},
     "output_type": "execute_result"
    }
   ],
   "source": [
    "Rst.Cuisine.unique()"
   ]
  },
  {
   "cell_type": "code",
   "execution_count": 327,
   "metadata": {
    "collapsed": true
   },
   "outputs": [
    {
     "data": {
      "text/plain": [
       "['Italian']                                                                                                          284\n",
       "['French']                                                                                                           196\n",
       "['Spanish']                                                                                                          182\n",
       "['Cafe']                                                                                                             134\n",
       "['French', 'European']                                                                                                93\n",
       "['Chinese']                                                                                                           89\n",
       "['European', 'Portuguese']                                                                                            88\n",
       "['Pizza']                                                                                                             86\n",
       "['Italian', 'Pizza']                                                                                                  81\n",
       "['Mediterranean']                                                                                                     77\n",
       "['Fast Food']                                                                                                         66\n",
       "['International']                                                                                                     61\n",
       "['Bar', 'Pub']                                                                                                        57\n",
       "['Indian']                                                                                                            55\n",
       "['Japanese', 'Sushi']                                                                                                 51\n",
       "['Mediterranean', 'Spanish']                                                                                          50\n",
       "['Asian']                                                                                                             48\n",
       "['French', 'European', 'Vegetarian Friendly']                                                                         42\n",
       "['European', 'Czech']                                                                                                 42\n",
       "['European']                                                                                                          42\n",
       "['American']                                                                                                          42\n",
       "['Japanese']                                                                                                          42\n",
       "['Greek']                                                                                                             41\n",
       "['Vegetarian Friendly']                                                                                               41\n",
       "['Bar', 'British', 'Pub']                                                                                             40\n",
       "['German']                                                                                                            40\n",
       "['Thai']                                                                                                              37\n",
       "['Chinese', 'Asian']                                                                                                  36\n",
       "['Austrian', 'European']                                                                                              35\n",
       "['Pub']                                                                                                               32\n",
       "                                                                                                                    ... \n",
       "['Wine Bar', 'Gluten Free Options']                                                                                    1\n",
       "['Indian', 'European', 'Asian', 'Portuguese', 'Nepali', 'Vegetarian Friendly', 'Vegan Options']                        1\n",
       "['Lebanese', 'Mediterranean', 'Middle Eastern', 'Vegetarian Friendly', 'Vegan Options', 'Halal']                       1\n",
       "['Bar', 'British', 'Pub', 'Contemporary']                                                                              1\n",
       "['Seafood', 'Italian', 'Pizza', 'Grill', 'Vegetarian Friendly']                                                        1\n",
       "['Asian', 'Fusion', 'Vegetarian Friendly']                                                                             1\n",
       "['Scandinavian', 'Steakhouse', 'European']                                                                             1\n",
       "['Mediterranean', 'European', 'Spanish', 'Fusion', 'Vegetarian Friendly', 'Vegan Options', 'Gluten Free Options']      1\n",
       "['Swiss', 'Barbecue', 'European']                                                                                      1\n",
       "['Latin', 'Mediterranean', 'Spanish']                                                                                  1\n",
       "['Seafood', 'Mediterranean', 'European', 'Spanish', 'Portuguese', 'Vegetarian Friendly']                               1\n",
       "['Italian', 'Bar', 'Cafe', 'Pub', 'Healthy']                                                                           1\n",
       "['European', 'Bar', 'Vegetarian Friendly', 'Vegan Options']                                                            1\n",
       "['French', 'Dutch', 'European', 'Vegetarian Friendly', 'Gluten Free Options']                                          1\n",
       "['German', 'Fast Food', 'European', 'Grill']                                                                           1\n",
       "['Italian', 'Cafe', 'Greek', 'Healthy', 'Street Food']                                                                 1\n",
       "['Steakhouse', 'European', 'Pub', 'Gastropub', 'Czech', 'Central European']                                            1\n",
       "['Italian', 'Mediterranean', 'European', 'Pizza', 'Vegetarian Friendly', 'Gluten Free Options', 'Vegan Options']       1\n",
       "['Bar', 'International', 'Pub', 'Vegetarian Friendly', 'Gluten Free Options']                                          1\n",
       "['Mediterranean', 'Spanish', 'Bar', 'European', 'Vegetarian Friendly']                                                 1\n",
       "['Pizza', 'Lebanese', 'Mediterranean']                                                                                 1\n",
       "['Austrian', 'Barbecue', 'European', 'Grill']                                                                          1\n",
       "['Mediterranean', 'European', 'Vegetarian Friendly', 'Gluten Free Options', 'Vegan Options']                           1\n",
       "['American', 'Fast Food', 'Vegetarian Friendly', 'Halal']                                                              1\n",
       "['Mediterranean', 'European', 'Greek', 'Vegan Options', 'Vegetarian Friendly']                                         1\n",
       "['Cafe', 'Fast Food', 'International', 'Vegetarian Friendly']                                                          1\n",
       "['German', 'Austrian', 'Bar', 'European', 'Pub', 'Central European', 'Contemporary', 'Vegetarian Friendly']            1\n",
       "['Middle Eastern', 'Lebanese', 'Barbecue', 'Arabic', 'Vegetarian Friendly', 'Vegan Options', 'Halal']                  1\n",
       "['Spanish', 'Bar', 'Mediterranean', 'Pub', 'Vegetarian Friendly']                                                      1\n",
       "['Moroccan', 'Mediterranean', 'Middle Eastern', 'Vegetarian Friendly', 'Halal']                                        1\n",
       "Name: Cuisine, Length: 2943, dtype: int64"
      ]
     },
     "execution_count": 327,
     "metadata": {},
     "output_type": "execute_result"
    }
   ],
   "source": [
    "Rst.Cuisine.value_counts()"
   ]
  },
  {
   "cell_type": "code",
   "execution_count": 167,
   "metadata": {},
   "outputs": [
    {
     "data": {
      "image/png": "[encoded data removed]",
      "text/plain": [
       "<matplotlib.figure.Figure at 0xa88cd98d0>"
      ]
     },
     "metadata": {},
     "output_type": "display_data"
    }
   ],
   "source": [
    "plt.figure(figsize = (14,8))\n",
    "Rst.Cuisine.value_counts()[:15].plot(kind = 'pie')\n",
    "plt.show()"
   ]
  },
  {
   "cell_type": "markdown",
   "metadata": {},
   "source": [
    "Italian , Spanish and French are mostly restaurant Type"
   ]
  },
  {
   "cell_type": "code",
   "execution_count": null,
   "metadata": {
    "collapsed": true
   },
   "outputs": [],
   "source": []
  },
  {
   "cell_type": "markdown",
   "metadata": {
    "collapsed": true
   },
   "source": [
    "# City"
   ]
  },
  {
   "cell_type": "markdown",
   "metadata": {},
   "source": [
    "Apply label encoder"
   ]
  },
  {
   "cell_type": "code",
   "execution_count": null,
   "metadata": {
    "collapsed": true
   },
   "outputs": [],
   "source": []
  },
  {
   "cell_type": "code",
   "execution_count": null,
   "metadata": {
    "collapsed": true
   },
   "outputs": [],
   "source": []
  },
  {
   "cell_type": "code",
   "execution_count": null,
   "metadata": {
    "collapsed": true
   },
   "outputs": [],
   "source": []
  },
  {
   "cell_type": "code",
   "execution_count": null,
   "metadata": {
    "collapsed": true
   },
   "outputs": [],
   "source": [
    "Rst.PriceinRange = Rst.PriceinRange.replace({\"INDIVIDUAL\":1,\"JOINT\":0})"
   ]
  },
  {
   "cell_type": "code",
   "execution_count": null,
   "metadata": {
    "collapsed": true
   },
   "outputs": [],
   "source": []
  },
  {
   "cell_type": "markdown",
   "metadata": {
    "collapsed": true
   },
   "source": [
    "# Ranking"
   ]
  },
  {
   "cell_type": "code",
   "execution_count": 39,
   "metadata": {
    "scrolled": true
   },
   "outputs": [
    {
     "data": {
      "text/plain": [
       "1705.0     10\n",
       "262.0       9\n",
       "1015.0      9\n",
       "549.0       9\n",
       "686.0       8\n",
       "696.0       8\n",
       "1496.0      8\n",
       "1032.0      8\n",
       "109.0       8\n",
       "1033.0      7\n",
       "1689.0      7\n",
       "1365.0      7\n",
       "147.0       7\n",
       "1533.0      7\n",
       "245.0       7\n",
       "166.0       7\n",
       "954.0       7\n",
       "1890.0      7\n",
       "118.0       7\n",
       "1789.0      7\n",
       "2088.0      7\n",
       "1122.0      7\n",
       "2226.0      7\n",
       "357.0       7\n",
       "1257.0      6\n",
       "63.0        6\n",
       "984.0       6\n",
       "455.0       6\n",
       "1123.0      6\n",
       "672.0       6\n",
       "           ..\n",
       "1712.0      2\n",
       "64.0        2\n",
       "3086.0      2\n",
       "3059.0      2\n",
       "1999.0      2\n",
       "2333.0      2\n",
       "32.0        2\n",
       "2048.0      2\n",
       "14764.0     2\n",
       "3013.0      2\n",
       "2566.0      2\n",
       "7281.0      2\n",
       "1241.0      2\n",
       "86.0        2\n",
       "1201.0      2\n",
       "2338.0      2\n",
       "2246.0      2\n",
       "2326.0      2\n",
       "4741.0      2\n",
       "7652.0      2\n",
       "7750.0      2\n",
       "5120.0      2\n",
       "24.0        2\n",
       "96.0        2\n",
       "1.0         2\n",
       "1184.0      2\n",
       "56.0        2\n",
       "323.0       2\n",
       "4096.0      2\n",
       "20.0        2\n",
       "Name: Ranking, Length: 1743, dtype: int64"
      ]
     },
     "execution_count": 39,
     "metadata": {},
     "output_type": "execute_result"
    }
   ],
   "source": [
    "Rst['Ranking'].value_counts()[:20]"
   ]
  },
  {
   "cell_type": "markdown",
   "metadata": {},
   "source": [
    " Here all the values are unique .."
   ]
  },
  {
   "cell_type": "code",
   "execution_count": 40,
   "metadata": {},
   "outputs": [
    {
     "data": {
      "text/plain": [
       "761"
      ]
     },
     "execution_count": 40,
     "metadata": {},
     "output_type": "execute_result"
    }
   ],
   "source": [
    "Rst.Ranking.isnull().sum()"
   ]
  },
  {
   "cell_type": "code",
   "execution_count": 41,
   "metadata": {
    "collapsed": true
   },
   "outputs": [],
   "source": [
    "Rst[\"Ranking\"] = Rst[\"Ranking\"].fillna(Rst[\"Ranking\"].mean()) #### Null Get replaced by mean..."
   ]
  },
  {
   "cell_type": "code",
   "execution_count": null,
   "metadata": {
    "collapsed": true
   },
   "outputs": [],
   "source": [
    "### Ranking needs to be standardize ."
   ]
  },
  {
   "cell_type": "code",
   "execution_count": null,
   "metadata": {
    "collapsed": true
   },
   "outputs": [],
   "source": []
  },
  {
   "cell_type": "markdown",
   "metadata": {},
   "source": [
    "# Number of reviews"
   ]
  },
  {
   "cell_type": "code",
   "execution_count": 42,
   "metadata": {},
   "outputs": [
    {
     "data": {
      "text/plain": [
       "1077712.0"
      ]
     },
     "execution_count": 42,
     "metadata": {},
     "output_type": "execute_result"
    }
   ],
   "source": [
    "total_reviews = Rst['Reviewsinnos'].sum()\n",
    "total_reviews"
   ]
  },
  {
   "cell_type": "code",
   "execution_count": 43,
   "metadata": {
    "collapsed": true
   },
   "outputs": [],
   "source": [
    "Rst[\"Reviewsinnos\"] = Rst[\"Reviewsinnos\"].fillna(Rst[\"Reviewsinnos\"].mean())\n",
    "\n",
    "#bko[\"lead_time\"] = bko[\"lead_time\"].fillna(bko[\"lead_time\"].mean()) "
   ]
  },
  {
   "cell_type": "code",
   "execution_count": 44,
   "metadata": {
    "collapsed": true
   },
   "outputs": [],
   "source": [
    "total_reviews_pr = Rst.groupby('PriceinRange')['Reviewsinnos'].sum()\n",
    "total_reviews_pr = pd.DataFrame({'Reviewsinnos': total_reviews_pr})"
   ]
  },
  {
   "cell_type": "code",
   "execution_count": 45,
   "metadata": {},
   "outputs": [
    {
     "data": {
      "text/html": [
       "<div>\n",
       "<style>\n",
       "    .dataframe thead tr:only-child th {\n",
       "        text-align: right;\n",
       "    }\n",
       "\n",
       "    .dataframe thead th {\n",
       "        text-align: left;\n",
       "    }\n",
       "\n",
       "    .dataframe tbody tr th {\n",
       "        vertical-align: top;\n",
       "    }\n",
       "</style>\n",
       "<table border=\"1\" class=\"dataframe\">\n",
       "  <thead>\n",
       "    <tr style=\"text-align: right;\">\n",
       "      <th></th>\n",
       "      <th>Reviewsinnos</th>\n",
       "    </tr>\n",
       "    <tr>\n",
       "      <th>PriceinRange</th>\n",
       "      <th></th>\n",
       "    </tr>\n",
       "  </thead>\n",
       "  <tbody>\n",
       "    <tr>\n",
       "      <th>High</th>\n",
       "      <td>121834.889690</td>\n",
       "    </tr>\n",
       "    <tr>\n",
       "      <th>Mid</th>\n",
       "      <td>799325.463908</td>\n",
       "    </tr>\n",
       "    <tr>\n",
       "      <th>Unknown</th>\n",
       "      <td>177094.617459</td>\n",
       "    </tr>\n",
       "    <tr>\n",
       "      <th>low</th>\n",
       "      <td>154461.523190</td>\n",
       "    </tr>\n",
       "  </tbody>\n",
       "</table>\n",
       "</div>"
      ],
      "text/plain": [
       "               Reviewsinnos\n",
       "PriceinRange               \n",
       "High          121834.889690\n",
       "Mid           799325.463908\n",
       "Unknown       177094.617459\n",
       "low           154461.523190"
      ]
     },
     "execution_count": 45,
     "metadata": {},
     "output_type": "execute_result"
    }
   ],
   "source": [
    "total_reviews_pr   ####### price in range accordingly Reviews in Nos ."
   ]
  },
  {
   "cell_type": "code",
   "execution_count": 336,
   "metadata": {},
   "outputs": [
    {
     "data": {
      "text/html": [
       "<div>\n",
       "<style>\n",
       "    .dataframe thead tr:only-child th {\n",
       "        text-align: right;\n",
       "    }\n",
       "\n",
       "    .dataframe thead th {\n",
       "        text-align: left;\n",
       "    }\n",
       "\n",
       "    .dataframe tbody tr th {\n",
       "        vertical-align: top;\n",
       "    }\n",
       "</style>\n",
       "<table border=\"1\" class=\"dataframe\">\n",
       "  <thead>\n",
       "    <tr style=\"text-align: right;\">\n",
       "      <th></th>\n",
       "      <th>low price range</th>\n",
       "      <th>mid price range</th>\n",
       "      <th>high price range</th>\n",
       "      <th>unknown price range</th>\n",
       "    </tr>\n",
       "    <tr>\n",
       "      <th>City</th>\n",
       "      <th></th>\n",
       "      <th></th>\n",
       "      <th></th>\n",
       "      <th></th>\n",
       "    </tr>\n",
       "  </thead>\n",
       "  <tbody>\n",
       "    <tr>\n",
       "      <th>Amsterdam</th>\n",
       "      <td>2528.0</td>\n",
       "      <td>25736.0</td>\n",
       "      <td>484.0</td>\n",
       "      <td>3015.0</td>\n",
       "    </tr>\n",
       "    <tr>\n",
       "      <th>Athens</th>\n",
       "      <td>1624.0</td>\n",
       "      <td>9163.0</td>\n",
       "      <td>562.0</td>\n",
       "      <td>2599.0</td>\n",
       "    </tr>\n",
       "    <tr>\n",
       "      <th>Barcelona</th>\n",
       "      <td>7489.0</td>\n",
       "      <td>66039.0</td>\n",
       "      <td>2267.0</td>\n",
       "      <td>6669.0</td>\n",
       "    </tr>\n",
       "    <tr>\n",
       "      <th>Berlin</th>\n",
       "      <td>2555.0</td>\n",
       "      <td>20180.0</td>\n",
       "      <td>1688.0</td>\n",
       "      <td>3909.0</td>\n",
       "    </tr>\n",
       "    <tr>\n",
       "      <th>Bratislava</th>\n",
       "      <td>793.0</td>\n",
       "      <td>1237.0</td>\n",
       "      <td>238.0</td>\n",
       "      <td>174.0</td>\n",
       "    </tr>\n",
       "    <tr>\n",
       "      <th>Brussels</th>\n",
       "      <td>1742.0</td>\n",
       "      <td>18766.0</td>\n",
       "      <td>638.0</td>\n",
       "      <td>1901.0</td>\n",
       "    </tr>\n",
       "    <tr>\n",
       "      <th>Budapest</th>\n",
       "      <td>3031.0</td>\n",
       "      <td>23919.0</td>\n",
       "      <td>513.0</td>\n",
       "      <td>3815.0</td>\n",
       "    </tr>\n",
       "    <tr>\n",
       "      <th>Copenhagen</th>\n",
       "      <td>27.0</td>\n",
       "      <td>12488.0</td>\n",
       "      <td>339.0</td>\n",
       "      <td>1581.0</td>\n",
       "    </tr>\n",
       "    <tr>\n",
       "      <th>Dublin</th>\n",
       "      <td>117.0</td>\n",
       "      <td>18279.0</td>\n",
       "      <td>210.0</td>\n",
       "      <td>1143.0</td>\n",
       "    </tr>\n",
       "    <tr>\n",
       "      <th>Edinburgh</th>\n",
       "      <td>878.0</td>\n",
       "      <td>30991.0</td>\n",
       "      <td>527.0</td>\n",
       "      <td>1475.0</td>\n",
       "    </tr>\n",
       "    <tr>\n",
       "      <th>Geneva</th>\n",
       "      <td>1335.0</td>\n",
       "      <td>5426.0</td>\n",
       "      <td>175.0</td>\n",
       "      <td>1957.0</td>\n",
       "    </tr>\n",
       "    <tr>\n",
       "      <th>Hamburg</th>\n",
       "      <td>541.0</td>\n",
       "      <td>4371.0</td>\n",
       "      <td>1082.0</td>\n",
       "      <td>1933.0</td>\n",
       "    </tr>\n",
       "    <tr>\n",
       "      <th>Helsinki</th>\n",
       "      <td>848.0</td>\n",
       "      <td>3611.0</td>\n",
       "      <td>198.0</td>\n",
       "      <td>499.0</td>\n",
       "    </tr>\n",
       "    <tr>\n",
       "      <th>Krakow</th>\n",
       "      <td>367.0</td>\n",
       "      <td>8923.0</td>\n",
       "      <td>230.0</td>\n",
       "      <td>3285.0</td>\n",
       "    </tr>\n",
       "    <tr>\n",
       "      <th>Lisbon</th>\n",
       "      <td>620.0</td>\n",
       "      <td>23361.0</td>\n",
       "      <td>779.0</td>\n",
       "      <td>7644.0</td>\n",
       "    </tr>\n",
       "    <tr>\n",
       "      <th>Ljubljana</th>\n",
       "      <td>NaN</td>\n",
       "      <td>5123.0</td>\n",
       "      <td>37.0</td>\n",
       "      <td>336.0</td>\n",
       "    </tr>\n",
       "    <tr>\n",
       "      <th>London</th>\n",
       "      <td>24126.0</td>\n",
       "      <td>111426.0</td>\n",
       "      <td>2576.0</td>\n",
       "      <td>15301.0</td>\n",
       "    </tr>\n",
       "    <tr>\n",
       "      <th>Luxembourg</th>\n",
       "      <td>391.0</td>\n",
       "      <td>2601.0</td>\n",
       "      <td>170.0</td>\n",
       "      <td>40.0</td>\n",
       "    </tr>\n",
       "    <tr>\n",
       "      <th>Lyon</th>\n",
       "      <td>1052.0</td>\n",
       "      <td>11718.0</td>\n",
       "      <td>1651.0</td>\n",
       "      <td>1013.0</td>\n",
       "    </tr>\n",
       "    <tr>\n",
       "      <th>Madrid</th>\n",
       "      <td>10936.0</td>\n",
       "      <td>46818.0</td>\n",
       "      <td>4469.0</td>\n",
       "      <td>7088.0</td>\n",
       "    </tr>\n",
       "    <tr>\n",
       "      <th>Milan</th>\n",
       "      <td>3377.0</td>\n",
       "      <td>53867.0</td>\n",
       "      <td>3909.0</td>\n",
       "      <td>17313.0</td>\n",
       "    </tr>\n",
       "    <tr>\n",
       "      <th>Munich</th>\n",
       "      <td>2020.0</td>\n",
       "      <td>19531.0</td>\n",
       "      <td>560.0</td>\n",
       "      <td>1559.0</td>\n",
       "    </tr>\n",
       "    <tr>\n",
       "      <th>Oporto</th>\n",
       "      <td>1250.0</td>\n",
       "      <td>10331.0</td>\n",
       "      <td>369.0</td>\n",
       "      <td>2734.0</td>\n",
       "    </tr>\n",
       "    <tr>\n",
       "      <th>Oslo</th>\n",
       "      <td>1924.0</td>\n",
       "      <td>3425.0</td>\n",
       "      <td>155.0</td>\n",
       "      <td>608.0</td>\n",
       "    </tr>\n",
       "    <tr>\n",
       "      <th>Paris</th>\n",
       "      <td>14449.0</td>\n",
       "      <td>80740.0</td>\n",
       "      <td>4671.0</td>\n",
       "      <td>10103.0</td>\n",
       "    </tr>\n",
       "    <tr>\n",
       "      <th>Prague</th>\n",
       "      <td>3930.0</td>\n",
       "      <td>23395.0</td>\n",
       "      <td>666.0</td>\n",
       "      <td>5545.0</td>\n",
       "    </tr>\n",
       "    <tr>\n",
       "      <th>Rome</th>\n",
       "      <td>5354.0</td>\n",
       "      <td>74662.0</td>\n",
       "      <td>2844.0</td>\n",
       "      <td>29396.0</td>\n",
       "    </tr>\n",
       "    <tr>\n",
       "      <th>Stockholm</th>\n",
       "      <td>1447.0</td>\n",
       "      <td>6443.0</td>\n",
       "      <td>597.0</td>\n",
       "      <td>265.0</td>\n",
       "    </tr>\n",
       "    <tr>\n",
       "      <th>Vienna</th>\n",
       "      <td>2536.0</td>\n",
       "      <td>22136.0</td>\n",
       "      <td>731.0</td>\n",
       "      <td>1378.0</td>\n",
       "    </tr>\n",
       "    <tr>\n",
       "      <th>Warsaw</th>\n",
       "      <td>279.0</td>\n",
       "      <td>5017.0</td>\n",
       "      <td>498.0</td>\n",
       "      <td>261.0</td>\n",
       "    </tr>\n",
       "    <tr>\n",
       "      <th>Zurich</th>\n",
       "      <td>1492.0</td>\n",
       "      <td>4794.0</td>\n",
       "      <td>411.0</td>\n",
       "      <td>385.0</td>\n",
       "    </tr>\n",
       "  </tbody>\n",
       "</table>\n",
       "</div>"
      ],
      "text/plain": [
       "            low price range  mid price range  high price range  \\\n",
       "City                                                             \n",
       "Amsterdam            2528.0          25736.0             484.0   \n",
       "Athens               1624.0           9163.0             562.0   \n",
       "Barcelona            7489.0          66039.0            2267.0   \n",
       "Berlin               2555.0          20180.0            1688.0   \n",
       "Bratislava            793.0           1237.0             238.0   \n",
       "Brussels             1742.0          18766.0             638.0   \n",
       "Budapest             3031.0          23919.0             513.0   \n",
       "Copenhagen             27.0          12488.0             339.0   \n",
       "Dublin                117.0          18279.0             210.0   \n",
       "Edinburgh             878.0          30991.0             527.0   \n",
       "Geneva               1335.0           5426.0             175.0   \n",
       "Hamburg               541.0           4371.0            1082.0   \n",
       "Helsinki              848.0           3611.0             198.0   \n",
       "Krakow                367.0           8923.0             230.0   \n",
       "Lisbon                620.0          23361.0             779.0   \n",
       "Ljubljana               NaN           5123.0              37.0   \n",
       "London              24126.0         111426.0            2576.0   \n",
       "Luxembourg            391.0           2601.0             170.0   \n",
       "Lyon                 1052.0          11718.0            1651.0   \n",
       "Madrid              10936.0          46818.0            4469.0   \n",
       "Milan                3377.0          53867.0            3909.0   \n",
       "Munich               2020.0          19531.0             560.0   \n",
       "Oporto               1250.0          10331.0             369.0   \n",
       "Oslo                 1924.0           3425.0             155.0   \n",
       "Paris               14449.0          80740.0            4671.0   \n",
       "Prague               3930.0          23395.0             666.0   \n",
       "Rome                 5354.0          74662.0            2844.0   \n",
       "Stockholm            1447.0           6443.0             597.0   \n",
       "Vienna               2536.0          22136.0             731.0   \n",
       "Warsaw                279.0           5017.0             498.0   \n",
       "Zurich               1492.0           4794.0             411.0   \n",
       "\n",
       "            unknown price range  \n",
       "City                             \n",
       "Amsterdam                3015.0  \n",
       "Athens                   2599.0  \n",
       "Barcelona                6669.0  \n",
       "Berlin                   3909.0  \n",
       "Bratislava                174.0  \n",
       "Brussels                 1901.0  \n",
       "Budapest                 3815.0  \n",
       "Copenhagen               1581.0  \n",
       "Dublin                   1143.0  \n",
       "Edinburgh                1475.0  \n",
       "Geneva                   1957.0  \n",
       "Hamburg                  1933.0  \n",
       "Helsinki                  499.0  \n",
       "Krakow                   3285.0  \n",
       "Lisbon                   7644.0  \n",
       "Ljubljana                 336.0  \n",
       "London                  15301.0  \n",
       "Luxembourg                 40.0  \n",
       "Lyon                     1013.0  \n",
       "Madrid                   7088.0  \n",
       "Milan                   17313.0  \n",
       "Munich                   1559.0  \n",
       "Oporto                   2734.0  \n",
       "Oslo                      608.0  \n",
       "Paris                   10103.0  \n",
       "Prague                   5545.0  \n",
       "Rome                    29396.0  \n",
       "Stockholm                 265.0  \n",
       "Vienna                   1378.0  \n",
       "Warsaw                    261.0  \n",
       "Zurich                    385.0  "
      ]
     },
     "execution_count": 336,
     "metadata": {},
     "output_type": "execute_result"
    }
   ],
   "source": [
    "reviews_count_pr"
   ]
  },
  {
   "cell_type": "markdown",
   "metadata": {},
   "source": [
    "# PriceinRange"
   ]
  },
  {
   "cell_type": "code",
   "execution_count": 47,
   "metadata": {},
   "outputs": [
    {
     "data": {
      "text/plain": [
       "Mid        4332\n",
       "Unknown    3844\n",
       "low        1487\n",
       "High        337\n",
       "Name: PriceinRange, dtype: int64"
      ]
     },
     "execution_count": 47,
     "metadata": {},
     "output_type": "execute_result"
    }
   ],
   "source": [
    "Rst.PriceinRange.value_counts()"
   ]
  },
  {
   "cell_type": "code",
   "execution_count": 48,
   "metadata": {
    "collapsed": true
   },
   "outputs": [],
   "source": [
    "Rst.PriceinRange = Rst.PriceinRange.replace({\"low\":1,\"Unknown\":0,\"Mid\":2,\"High\":3})  ### To Numerical.. Again run"
   ]
  },
  {
   "cell_type": "code",
   "execution_count": 49,
   "metadata": {},
   "outputs": [
    {
     "data": {
      "text/plain": [
       "48307     2\n",
       "108919    0\n",
       "94004     2\n",
       "27180     0\n",
       "106532    0\n",
       "51328     2\n",
       "82367     2\n",
       "24440     2\n",
       "75299     1\n",
       "229       2\n",
       "Name: PriceinRange, dtype: int64"
      ]
     },
     "execution_count": 49,
     "metadata": {},
     "output_type": "execute_result"
    }
   ],
   "source": [
    "Rst.PriceinRange.head(10)"
   ]
  },
  {
   "cell_type": "code",
   "execution_count": null,
   "metadata": {
    "collapsed": true
   },
   "outputs": [],
   "source": [
    "##################################"
   ]
  },
  {
   "cell_type": "code",
   "execution_count": 181,
   "metadata": {
    "collapsed": true
   },
   "outputs": [],
   "source": [
    "reviews_count_pr = reviews_count_pr.unstack(level='PriceinRange')\n",
    "reviews_count_pr.columns = ['low price range', 'mid price range', 'high price range', 'unknown price range']"
   ]
  },
  {
   "cell_type": "code",
   "execution_count": 184,
   "metadata": {},
   "outputs": [
    {
     "data": {
      "image/png": "[encoded data removed]",
      "text/plain": [
       "<matplotlib.figure.Figure at 0xa88db78d0>"
      ]
     },
     "metadata": {},
     "output_type": "display_data"
    }
   ],
   "source": [
    "#Total reviews per price range in pie chart\n",
    "total_reviews_pr.iloc[:,0].T.plot.pie(figsize=(5,5), legend=False, autopct='%.0f%%', explode=[0.04 for i in range(4)],\n",
    "                        title=\"Global number of reviews by price range\" )\n",
    "plt.show()\n"
   ]
  },
  {
   "cell_type": "code",
   "execution_count": 183,
   "metadata": {},
   "outputs": [
    {
     "data": {
      "text/html": [
       "<div>\n",
       "<style>\n",
       "    .dataframe thead tr:only-child th {\n",
       "        text-align: right;\n",
       "    }\n",
       "\n",
       "    .dataframe thead th {\n",
       "        text-align: left;\n",
       "    }\n",
       "\n",
       "    .dataframe tbody tr th {\n",
       "        vertical-align: top;\n",
       "    }\n",
       "</style>\n",
       "<table border=\"1\" class=\"dataframe\">\n",
       "  <thead>\n",
       "    <tr style=\"text-align: right;\">\n",
       "      <th></th>\n",
       "      <th>low price range</th>\n",
       "      <th>mid price range</th>\n",
       "      <th>high price range</th>\n",
       "      <th>unknown price range</th>\n",
       "    </tr>\n",
       "    <tr>\n",
       "      <th>City</th>\n",
       "      <th></th>\n",
       "      <th></th>\n",
       "      <th></th>\n",
       "      <th></th>\n",
       "    </tr>\n",
       "  </thead>\n",
       "  <tbody>\n",
       "    <tr>\n",
       "      <th>Amsterdam</th>\n",
       "      <td>2528.0</td>\n",
       "      <td>25736.0</td>\n",
       "      <td>484.0</td>\n",
       "      <td>3015.0</td>\n",
       "    </tr>\n",
       "    <tr>\n",
       "      <th>Athens</th>\n",
       "      <td>1624.0</td>\n",
       "      <td>9163.0</td>\n",
       "      <td>562.0</td>\n",
       "      <td>2599.0</td>\n",
       "    </tr>\n",
       "    <tr>\n",
       "      <th>Barcelona</th>\n",
       "      <td>7489.0</td>\n",
       "      <td>66039.0</td>\n",
       "      <td>2267.0</td>\n",
       "      <td>6669.0</td>\n",
       "    </tr>\n",
       "    <tr>\n",
       "      <th>Berlin</th>\n",
       "      <td>2555.0</td>\n",
       "      <td>20180.0</td>\n",
       "      <td>1688.0</td>\n",
       "      <td>3909.0</td>\n",
       "    </tr>\n",
       "    <tr>\n",
       "      <th>Bratislava</th>\n",
       "      <td>793.0</td>\n",
       "      <td>1237.0</td>\n",
       "      <td>238.0</td>\n",
       "      <td>174.0</td>\n",
       "    </tr>\n",
       "    <tr>\n",
       "      <th>Brussels</th>\n",
       "      <td>1742.0</td>\n",
       "      <td>18766.0</td>\n",
       "      <td>638.0</td>\n",
       "      <td>1901.0</td>\n",
       "    </tr>\n",
       "    <tr>\n",
       "      <th>Budapest</th>\n",
       "      <td>3031.0</td>\n",
       "      <td>23919.0</td>\n",
       "      <td>513.0</td>\n",
       "      <td>3815.0</td>\n",
       "    </tr>\n",
       "    <tr>\n",
       "      <th>Copenhagen</th>\n",
       "      <td>27.0</td>\n",
       "      <td>12488.0</td>\n",
       "      <td>339.0</td>\n",
       "      <td>1581.0</td>\n",
       "    </tr>\n",
       "    <tr>\n",
       "      <th>Dublin</th>\n",
       "      <td>117.0</td>\n",
       "      <td>18279.0</td>\n",
       "      <td>210.0</td>\n",
       "      <td>1143.0</td>\n",
       "    </tr>\n",
       "    <tr>\n",
       "      <th>Edinburgh</th>\n",
       "      <td>878.0</td>\n",
       "      <td>30991.0</td>\n",
       "      <td>527.0</td>\n",
       "      <td>1475.0</td>\n",
       "    </tr>\n",
       "    <tr>\n",
       "      <th>Geneva</th>\n",
       "      <td>1335.0</td>\n",
       "      <td>5426.0</td>\n",
       "      <td>175.0</td>\n",
       "      <td>1957.0</td>\n",
       "    </tr>\n",
       "    <tr>\n",
       "      <th>Hamburg</th>\n",
       "      <td>541.0</td>\n",
       "      <td>4371.0</td>\n",
       "      <td>1082.0</td>\n",
       "      <td>1933.0</td>\n",
       "    </tr>\n",
       "    <tr>\n",
       "      <th>Helsinki</th>\n",
       "      <td>848.0</td>\n",
       "      <td>3611.0</td>\n",
       "      <td>198.0</td>\n",
       "      <td>499.0</td>\n",
       "    </tr>\n",
       "    <tr>\n",
       "      <th>Krakow</th>\n",
       "      <td>367.0</td>\n",
       "      <td>8923.0</td>\n",
       "      <td>230.0</td>\n",
       "      <td>3285.0</td>\n",
       "    </tr>\n",
       "    <tr>\n",
       "      <th>Lisbon</th>\n",
       "      <td>620.0</td>\n",
       "      <td>23361.0</td>\n",
       "      <td>779.0</td>\n",
       "      <td>7644.0</td>\n",
       "    </tr>\n",
       "    <tr>\n",
       "      <th>Ljubljana</th>\n",
       "      <td>NaN</td>\n",
       "      <td>5123.0</td>\n",
       "      <td>37.0</td>\n",
       "      <td>336.0</td>\n",
       "    </tr>\n",
       "    <tr>\n",
       "      <th>London</th>\n",
       "      <td>24126.0</td>\n",
       "      <td>111426.0</td>\n",
       "      <td>2576.0</td>\n",
       "      <td>15301.0</td>\n",
       "    </tr>\n",
       "    <tr>\n",
       "      <th>Luxembourg</th>\n",
       "      <td>391.0</td>\n",
       "      <td>2601.0</td>\n",
       "      <td>170.0</td>\n",
       "      <td>40.0</td>\n",
       "    </tr>\n",
       "    <tr>\n",
       "      <th>Lyon</th>\n",
       "      <td>1052.0</td>\n",
       "      <td>11718.0</td>\n",
       "      <td>1651.0</td>\n",
       "      <td>1013.0</td>\n",
       "    </tr>\n",
       "    <tr>\n",
       "      <th>Madrid</th>\n",
       "      <td>10936.0</td>\n",
       "      <td>46818.0</td>\n",
       "      <td>4469.0</td>\n",
       "      <td>7088.0</td>\n",
       "    </tr>\n",
       "    <tr>\n",
       "      <th>Milan</th>\n",
       "      <td>3377.0</td>\n",
       "      <td>53867.0</td>\n",
       "      <td>3909.0</td>\n",
       "      <td>17313.0</td>\n",
       "    </tr>\n",
       "    <tr>\n",
       "      <th>Munich</th>\n",
       "      <td>2020.0</td>\n",
       "      <td>19531.0</td>\n",
       "      <td>560.0</td>\n",
       "      <td>1559.0</td>\n",
       "    </tr>\n",
       "    <tr>\n",
       "      <th>Oporto</th>\n",
       "      <td>1250.0</td>\n",
       "      <td>10331.0</td>\n",
       "      <td>369.0</td>\n",
       "      <td>2734.0</td>\n",
       "    </tr>\n",
       "    <tr>\n",
       "      <th>Oslo</th>\n",
       "      <td>1924.0</td>\n",
       "      <td>3425.0</td>\n",
       "      <td>155.0</td>\n",
       "      <td>608.0</td>\n",
       "    </tr>\n",
       "    <tr>\n",
       "      <th>Paris</th>\n",
       "      <td>14449.0</td>\n",
       "      <td>80740.0</td>\n",
       "      <td>4671.0</td>\n",
       "      <td>10103.0</td>\n",
       "    </tr>\n",
       "    <tr>\n",
       "      <th>Prague</th>\n",
       "      <td>3930.0</td>\n",
       "      <td>23395.0</td>\n",
       "      <td>666.0</td>\n",
       "      <td>5545.0</td>\n",
       "    </tr>\n",
       "    <tr>\n",
       "      <th>Rome</th>\n",
       "      <td>5354.0</td>\n",
       "      <td>74662.0</td>\n",
       "      <td>2844.0</td>\n",
       "      <td>29396.0</td>\n",
       "    </tr>\n",
       "    <tr>\n",
       "      <th>Stockholm</th>\n",
       "      <td>1447.0</td>\n",
       "      <td>6443.0</td>\n",
       "      <td>597.0</td>\n",
       "      <td>265.0</td>\n",
       "    </tr>\n",
       "    <tr>\n",
       "      <th>Vienna</th>\n",
       "      <td>2536.0</td>\n",
       "      <td>22136.0</td>\n",
       "      <td>731.0</td>\n",
       "      <td>1378.0</td>\n",
       "    </tr>\n",
       "    <tr>\n",
       "      <th>Warsaw</th>\n",
       "      <td>279.0</td>\n",
       "      <td>5017.0</td>\n",
       "      <td>498.0</td>\n",
       "      <td>261.0</td>\n",
       "    </tr>\n",
       "    <tr>\n",
       "      <th>Zurich</th>\n",
       "      <td>1492.0</td>\n",
       "      <td>4794.0</td>\n",
       "      <td>411.0</td>\n",
       "      <td>385.0</td>\n",
       "    </tr>\n",
       "  </tbody>\n",
       "</table>\n",
       "</div>"
      ],
      "text/plain": [
       "            low price range  mid price range  high price range  \\\n",
       "City                                                             \n",
       "Amsterdam            2528.0          25736.0             484.0   \n",
       "Athens               1624.0           9163.0             562.0   \n",
       "Barcelona            7489.0          66039.0            2267.0   \n",
       "Berlin               2555.0          20180.0            1688.0   \n",
       "Bratislava            793.0           1237.0             238.0   \n",
       "Brussels             1742.0          18766.0             638.0   \n",
       "Budapest             3031.0          23919.0             513.0   \n",
       "Copenhagen             27.0          12488.0             339.0   \n",
       "Dublin                117.0          18279.0             210.0   \n",
       "Edinburgh             878.0          30991.0             527.0   \n",
       "Geneva               1335.0           5426.0             175.0   \n",
       "Hamburg               541.0           4371.0            1082.0   \n",
       "Helsinki              848.0           3611.0             198.0   \n",
       "Krakow                367.0           8923.0             230.0   \n",
       "Lisbon                620.0          23361.0             779.0   \n",
       "Ljubljana               NaN           5123.0              37.0   \n",
       "London              24126.0         111426.0            2576.0   \n",
       "Luxembourg            391.0           2601.0             170.0   \n",
       "Lyon                 1052.0          11718.0            1651.0   \n",
       "Madrid              10936.0          46818.0            4469.0   \n",
       "Milan                3377.0          53867.0            3909.0   \n",
       "Munich               2020.0          19531.0             560.0   \n",
       "Oporto               1250.0          10331.0             369.0   \n",
       "Oslo                 1924.0           3425.0             155.0   \n",
       "Paris               14449.0          80740.0            4671.0   \n",
       "Prague               3930.0          23395.0             666.0   \n",
       "Rome                 5354.0          74662.0            2844.0   \n",
       "Stockholm            1447.0           6443.0             597.0   \n",
       "Vienna               2536.0          22136.0             731.0   \n",
       "Warsaw                279.0           5017.0             498.0   \n",
       "Zurich               1492.0           4794.0             411.0   \n",
       "\n",
       "            unknown price range  \n",
       "City                             \n",
       "Amsterdam                3015.0  \n",
       "Athens                   2599.0  \n",
       "Barcelona                6669.0  \n",
       "Berlin                   3909.0  \n",
       "Bratislava                174.0  \n",
       "Brussels                 1901.0  \n",
       "Budapest                 3815.0  \n",
       "Copenhagen               1581.0  \n",
       "Dublin                   1143.0  \n",
       "Edinburgh                1475.0  \n",
       "Geneva                   1957.0  \n",
       "Hamburg                  1933.0  \n",
       "Helsinki                  499.0  \n",
       "Krakow                   3285.0  \n",
       "Lisbon                   7644.0  \n",
       "Ljubljana                 336.0  \n",
       "London                  15301.0  \n",
       "Luxembourg                 40.0  \n",
       "Lyon                     1013.0  \n",
       "Madrid                   7088.0  \n",
       "Milan                   17313.0  \n",
       "Munich                   1559.0  \n",
       "Oporto                   2734.0  \n",
       "Oslo                      608.0  \n",
       "Paris                   10103.0  \n",
       "Prague                   5545.0  \n",
       "Rome                    29396.0  \n",
       "Stockholm                 265.0  \n",
       "Vienna                   1378.0  \n",
       "Warsaw                    261.0  \n",
       "Zurich                    385.0  "
      ]
     },
     "execution_count": 183,
     "metadata": {},
     "output_type": "execute_result"
    }
   ],
   "source": [
    "reviews_count_pr"
   ]
  },
  {
   "cell_type": "markdown",
   "metadata": {},
   "source": [
    "Analysis on Bases of city and Price range accorgingly ."
   ]
  },
  {
   "cell_type": "code",
   "execution_count": 50,
   "metadata": {},
   "outputs": [
    {
     "name": "stdout",
     "output_type": "stream",
     "text": [
      "                                          Name       City  Reviewsinnos  \\\n",
      "101406                             Jazz y Jazz      Paris      5.000000   \n",
      "43464                               Va E Volte     Lisbon     65.000000   \n",
      "16839                                 Pamfilya     Berlin     16.000000   \n",
      "34131                      Saveurs et Couleurs     Geneva     66.000000   \n",
      "19549                      Victoria Celtic Pub     Berlin      5.000000   \n",
      "114428                                 Ranieri       Rome     17.000000   \n",
      "98526                            Bermuda Onion      Paris    453.000000   \n",
      "83272                            Crudo & Cotto      Milan    125.271649   \n",
      "76517                              madera FINA     Madrid    125.271649   \n",
      "32400                              Rocket Cafe  Edinburgh    111.000000   \n",
      "60223           Pizza Hut Golders Green London     London      6.000000   \n",
      "76363                          La Gran Muralla     Madrid    125.271649   \n",
      "19839                             Call A Pizza     Berlin     12.000000   \n",
      "1855                               Burger King  Amsterdam    171.000000   \n",
      "39270                         Puotilan Kartano   Helsinki     15.000000   \n",
      "22468                Boston Steak House Rogier   Brussels    439.000000   \n",
      "2489                          Topkapiamsterdam  Amsterdam      2.000000   \n",
      "96568                                Like Home      Paris     22.000000   \n",
      "24833                                Pizza Hut   Brussels      3.000000   \n",
      "24250                               les vignes   Brussels      3.000000   \n",
      "25621                            La Guna Sushi   Budapest     36.000000   \n",
      "49012                   Gourmet Burger Kitchen     London    145.000000   \n",
      "96453                           Kebab Paradise      Paris     31.000000   \n",
      "41397                               Quase Cafe     Lisbon     73.000000   \n",
      "125198                            Post Adlikon     Zurich      8.000000   \n",
      "103682           Chicha Le Tanjia Lounge Paris      Paris    125.271649   \n",
      "78951                        Restaurant Youshi      Milan    178.000000   \n",
      "87460                          Docinhos da Ana     Oporto      3.000000   \n",
      "1851                         Graceland Bar-B-Q  Amsterdam    119.000000   \n",
      "20730                                  Mischau     Berlin    125.271649   \n",
      "77158                          Universo Vegano      Milan    327.000000   \n",
      "52968                        The Golden Fleece     London     36.000000   \n",
      "16138         Thulicious - Best of both Worlds     Berlin      9.000000   \n",
      "115766                             The Artisan  Stockholm      7.000000   \n",
      "25746             Blue Tomato pub & restaurant   Budapest    128.000000   \n",
      "118229                  Robert's Alt Sievering     Vienna     61.000000   \n",
      "85200              Restaurant-Bar \"Zur Stub'n\"     Munich      2.000000   \n",
      "55106                       Lovelygloworm Cafe     London    125.271649   \n",
      "77867                                    Sarla      Milan    524.000000   \n",
      "117802                                LeBurger     Vienna    482.000000   \n",
      "33196                                   Mama G  Edinburgh      3.000000   \n",
      "52394                               Red Bamboo     London     36.000000   \n",
      "23009                             Les 3 freres   Brussels     19.000000   \n",
      "62665                         Marlon's Kitchen     London    125.271649   \n",
      "106932                               U Broucku     Prague      6.000000   \n",
      "24682                  Auberge du Kasterlinden   Brussels     87.000000   \n",
      "110174                   Hostaria Antico Lotto       Rome    337.000000   \n",
      "45487   Restaurant and Pizzeria Grad Kodeljevo  Ljubljana     15.000000   \n",
      "70369                                Rio Nalon     Madrid     22.000000   \n",
      "84827                 Cotidiano Promenadeplatz     Munich     20.000000   \n",
      "\n",
      "         Rating  Ranking  \n",
      "101406  4.00000   101407  \n",
      "43464   3.50000    43465  \n",
      "16839   4.00000    16840  \n",
      "34131   4.00000    34132  \n",
      "19549   3.00000    19550  \n",
      "114428  4.00000   114429  \n",
      "98526   3.00000    98527  \n",
      "83272   3.97831    83273  \n",
      "76517   3.97831    76518  \n",
      "32400   4.50000    32401  \n",
      "60223   3.00000    60224  \n",
      "76363   3.97831    76364  \n",
      "19839   3.00000    19840  \n",
      "1855    3.50000     1856  \n",
      "39270   3.50000    39271  \n",
      "22468   3.50000    22469  \n",
      "2489    4.00000     2490  \n",
      "96568   4.50000    96569  \n",
      "24833   2.50000    24834  \n",
      "24250   3.50000    24251  \n",
      "25621   4.50000    25622  \n",
      "49012   4.00000    49013  \n",
      "96453   4.50000    96454  \n",
      "41397   5.00000    41398  \n",
      "125198  3.50000   125199  \n",
      "103682  3.97831   103683  \n",
      "78951   3.50000    78952  \n",
      "87460   5.00000    87461  \n",
      "1851    3.50000     1852  \n",
      "20730   3.97831    20731  \n",
      "77158   4.50000    77159  \n",
      "52968   4.00000    52969  \n",
      "16138   4.50000    16139  \n",
      "115766  5.00000   115767  \n",
      "25746   4.00000    25747  \n",
      "118229  4.50000   118230  \n",
      "85200   5.00000    85201  \n",
      "55106   5.00000    55107  \n",
      "77867   4.00000    77868  \n",
      "117802  4.50000   117803  \n",
      "33196   4.50000    33197  \n",
      "52394   4.00000    52395  \n",
      "23009   4.50000    23010  \n",
      "62665   3.97831    62666  \n",
      "106932  3.50000   106933  \n",
      "24682   3.50000    24683  \n",
      "110174  4.50000   110175  \n",
      "45487   4.00000    45488  \n",
      "70369   4.00000    70370  \n",
      "84827   4.00000    84828  \n"
     ]
    }
   ],
   "source": [
    "reviews_rankrate_df = Rst.loc[:, ['Name', 'City', 'Reviewsinnos' , 'Rating']]   \n",
    "reviews_rankrate_df['Ranking'] = reviews_rankrate_df.index +1\n",
    "print(reviews_rankrate_df.tail(50))"
   ]
  },
  {
   "cell_type": "code",
   "execution_count": 51,
   "metadata": {},
   "outputs": [
    {
     "data": {
      "text/plain": [
       "Name               0\n",
       "City               0\n",
       "Cuisine         2522\n",
       "Ranking            0\n",
       "Rating             0\n",
       "PriceinRange       0\n",
       "Reviewsinnos       0\n",
       "Reviews          752\n",
       "dtype: int64"
      ]
     },
     "execution_count": 51,
     "metadata": {},
     "output_type": "execute_result"
    }
   ],
   "source": [
    "Rst.isnull().sum()"
   ]
  },
  {
   "cell_type": "code",
   "execution_count": 52,
   "metadata": {},
   "outputs": [
    {
     "data": {
      "text/plain": [
       "Index(['Name', 'City', 'Cuisine', 'Ranking', 'Rating', 'PriceinRange',\n",
       "       'Reviewsinnos', 'Reviews'],\n",
       "      dtype='object')"
      ]
     },
     "execution_count": 52,
     "metadata": {},
     "output_type": "execute_result"
    }
   ],
   "source": [
    "Rst.columns"
   ]
  },
  {
   "cell_type": "code",
   "execution_count": 53,
   "metadata": {
    "collapsed": true
   },
   "outputs": [],
   "source": [
    "from sklearn.preprocessing import LabelEncoder\n",
    "T = LabelEncoder()                 \n"
   ]
  },
  {
   "cell_type": "code",
   "execution_count": 54,
   "metadata": {
    "collapsed": true
   },
   "outputs": [],
   "source": [
    "Rst['City'] = T.fit_transform(Rst['City'])\n",
    "#Rst['Cuisine'] = T.fit_transform(Rst['Cuisine'])\n",
    "Rst['Reviewsinnos'] = T.fit_transform(Rst['Reviewsinnos'])"
   ]
  },
  {
   "cell_type": "code",
   "execution_count": 55,
   "metadata": {},
   "outputs": [
    {
     "data": {
      "text/html": [
       "<div>\n",
       "<style>\n",
       "    .dataframe thead tr:only-child th {\n",
       "        text-align: right;\n",
       "    }\n",
       "\n",
       "    .dataframe thead th {\n",
       "        text-align: left;\n",
       "    }\n",
       "\n",
       "    .dataframe tbody tr th {\n",
       "        vertical-align: top;\n",
       "    }\n",
       "</style>\n",
       "<table border=\"1\" class=\"dataframe\">\n",
       "  <thead>\n",
       "    <tr style=\"text-align: right;\">\n",
       "      <th></th>\n",
       "      <th>Name</th>\n",
       "      <th>City</th>\n",
       "      <th>Cuisine</th>\n",
       "      <th>Ranking</th>\n",
       "      <th>Rating</th>\n",
       "      <th>PriceinRange</th>\n",
       "      <th>Reviewsinnos</th>\n",
       "      <th>Reviews</th>\n",
       "    </tr>\n",
       "  </thead>\n",
       "  <tbody>\n",
       "    <tr>\n",
       "      <th>48307</th>\n",
       "      <td>Piebury Corner - Kings Cross</td>\n",
       "      <td>16</td>\n",
       "      <td>['British', 'Bar', 'Pub', 'Diner', 'Scottish',...</td>\n",
       "      <td>2732.000000</td>\n",
       "      <td>4.50000</td>\n",
       "      <td>2</td>\n",
       "      <td>38</td>\n",
       "      <td>[['Lovely evening', 'Brilliant pie before an a...</td>\n",
       "    </tr>\n",
       "    <tr>\n",
       "      <th>108919</th>\n",
       "      <td>Pod Schudky</td>\n",
       "      <td>25</td>\n",
       "      <td>['European', 'Czech']</td>\n",
       "      <td>3646.727568</td>\n",
       "      <td>3.97831</td>\n",
       "      <td>0</td>\n",
       "      <td>124</td>\n",
       "      <td>NaN</td>\n",
       "    </tr>\n",
       "    <tr>\n",
       "      <th>94004</th>\n",
       "      <td>Tofuya</td>\n",
       "      <td>24</td>\n",
       "      <td>['Japanese']</td>\n",
       "      <td>4608.000000</td>\n",
       "      <td>4.50000</td>\n",
       "      <td>2</td>\n",
       "      <td>20</td>\n",
       "      <td>[['Great for a tasty and healthy lunch', 'A ne...</td>\n",
       "    </tr>\n",
       "    <tr>\n",
       "      <th>27180</th>\n",
       "      <td>Tinto</td>\n",
       "      <td>6</td>\n",
       "      <td>['Spanish']</td>\n",
       "      <td>2035.000000</td>\n",
       "      <td>3.50000</td>\n",
       "      <td>0</td>\n",
       "      <td>13</td>\n",
       "      <td>[['Great place', 'Brilliant'], ['02/15/2017', ...</td>\n",
       "    </tr>\n",
       "    <tr>\n",
       "      <th>106532</th>\n",
       "      <td>Pivonkove Zatisi</td>\n",
       "      <td>25</td>\n",
       "      <td>NaN</td>\n",
       "      <td>2266.000000</td>\n",
       "      <td>4.00000</td>\n",
       "      <td>0</td>\n",
       "      <td>17</td>\n",
       "      <td>[['Chinese is Chinese', 'Cheap but not very go...</td>\n",
       "    </tr>\n",
       "    <tr>\n",
       "      <th>51328</th>\n",
       "      <td>Frankie &amp; Benny's</td>\n",
       "      <td>16</td>\n",
       "      <td>['Italian', 'American', 'Pizza', 'Vegetarian F...</td>\n",
       "      <td>5757.000000</td>\n",
       "      <td>3.50000</td>\n",
       "      <td>2</td>\n",
       "      <td>340</td>\n",
       "      <td>[['Evening Meal', 'Brekkie'], ['12/22/2017', '...</td>\n",
       "    </tr>\n",
       "    <tr>\n",
       "      <th>82367</th>\n",
       "      <td>Central Cafe</td>\n",
       "      <td>20</td>\n",
       "      <td>['Italian']</td>\n",
       "      <td>5448.000000</td>\n",
       "      <td>3.50000</td>\n",
       "      <td>2</td>\n",
       "      <td>18</td>\n",
       "      <td>[['Central Caffe', 'The best was the cold hein...</td>\n",
       "    </tr>\n",
       "    <tr>\n",
       "      <th>24440</th>\n",
       "      <td>Winery Boitsfort</td>\n",
       "      <td>5</td>\n",
       "      <td>['Belgian', 'Mediterranean', 'European', 'Soups']</td>\n",
       "      <td>2499.000000</td>\n",
       "      <td>3.50000</td>\n",
       "      <td>2</td>\n",
       "      <td>2</td>\n",
       "      <td>[[], []]</td>\n",
       "    </tr>\n",
       "    <tr>\n",
       "      <th>75299</th>\n",
       "      <td>Kiosco Torrero</td>\n",
       "      <td>19</td>\n",
       "      <td>['Fusion']</td>\n",
       "      <td>7927.000000</td>\n",
       "      <td>2.00000</td>\n",
       "      <td>1</td>\n",
       "      <td>3</td>\n",
       "      <td>[[], []]</td>\n",
       "    </tr>\n",
       "    <tr>\n",
       "      <th>229</th>\n",
       "      <td>Sampurna</td>\n",
       "      <td>0</td>\n",
       "      <td>['Asian', 'Indonesian', 'Vegetarian Friendly',...</td>\n",
       "      <td>230.000000</td>\n",
       "      <td>4.00000</td>\n",
       "      <td>2</td>\n",
       "      <td>626</td>\n",
       "      <td>[['An authentic Indonesian meal in Amsterdam',...</td>\n",
       "    </tr>\n",
       "  </tbody>\n",
       "</table>\n",
       "</div>"
      ],
      "text/plain": [
       "                                Name  City  \\\n",
       "48307   Piebury Corner - Kings Cross    16   \n",
       "108919                   Pod Schudky    25   \n",
       "94004                         Tofuya    24   \n",
       "27180                          Tinto     6   \n",
       "106532              Pivonkove Zatisi    25   \n",
       "51328              Frankie & Benny's    16   \n",
       "82367                   Central Cafe    20   \n",
       "24440               Winery Boitsfort     5   \n",
       "75299                 Kiosco Torrero    19   \n",
       "229                         Sampurna     0   \n",
       "\n",
       "                                                  Cuisine      Ranking  \\\n",
       "48307   ['British', 'Bar', 'Pub', 'Diner', 'Scottish',...  2732.000000   \n",
       "108919                              ['European', 'Czech']  3646.727568   \n",
       "94004                                        ['Japanese']  4608.000000   \n",
       "27180                                         ['Spanish']  2035.000000   \n",
       "106532                                                NaN  2266.000000   \n",
       "51328   ['Italian', 'American', 'Pizza', 'Vegetarian F...  5757.000000   \n",
       "82367                                         ['Italian']  5448.000000   \n",
       "24440   ['Belgian', 'Mediterranean', 'European', 'Soups']  2499.000000   \n",
       "75299                                          ['Fusion']  7927.000000   \n",
       "229     ['Asian', 'Indonesian', 'Vegetarian Friendly',...   230.000000   \n",
       "\n",
       "         Rating  PriceinRange  Reviewsinnos  \\\n",
       "48307   4.50000             2            38   \n",
       "108919  3.97831             0           124   \n",
       "94004   4.50000             2            20   \n",
       "27180   3.50000             0            13   \n",
       "106532  4.00000             0            17   \n",
       "51328   3.50000             2           340   \n",
       "82367   3.50000             2            18   \n",
       "24440   3.50000             2             2   \n",
       "75299   2.00000             1             3   \n",
       "229     4.00000             2           626   \n",
       "\n",
       "                                                  Reviews  \n",
       "48307   [['Lovely evening', 'Brilliant pie before an a...  \n",
       "108919                                                NaN  \n",
       "94004   [['Great for a tasty and healthy lunch', 'A ne...  \n",
       "27180   [['Great place', 'Brilliant'], ['02/15/2017', ...  \n",
       "106532  [['Chinese is Chinese', 'Cheap but not very go...  \n",
       "51328   [['Evening Meal', 'Brekkie'], ['12/22/2017', '...  \n",
       "82367   [['Central Caffe', 'The best was the cold hein...  \n",
       "24440                                            [[], []]  \n",
       "75299                                            [[], []]  \n",
       "229     [['An authentic Indonesian meal in Amsterdam',...  "
      ]
     },
     "execution_count": 55,
     "metadata": {},
     "output_type": "execute_result"
    }
   ],
   "source": [
    "Rst.head(10)"
   ]
  },
  {
   "cell_type": "code",
   "execution_count": 56,
   "metadata": {
    "collapsed": true
   },
   "outputs": [],
   "source": [
    "x = Rst.drop([\"Name\",\"Cuisine\",\"Reviews\",\"Rating\"],axis = 1)"
   ]
  },
  {
   "cell_type": "code",
   "execution_count": 57,
   "metadata": {},
   "outputs": [
    {
     "data": {
      "text/html": [
       "<div>\n",
       "<style>\n",
       "    .dataframe thead tr:only-child th {\n",
       "        text-align: right;\n",
       "    }\n",
       "\n",
       "    .dataframe thead th {\n",
       "        text-align: left;\n",
       "    }\n",
       "\n",
       "    .dataframe tbody tr th {\n",
       "        vertical-align: top;\n",
       "    }\n",
       "</style>\n",
       "<table border=\"1\" class=\"dataframe\">\n",
       "  <thead>\n",
       "    <tr style=\"text-align: right;\">\n",
       "      <th></th>\n",
       "      <th>City</th>\n",
       "      <th>Ranking</th>\n",
       "      <th>PriceinRange</th>\n",
       "      <th>Reviewsinnos</th>\n",
       "    </tr>\n",
       "  </thead>\n",
       "  <tbody>\n",
       "    <tr>\n",
       "      <th>48307</th>\n",
       "      <td>16</td>\n",
       "      <td>2732.000000</td>\n",
       "      <td>2</td>\n",
       "      <td>38</td>\n",
       "    </tr>\n",
       "    <tr>\n",
       "      <th>108919</th>\n",
       "      <td>25</td>\n",
       "      <td>3646.727568</td>\n",
       "      <td>0</td>\n",
       "      <td>124</td>\n",
       "    </tr>\n",
       "    <tr>\n",
       "      <th>94004</th>\n",
       "      <td>24</td>\n",
       "      <td>4608.000000</td>\n",
       "      <td>2</td>\n",
       "      <td>20</td>\n",
       "    </tr>\n",
       "    <tr>\n",
       "      <th>27180</th>\n",
       "      <td>6</td>\n",
       "      <td>2035.000000</td>\n",
       "      <td>0</td>\n",
       "      <td>13</td>\n",
       "    </tr>\n",
       "    <tr>\n",
       "      <th>106532</th>\n",
       "      <td>25</td>\n",
       "      <td>2266.000000</td>\n",
       "      <td>0</td>\n",
       "      <td>17</td>\n",
       "    </tr>\n",
       "  </tbody>\n",
       "</table>\n",
       "</div>"
      ],
      "text/plain": [
       "        City      Ranking  PriceinRange  Reviewsinnos\n",
       "48307     16  2732.000000             2            38\n",
       "108919    25  3646.727568             0           124\n",
       "94004     24  4608.000000             2            20\n",
       "27180      6  2035.000000             0            13\n",
       "106532    25  2266.000000             0            17"
      ]
     },
     "execution_count": 57,
     "metadata": {},
     "output_type": "execute_result"
    }
   ],
   "source": [
    "x.head()"
   ]
  },
  {
   "cell_type": "code",
   "execution_count": 58,
   "metadata": {
    "collapsed": true
   },
   "outputs": [],
   "source": [
    "y = Rst['Rating']"
   ]
  },
  {
   "cell_type": "code",
   "execution_count": 59,
   "metadata": {},
   "outputs": [
    {
     "data": {
      "text/plain": [
       "(10000, 4)"
      ]
     },
     "execution_count": 59,
     "metadata": {},
     "output_type": "execute_result"
    }
   ],
   "source": [
    "x.shape"
   ]
  },
  {
   "cell_type": "code",
   "execution_count": 60,
   "metadata": {},
   "outputs": [
    {
     "data": {
      "text/plain": [
       "(10000,)"
      ]
     },
     "execution_count": 60,
     "metadata": {},
     "output_type": "execute_result"
    }
   ],
   "source": [
    "y.shape"
   ]
  },
  {
   "cell_type": "code",
   "execution_count": 61,
   "metadata": {},
   "outputs": [
    {
     "name": "stdout",
     "output_type": "stream",
     "text": [
      "<class 'pandas.core.frame.DataFrame'>\n",
      "Int64Index: 10000 entries, 48307 to 84827\n",
      "Data columns (total 8 columns):\n",
      "Name            10000 non-null object\n",
      "City            10000 non-null int32\n",
      "Cuisine         7478 non-null object\n",
      "Ranking         10000 non-null float64\n",
      "Rating          10000 non-null float64\n",
      "PriceinRange    10000 non-null int64\n",
      "Reviewsinnos    10000 non-null int64\n",
      "Reviews         9248 non-null object\n",
      "dtypes: float64(2), int32(1), int64(2), object(3)\n",
      "memory usage: 664.1+ KB\n"
     ]
    }
   ],
   "source": [
    "Rst.info()"
   ]
  },
  {
   "cell_type": "code",
   "execution_count": 287,
   "metadata": {
    "collapsed": true
   },
   "outputs": [],
   "source": [
    "from sklearn.preprocessing import StandardScaler\n",
    "num_values1 = Rst.select_dtypes(['float64','int64']).columns\n",
    "scaler = StandardScaler()\n",
    "scaler.fit(Rst[num_values1])\n",
    "Rst[num_values1]=scaler.transform(Rst[num_values1])"
   ]
  },
  {
   "cell_type": "code",
   "execution_count": 288,
   "metadata": {},
   "outputs": [
    {
     "data": {
      "text/html": [
       "<div>\n",
       "<style>\n",
       "    .dataframe thead tr:only-child th {\n",
       "        text-align: right;\n",
       "    }\n",
       "\n",
       "    .dataframe thead th {\n",
       "        text-align: left;\n",
       "    }\n",
       "\n",
       "    .dataframe tbody tr th {\n",
       "        vertical-align: top;\n",
       "    }\n",
       "</style>\n",
       "<table border=\"1\" class=\"dataframe\">\n",
       "  <thead>\n",
       "    <tr style=\"text-align: right;\">\n",
       "      <th></th>\n",
       "      <th>Name</th>\n",
       "      <th>City</th>\n",
       "      <th>Cuisine</th>\n",
       "      <th>Ranking</th>\n",
       "      <th>Rating</th>\n",
       "      <th>PriceinRange</th>\n",
       "      <th>Reviewsinnos</th>\n",
       "      <th>Reviews</th>\n",
       "    </tr>\n",
       "  </thead>\n",
       "  <tbody>\n",
       "    <tr>\n",
       "      <th>20201</th>\n",
       "      <td>Kino Bar</td>\n",
       "      <td>3</td>\n",
       "      <td>['Bar', 'Grill', 'Pub']</td>\n",
       "      <td>NaN</td>\n",
       "      <td>-0.383293</td>\n",
       "      <td>-1.129159</td>\n",
       "      <td>3.581557</td>\n",
       "      <td>NaN</td>\n",
       "    </tr>\n",
       "    <tr>\n",
       "      <th>120095</th>\n",
       "      <td>Simmeringer Landbier</td>\n",
       "      <td>28</td>\n",
       "      <td>NaN</td>\n",
       "      <td>-0.360250</td>\n",
       "      <td>-0.978932</td>\n",
       "      <td>-1.129159</td>\n",
       "      <td>-0.492909</td>\n",
       "      <td>[['Interesting place', 'What can I say'], ['07...</td>\n",
       "    </tr>\n",
       "    <tr>\n",
       "      <th>124697</th>\n",
       "      <td>Schlauch</td>\n",
       "      <td>30</td>\n",
       "      <td>NaN</td>\n",
       "      <td>-0.757048</td>\n",
       "      <td>0.807983</td>\n",
       "      <td>-1.129159</td>\n",
       "      <td>-0.515296</td>\n",
       "      <td>[['Good Organic Food At Moderate Prices', 'Bil...</td>\n",
       "    </tr>\n",
       "    <tr>\n",
       "      <th>99852</th>\n",
       "      <td>Open Cafe</td>\n",
       "      <td>24</td>\n",
       "      <td>NaN</td>\n",
       "      <td>1.835077</td>\n",
       "      <td>-0.978932</td>\n",
       "      <td>-1.129159</td>\n",
       "      <td>-0.550743</td>\n",
       "      <td>[['A good pit-stop'], ['12/04/2017']]</td>\n",
       "    </tr>\n",
       "    <tr>\n",
       "      <th>21590</th>\n",
       "      <td>Slovenska Restauracia</td>\n",
       "      <td>4</td>\n",
       "      <td>['Central European', 'European']</td>\n",
       "      <td>-0.790743</td>\n",
       "      <td>-0.978932</td>\n",
       "      <td>0.917902</td>\n",
       "      <td>-0.438807</td>\n",
       "      <td>[['Do not go there', 'Mediocre and overpriced'...</td>\n",
       "    </tr>\n",
       "  </tbody>\n",
       "</table>\n",
       "</div>"
      ],
      "text/plain": [
       "                         Name  City                           Cuisine  \\\n",
       "20201                Kino Bar     3           ['Bar', 'Grill', 'Pub']   \n",
       "120095   Simmeringer Landbier    28                               NaN   \n",
       "124697               Schlauch    30                               NaN   \n",
       "99852               Open Cafe    24                               NaN   \n",
       "21590   Slovenska Restauracia     4  ['Central European', 'European']   \n",
       "\n",
       "         Ranking    Rating  PriceinRange  Reviewsinnos  \\\n",
       "20201        NaN -0.383293     -1.129159      3.581557   \n",
       "120095 -0.360250 -0.978932     -1.129159     -0.492909   \n",
       "124697 -0.757048  0.807983     -1.129159     -0.515296   \n",
       "99852   1.835077 -0.978932     -1.129159     -0.550743   \n",
       "21590  -0.790743 -0.978932      0.917902     -0.438807   \n",
       "\n",
       "                                                  Reviews  \n",
       "20201                                                 NaN  \n",
       "120095  [['Interesting place', 'What can I say'], ['07...  \n",
       "124697  [['Good Organic Food At Moderate Prices', 'Bil...  \n",
       "99852               [['A good pit-stop'], ['12/04/2017']]  \n",
       "21590   [['Do not go there', 'Mediocre and overpriced'...  "
      ]
     },
     "execution_count": 288,
     "metadata": {},
     "output_type": "execute_result"
    }
   ],
   "source": [
    "Rst.head()"
   ]
  },
  {
   "cell_type": "code",
   "execution_count": 62,
   "metadata": {
    "collapsed": true
   },
   "outputs": [],
   "source": [
    "from sklearn.model_selection import train_test_split\n",
    "X_train,X_test,y_train,y_test = train_test_split(x,y,test_size = 0.2,random_state = 33)"
   ]
  },
  {
   "cell_type": "code",
   "execution_count": 63,
   "metadata": {},
   "outputs": [
    {
     "data": {
      "text/plain": [
       "(8000, 4)"
      ]
     },
     "execution_count": 63,
     "metadata": {},
     "output_type": "execute_result"
    }
   ],
   "source": [
    "X_train.shape"
   ]
  },
  {
   "cell_type": "code",
   "execution_count": 65,
   "metadata": {},
   "outputs": [
    {
     "data": {
      "text/plain": [
       "(2000, 4)"
      ]
     },
     "execution_count": 65,
     "metadata": {},
     "output_type": "execute_result"
    }
   ],
   "source": [
    "X_test.shape"
   ]
  },
  {
   "cell_type": "code",
   "execution_count": 64,
   "metadata": {},
   "outputs": [
    {
     "data": {
      "text/plain": [
       "(8000,)"
      ]
     },
     "execution_count": 64,
     "metadata": {},
     "output_type": "execute_result"
    }
   ],
   "source": [
    "y_train.shape"
   ]
  },
  {
   "cell_type": "code",
   "execution_count": 66,
   "metadata": {},
   "outputs": [
    {
     "data": {
      "text/plain": [
       "(2000,)"
      ]
     },
     "execution_count": 66,
     "metadata": {},
     "output_type": "execute_result"
    }
   ],
   "source": [
    "y_test.shape"
   ]
  },
  {
   "cell_type": "markdown",
   "metadata": {},
   "source": [
    "# Random Forest Regression"
   ]
  },
  {
   "cell_type": "code",
   "execution_count": 67,
   "metadata": {
    "collapsed": true
   },
   "outputs": [],
   "source": [
    "from sklearn import metrics\n",
    "from sklearn.ensemble import RandomForestRegressor\n",
    "rfr = RandomForestRegressor()\n",
    "rfr.fit(X_train,y_train)\n",
    "y_pred_rfr = rfr.predict(X_test)"
   ]
  },
  {
   "cell_type": "code",
   "execution_count": 68,
   "metadata": {},
   "outputs": [
    {
     "data": {
      "text/plain": [
       "67.45000829919012"
      ]
     },
     "execution_count": 68,
     "metadata": {},
     "output_type": "execute_result"
    }
   ],
   "source": [
    "rfr.score(X_test,y_test)*100\n"
   ]
  },
  {
   "cell_type": "markdown",
   "metadata": {},
   "source": [
    "# Ridge Regression"
   ]
  },
  {
   "cell_type": "code",
   "execution_count": 71,
   "metadata": {
    "collapsed": true
   },
   "outputs": [],
   "source": [
    "from sklearn.linear_model import Ridge\n",
    "rdg = Ridge()\n",
    "rdg.fit(X_train,y_train)\n",
    "y_pred_rdg = rdg.predict(X_test)"
   ]
  },
  {
   "cell_type": "code",
   "execution_count": 72,
   "metadata": {},
   "outputs": [
    {
     "data": {
      "text/plain": [
       "8.669824856555042"
      ]
     },
     "execution_count": 72,
     "metadata": {},
     "output_type": "execute_result"
    }
   ],
   "source": [
    "rdg.score(X_test,y_test)*100\n",
    "\n"
   ]
  },
  {
   "cell_type": "markdown",
   "metadata": {},
   "source": [
    "# Linear Regression"
   ]
  },
  {
   "cell_type": "code",
   "execution_count": 73,
   "metadata": {
    "collapsed": true
   },
   "outputs": [],
   "source": [
    "from sklearn.linear_model import LinearRegression\n",
    "lr = LinearRegression()\n",
    "lr.fit(X_train,y_train)\n",
    "y_pred_lr = lr.predict(X_test)"
   ]
  },
  {
   "cell_type": "code",
   "execution_count": 74,
   "metadata": {},
   "outputs": [
    {
     "data": {
      "text/plain": [
       "8.669826776028522"
      ]
     },
     "execution_count": 74,
     "metadata": {},
     "output_type": "execute_result"
    }
   ],
   "source": [
    "lr.score(X_test, y_test)*100\n"
   ]
  },
  {
   "cell_type": "code",
   "execution_count": null,
   "metadata": {
    "collapsed": true
   },
   "outputs": [],
   "source": [
    "### Here we neglecting reviews and the Cuisine columns for future operation ..."
   ]
  },
  {
   "cell_type": "markdown",
   "metadata": {},
   "source": [
    "# Decision Tree"
   ]
  },
  {
   "cell_type": "code",
   "execution_count": 77,
   "metadata": {
    "collapsed": true
   },
   "outputs": [],
   "source": [
    "from sklearn.tree import DecisionTreeRegressor\n"
   ]
  },
  {
   "cell_type": "code",
   "execution_count": 78,
   "metadata": {
    "collapsed": true
   },
   "outputs": [],
   "source": [
    "X_train,X_test,y_train,y_test = train_test_split(x,y,test_size = 0.2,random_state = 105)"
   ]
  },
  {
   "cell_type": "code",
   "execution_count": 79,
   "metadata": {
    "collapsed": true
   },
   "outputs": [],
   "source": [
    "DTree=DecisionTreeRegressor(min_samples_leaf=.0001)\n"
   ]
  },
  {
   "cell_type": "code",
   "execution_count": 82,
   "metadata": {
    "collapsed": true
   },
   "outputs": [],
   "source": [
    "DTree.fit(X_train,y_train)\n",
    "y_predict=DTree.predict(X_test)"
   ]
  },
  {
   "cell_type": "code",
   "execution_count": 83,
   "metadata": {
    "collapsed": true
   },
   "outputs": [],
   "source": [
    "from sklearn.metrics import r2_score\n"
   ]
  },
  {
   "cell_type": "code",
   "execution_count": 84,
   "metadata": {},
   "outputs": [
    {
     "data": {
      "text/plain": [
       "0.5616716867015281"
      ]
     },
     "execution_count": 84,
     "metadata": {},
     "output_type": "execute_result"
    }
   ],
   "source": [
    "r2_score(y_test,y_predict)"
   ]
  },
  {
   "cell_type": "markdown",
   "metadata": {
    "collapsed": true
   },
   "source": []
  },
  {
   "cell_type": "code",
   "execution_count": null,
   "metadata": {
    "collapsed": true
   },
   "outputs": [],
   "source": []
  },
  {
   "cell_type": "code",
   "execution_count": null,
   "metadata": {
    "collapsed": true
   },
   "outputs": [],
   "source": []
  },
  {
   "cell_type": "markdown",
   "metadata": {
    "collapsed": true
   },
   "source": [
    "We Can improve model efficiency by adding Reviews column ."
   ]
  },
  {
   "cell_type": "markdown",
   "metadata": {},
   "source": [
    "# Reviews"
   ]
  },
  {
   "cell_type": "code",
   "execution_count": 9,
   "metadata": {},
   "outputs": [
    {
     "data": {
      "text/plain": [
       "9249"
      ]
     },
     "execution_count": 9,
     "metadata": {},
     "output_type": "execute_result"
    }
   ],
   "source": [
    "Rst.Reviews.value_counts().sum()"
   ]
  },
  {
   "cell_type": "code",
   "execution_count": 10,
   "metadata": {},
   "outputs": [
    {
     "name": "stdout",
     "output_type": "stream",
     "text": [
      "<class 'pandas.core.frame.DataFrame'>\n",
      "Int64Index: 10000 entries, 117400 to 5330\n",
      "Data columns (total 8 columns):\n",
      "Name                 10000 non-null object\n",
      "City                 10000 non-null object\n",
      "Cuisine Style        7524 non-null object\n",
      "Ranking              9246 non-null float64\n",
      "Rating               9248 non-null float64\n",
      "Price Range          6187 non-null object\n",
      "Number of Reviews    8685 non-null float64\n",
      "Reviews              9249 non-null object\n",
      "dtypes: float64(3), object(5)\n",
      "memory usage: 703.1+ KB\n"
     ]
    }
   ],
   "source": [
    "Rst.info()"
   ]
  },
  {
   "cell_type": "code",
   "execution_count": 12,
   "metadata": {
    "scrolled": true
   },
   "outputs": [
    {
     "data": {
      "text/plain": [
       "117400    [['Drinks OK, Food so-so', 'Very rude staff'],...\n",
       "11496     [['Fun, food and frivolity abound!', 'Good coc...\n",
       "50259     [['Nice simple food and service', 'Very specia...\n",
       "28611     [['Nice atmosphere, mediocre food', 'Good trad...\n",
       "94655           [['Excellent Boulangerie'], ['07/28/2017']]\n",
       "73658     [['Cheap franchise', 'Great atmosphere, inexpe...\n",
       "23099     [['Simply fabulous', 'really tasty and with a ...\n",
       "62279                                                   NaN\n",
       "20787                                                   NaN\n",
       "71878                                              [[], []]\n",
       "123919    [['Adorable', 'Great food and coffee'], ['01/0...\n",
       "100247                                             [[], []]\n",
       "73275                       [['Cercanias'], ['10/12/2016']]\n",
       "23668     [['Nothing special: ok food with a higher th.....\n",
       "81223                                              [[], []]\n",
       "84861     [['Bavarian fare', 'CLOSED'], ['08/18/2016', '...\n",
       "35232                                                   NaN\n",
       "68821     [['Great food and wonderful service', 'Next Ti...\n",
       "38032                                              [[], []]\n",
       "78606     [['Fresh, informal, different: a great fish r....\n",
       "95959     [['Must go!', 'Accommodating Staff, Acceptable...\n",
       "63704                                                   NaN\n",
       "16966     [['Great service and food', 'Excellent service...\n",
       "69574     [['Excellent, home-cooked food!', 'Simple and ...\n",
       "44255                                              [[], []]\n",
       "26677     [[\"Only if you can't get Korean food elsewher....\n",
       "67520     [['Wonderful dinner. Thank you Bambubox!', 'Su...\n",
       "71182                                              [[], []]\n",
       "51435     [['Lovely crepes', 'Extremely unusual venue'],...\n",
       "77533     [['Nice place to business dinner', 'Risotto to...\n",
       "                                ...                        \n",
       "124556    [['Really tasty food', 'delicious food'], ['08...\n",
       "120783    [['Four restaurants in large area', 'Nice Atmo...\n",
       "114532    [['Open late', 'Worst pizza I have ever eaten!...\n",
       "86701     [['Worthwhile', 'Very good food'], ['02/12/201...\n",
       "125124                                             [[], []]\n",
       "121104    [['Still cannot believe...', 'Great surprise']...\n",
       "122065    [['Interesting Egyptian restaurant', 'Can be g...\n",
       "39167                      [['Nice lunch'], ['12/21/2017']]\n",
       "69495                      [['Marvellous'], ['04/20/2016']]\n",
       "49604     [['Not too bad', 'Attractive, well located doc...\n",
       "90364     [['Casual in the Upscale 7th', 'Good location ...\n",
       "114508    [['Fabulous Pizza, Fabulous Service', 'Our fir...\n",
       "112639                                             [[], []]\n",
       "36890                                              [[], []]\n",
       "59159     [['Decent coffee in a rather dated cafe', 'A n...\n",
       "83161                                              [[], []]\n",
       "41666     [['Great choice of drinks and reasonable pric....\n",
       "84055     [['Great food; ambiance & service average', 'S...\n",
       "21118                                              [[], []]\n",
       "84017     [['Indian food from its good side', \"Some dish...\n",
       "108256    [['Better than Italian pizza', 'Avoid, if not ...\n",
       "81495                                              [[], []]\n",
       "45409     [['Pizzas and more!', 'Lunch time'], ['02/14/2...\n",
       "77656     [['Cool cocktails list', 'In my list of favour...\n",
       "99638     [['Yum!', 'Good for lunch'], ['10/12/2017', '0...\n",
       "77860     [['Nice & expensive', 'So cool'], ['12/17/2017...\n",
       "36866     [['Good for a late night', 'Nice burgers in de...\n",
       "69420     [['Just eat the Tapas and drink the wine', 'Ni...\n",
       "56243     [['great breakfast', 'average'], ['08/02/2017'...\n",
       "5330                                                    NaN\n",
       "Name: Reviews, Length: 10000, dtype: object"
      ]
     },
     "execution_count": 12,
     "metadata": {},
     "output_type": "execute_result"
    }
   ],
   "source": [
    "Rst[\"Reviews\"]"
   ]
  },
  {
   "cell_type": "code",
   "execution_count": 15,
   "metadata": {
    "collapsed": true
   },
   "outputs": [],
   "source": [
    "Rst[\"Reviews\"].replace(\n",
    "    {'\\d+[\\/:\\-]\\d+[\\/:\\-\\s]*[\\dAaPpMm]*' : '', '\\w+\\s\\d+[\\,]\\s\\d+' : ''},\n",
    "    regex=True,\n",
    "    inplace=True,\n",
    "    )"
   ]
  },
  {
   "cell_type": "code",
   "execution_count": 16,
   "metadata": {
    "scrolled": false
   },
   "outputs": [
    {
     "data": {
      "text/plain": [
       "117400    [['Drinks OK, Food so-so', 'Very rude staff'],...\n",
       "11496     [['Fun, food and frivolity abound!', 'Good coc...\n",
       "50259     [['Nice simple food and service', 'Very specia...\n",
       "28611     [['Nice atmosphere, mediocre food', 'Good trad...\n",
       "94655                     [['Excellent Boulangerie'], ['']]\n",
       "73658     [['Cheap franchise', 'Great atmosphere, inexpe...\n",
       "23099     [['Simply fabulous', 'really tasty and with a ...\n",
       "62279                                                   NaN\n",
       "20787                                                   NaN\n",
       "71878                                              [[], []]\n",
       "123919    [['Adorable', 'Great food and coffee'], ['', '']]\n",
       "100247                                             [[], []]\n",
       "73275                                 [['Cercanias'], ['']]\n",
       "23668     [['Nothing special: ok food with a higher th.....\n",
       "81223                                              [[], []]\n",
       "84861               [['Bavarian fare', 'CLOSED'], ['', '']]\n",
       "35232                                                   NaN\n",
       "68821     [['Great food and wonderful service', 'Next Ti...\n",
       "38032                                              [[], []]\n",
       "78606     [['Fresh, informal, different: a great fish r....\n",
       "95959     [['Must go!', 'Accommodating Staff, Acceptable...\n",
       "63704                                                   NaN\n",
       "16966     [['Great service and food', 'Excellent service...\n",
       "69574     [['Excellent, home-cooked food!', 'Simple and ...\n",
       "44255                                              [[], []]\n",
       "26677     [[\"Only if you can't get Korean food elsewher....\n",
       "67520     [['Wonderful dinner. Thank you Bambubox!', 'Su...\n",
       "71182                                              [[], []]\n",
       "51435     [['Lovely crepes', 'Extremely unusual venue'],...\n",
       "77533     [['Nice place to business dinner', 'Risotto to...\n",
       "78905                   [['Amazing and quick lunch'], ['']]\n",
       "49744     [['Always packed but lovely food!', 'Photo Day...\n",
       "103330                                             [[], []]\n",
       "84184     [['Pizza soggy in middle', 'Wanted to try some...\n",
       "6154      [['Delicious food', 'Great food and service'],...\n",
       "24138                      [['For maximum cosiness'], ['']]\n",
       "18768                                              [[], []]\n",
       "116126    [['Great Asian restaurant for lunch', 'Good va...\n",
       "89726     [['Fun Jewish/Israeli kosher eatery in the Ma....\n",
       "122152    [['Good beer, frendly people!', 'Great brews']...\n",
       "72416     [['Great food, great price!', 'Cheap but excel...\n",
       "30118     [['Great place for a whiskey-fans', 'Well wort...\n",
       "11781     [['Burger joint', 'They canceled my booking wi...\n",
       "4569      [['Very Good', '\"Good things come in small pac...\n",
       "93955     [['Good Pizza', 'Worst place i have been in Pa...\n",
       "69875           [['Super Nice..', 'Great wines'], ['', '']]\n",
       "122731    [['Best meal for after party', \"There's a shis...\n",
       "10864     [['Selection of Pastries for the office', 'Gre...\n",
       "23794                                              [[], []]\n",
       "39768     [['Great burger, very large portions!', 'Great...\n",
       "47619         [['A brilliant find!', 'Lunch...'], ['', '']]\n",
       "6170      [['Good service, delicious food, outdoor seat....\n",
       "62015                                                   NaN\n",
       "47690                     [['Good!', 'Awesome!'], ['', '']]\n",
       "103801                                                  NaN\n",
       "110490    [['Good Pizza and nice athmosphere', 'Viva Ivo...\n",
       "38006                                              [[], []]\n",
       "31348                [['Cosy bar', 'Locals Pub'], ['', '']]\n",
       "93245     [['Good pizza', 'Hiding spot in montremart nei...\n",
       "87554                                              [[], []]\n",
       "Name: Reviews, dtype: object"
      ]
     },
     "execution_count": 16,
     "metadata": {},
     "output_type": "execute_result"
    }
   ],
   "source": [
    "Rst.Reviews.head(60)"
   ]
  },
  {
   "cell_type": "code",
   "execution_count": 17,
   "metadata": {},
   "outputs": [
    {
     "data": {
      "text/plain": [
       "str"
      ]
     },
     "execution_count": 17,
     "metadata": {},
     "output_type": "execute_result"
    }
   ],
   "source": [
    "type(\"Reviews\")"
   ]
  },
  {
   "cell_type": "code",
   "execution_count": null,
   "metadata": {
    "collapsed": true
   },
   "outputs": [],
   "source": []
  },
  {
   "cell_type": "code",
   "execution_count": null,
   "metadata": {
    "collapsed": true
   },
   "outputs": [],
   "source": []
  },
  {
   "cell_type": "code",
   "execution_count": null,
   "metadata": {
    "collapsed": true
   },
   "outputs": [],
   "source": []
  },
  {
   "cell_type": "code",
   "execution_count": null,
   "metadata": {
    "collapsed": true
   },
   "outputs": [],
   "source": []
  },
  {
   "cell_type": "code",
   "execution_count": null,
   "metadata": {
    "collapsed": true
   },
   "outputs": [],
   "source": []
  },
  {
   "cell_type": "code",
   "execution_count": null,
   "metadata": {
    "collapsed": true
   },
   "outputs": [],
   "source": []
  },
  {
   "cell_type": "code",
   "execution_count": null,
   "metadata": {
    "collapsed": true
   },
   "outputs": [],
   "source": []
  },
  {
   "cell_type": "code",
   "execution_count": null,
   "metadata": {
    "collapsed": true
   },
   "outputs": [],
   "source": []
  },
  {
   "cell_type": "code",
   "execution_count": null,
   "metadata": {
    "collapsed": true
   },
   "outputs": [],
   "source": []
  },
  {
   "cell_type": "code",
   "execution_count": null,
   "metadata": {
    "collapsed": true
   },
   "outputs": [],
   "source": []
  },
  {
   "cell_type": "code",
   "execution_count": 119,
   "metadata": {},
   "outputs": [
    {
     "ename": "TypeError",
     "evalue": "cannot concatenate a non-NDFrame object",
     "output_type": "error",
     "traceback": [
      "\u001b[1;31m---------------------------------------------------------------------------\u001b[0m",
      "\u001b[1;31mTypeError\u001b[0m                                 Traceback (most recent call last)",
      "\u001b[1;32m<ipython-input-119-50c3f2371635>\u001b[0m in \u001b[0;36m<module>\u001b[1;34m()\u001b[0m\n\u001b[1;32m----> 1\u001b[1;33m \u001b[0mreview\u001b[0m \u001b[1;33m=\u001b[0m \u001b[0mpd\u001b[0m\u001b[1;33m.\u001b[0m\u001b[0mconcat\u001b[0m\u001b[1;33m(\u001b[0m\u001b[1;33m[\u001b[0m\u001b[1;34m\"col\"\u001b[0m\u001b[1;33m,\u001b[0m\u001b[1;34m\"pair\"\u001b[0m\u001b[1;33m]\u001b[0m\u001b[1;33m,\u001b[0m \u001b[0maxis\u001b[0m\u001b[1;33m=\u001b[0m\u001b[1;36m1\u001b[0m\u001b[1;33m)\u001b[0m\u001b[1;33m\u001b[0m\u001b[0m\n\u001b[0m",
      "\u001b[1;32mE:\\python\\lib\\site-packages\\pandas\\core\\reshape\\concat.py\u001b[0m in \u001b[0;36mconcat\u001b[1;34m(objs, axis, join, join_axes, ignore_index, keys, levels, names, verify_integrity, copy)\u001b[0m\n\u001b[0;32m    204\u001b[0m                        \u001b[0mkeys\u001b[0m\u001b[1;33m=\u001b[0m\u001b[0mkeys\u001b[0m\u001b[1;33m,\u001b[0m \u001b[0mlevels\u001b[0m\u001b[1;33m=\u001b[0m\u001b[0mlevels\u001b[0m\u001b[1;33m,\u001b[0m \u001b[0mnames\u001b[0m\u001b[1;33m=\u001b[0m\u001b[0mnames\u001b[0m\u001b[1;33m,\u001b[0m\u001b[1;33m\u001b[0m\u001b[0m\n\u001b[0;32m    205\u001b[0m                        \u001b[0mverify_integrity\u001b[0m\u001b[1;33m=\u001b[0m\u001b[0mverify_integrity\u001b[0m\u001b[1;33m,\u001b[0m\u001b[1;33m\u001b[0m\u001b[0m\n\u001b[1;32m--> 206\u001b[1;33m                        copy=copy)\n\u001b[0m\u001b[0;32m    207\u001b[0m     \u001b[1;32mreturn\u001b[0m \u001b[0mop\u001b[0m\u001b[1;33m.\u001b[0m\u001b[0mget_result\u001b[0m\u001b[1;33m(\u001b[0m\u001b[1;33m)\u001b[0m\u001b[1;33m\u001b[0m\u001b[0m\n\u001b[0;32m    208\u001b[0m \u001b[1;33m\u001b[0m\u001b[0m\n",
      "\u001b[1;32mE:\\python\\lib\\site-packages\\pandas\\core\\reshape\\concat.py\u001b[0m in \u001b[0;36m__init__\u001b[1;34m(self, objs, axis, join, join_axes, keys, levels, names, ignore_index, verify_integrity, copy)\u001b[0m\n\u001b[0;32m    261\u001b[0m         \u001b[1;32mfor\u001b[0m \u001b[0mobj\u001b[0m \u001b[1;32min\u001b[0m \u001b[0mobjs\u001b[0m\u001b[1;33m:\u001b[0m\u001b[1;33m\u001b[0m\u001b[0m\n\u001b[0;32m    262\u001b[0m             \u001b[1;32mif\u001b[0m \u001b[1;32mnot\u001b[0m \u001b[0misinstance\u001b[0m\u001b[1;33m(\u001b[0m\u001b[0mobj\u001b[0m\u001b[1;33m,\u001b[0m \u001b[0mNDFrame\u001b[0m\u001b[1;33m)\u001b[0m\u001b[1;33m:\u001b[0m\u001b[1;33m\u001b[0m\u001b[0m\n\u001b[1;32m--> 263\u001b[1;33m                 \u001b[1;32mraise\u001b[0m \u001b[0mTypeError\u001b[0m\u001b[1;33m(\u001b[0m\u001b[1;34m\"cannot concatenate a non-NDFrame object\"\u001b[0m\u001b[1;33m)\u001b[0m\u001b[1;33m\u001b[0m\u001b[0m\n\u001b[0m\u001b[0;32m    264\u001b[0m \u001b[1;33m\u001b[0m\u001b[0m\n\u001b[0;32m    265\u001b[0m             \u001b[1;31m# consolidate\u001b[0m\u001b[1;33m\u001b[0m\u001b[1;33m\u001b[0m\u001b[0m\n",
      "\u001b[1;31mTypeError\u001b[0m: cannot concatenate a non-NDFrame object"
     ]
    }
   ],
   "source": [
    "review = pd.concat([\"col\",\"pair\"], axis=1)\n"
   ]
  },
  {
   "cell_type": "code",
   "execution_count": 122,
   "metadata": {},
   "outputs": [
    {
     "ename": "AttributeError",
     "evalue": "module 'pandas' has no attribute 'dataframe'",
     "output_type": "error",
     "traceback": [
      "\u001b[1;31m---------------------------------------------------------------------------\u001b[0m",
      "\u001b[1;31mAttributeError\u001b[0m                            Traceback (most recent call last)",
      "\u001b[1;32m<ipython-input-122-46bdd041614d>\u001b[0m in \u001b[0;36m<module>\u001b[1;34m()\u001b[0m\n\u001b[1;32m----> 1\u001b[1;33m \u001b[0mreviews\u001b[0m \u001b[1;33m=\u001b[0m \u001b[0mpd\u001b[0m\u001b[1;33m.\u001b[0m\u001b[0mdataframe\u001b[0m\u001b[1;33m(\u001b[0m\u001b[1;33m[\u001b[0m\u001b[0mcol\u001b[0m\u001b[1;33m]\u001b[0m\u001b[1;33m)\u001b[0m\u001b[1;33m\u001b[0m\u001b[0m\n\u001b[0m",
      "\u001b[1;31mAttributeError\u001b[0m: module 'pandas' has no attribute 'dataframe'"
     ]
    }
   ],
   "source": [
    "reviews = pd.dataframe([col])"
   ]
  },
  {
   "cell_type": "code",
   "execution_count": 121,
   "metadata": {},
   "outputs": [
    {
     "ename": "NameError",
     "evalue": "name 'col' is not defined",
     "output_type": "error",
     "traceback": [
      "\u001b[1;31m---------------------------------------------------------------------------\u001b[0m",
      "\u001b[1;31mNameError\u001b[0m                                 Traceback (most recent call last)",
      "\u001b[1;32m<ipython-input-121-bc51419fdecb>\u001b[0m in \u001b[0;36m<module>\u001b[1;34m()\u001b[0m\n\u001b[1;32m----> 1\u001b[1;33m \u001b[0mreviews\u001b[0m \u001b[1;33m=\u001b[0m \u001b[0mcol\u001b[0m\u001b[1;33m.\u001b[0m\u001b[0mappend\u001b[0m\u001b[1;33m(\u001b[0m\u001b[0mpair\u001b[0m\u001b[1;33m)\u001b[0m\u001b[1;33m\u001b[0m\u001b[0m\n\u001b[0m",
      "\u001b[1;31mNameError\u001b[0m: name 'col' is not defined"
     ]
    }
   ],
   "source": [
    " reviews = col.append(pair)"
   ]
  },
  {
   "cell_type": "code",
   "execution_count": null,
   "metadata": {
    "collapsed": true
   },
   "outputs": [],
   "source": []
  },
  {
   "cell_type": "code",
   "execution_count": null,
   "metadata": {
    "collapsed": true
   },
   "outputs": [],
   "source": []
  },
  {
   "cell_type": "code",
   "execution_count": null,
   "metadata": {
    "collapsed": true
   },
   "outputs": [],
   "source": []
  },
  {
   "cell_type": "code",
   "execution_count": null,
   "metadata": {
    "collapsed": true
   },
   "outputs": [],
   "source": []
  },
  {
   "cell_type": "code",
   "execution_count": 29,
   "metadata": {},
   "outputs": [
    {
     "name": "stdout",
     "output_type": "stream",
     "text": [
      "[nltk_data] Downloading package stopwords to C:\\Users\\MY\n",
      "[nltk_data]     DELL\\AppData\\Roaming\\nltk_data...\n",
      "[nltk_data]   Package stopwords is already up-to-date!\n"
     ]
    }
   ],
   "source": [
    "import nltk\n",
    "import re\n",
    "nltk.download('stopwords')\n",
    "from nltk.corpus import stopwords\n",
    "from nltk.stem.porter import PorterStemmer"
   ]
  },
  {
   "cell_type": "code",
   "execution_count": 30,
   "metadata": {},
   "outputs": [
    {
     "ename": "KeyError",
     "evalue": "0",
     "output_type": "error",
     "traceback": [
      "\u001b[1;31m---------------------------------------------------------------------------\u001b[0m",
      "\u001b[1;31mKeyError\u001b[0m                                  Traceback (most recent call last)",
      "\u001b[1;32m<ipython-input-30-be0a467386e2>\u001b[0m in \u001b[0;36m<module>\u001b[1;34m()\u001b[0m\n\u001b[0;32m      4\u001b[0m \u001b[1;33m\u001b[0m\u001b[0m\n\u001b[0;32m      5\u001b[0m   \u001b[1;31m# Cleaning special character from the reviews\u001b[0m\u001b[1;33m\u001b[0m\u001b[1;33m\u001b[0m\u001b[0m\n\u001b[1;32m----> 6\u001b[1;33m   \u001b[0mreview\u001b[0m \u001b[1;33m=\u001b[0m \u001b[0mre\u001b[0m\u001b[1;33m.\u001b[0m\u001b[0msub\u001b[0m\u001b[1;33m(\u001b[0m\u001b[0mpattern\u001b[0m\u001b[1;33m=\u001b[0m\u001b[1;34m'[^a-zA-Z]'\u001b[0m\u001b[1;33m,\u001b[0m\u001b[0mrepl\u001b[0m\u001b[1;33m=\u001b[0m\u001b[1;34m' '\u001b[0m\u001b[1;33m,\u001b[0m \u001b[0mstring\u001b[0m\u001b[1;33m=\u001b[0m\u001b[0mRst\u001b[0m\u001b[1;33m[\u001b[0m\u001b[1;34m'Reviews'\u001b[0m\u001b[1;33m]\u001b[0m\u001b[1;33m[\u001b[0m\u001b[0mi\u001b[0m\u001b[1;33m]\u001b[0m\u001b[1;33m)\u001b[0m\u001b[1;33m\u001b[0m\u001b[0m\n\u001b[0m\u001b[0;32m      7\u001b[0m \u001b[1;33m\u001b[0m\u001b[0m\n\u001b[0;32m      8\u001b[0m   \u001b[1;31m# Converting the entire review into lower case\u001b[0m\u001b[1;33m\u001b[0m\u001b[1;33m\u001b[0m\u001b[0m\n",
      "\u001b[1;32mE:\\python\\lib\\site-packages\\pandas\\core\\series.py\u001b[0m in \u001b[0;36m__getitem__\u001b[1;34m(self, key)\u001b[0m\n\u001b[0;32m    599\u001b[0m         \u001b[0mkey\u001b[0m \u001b[1;33m=\u001b[0m \u001b[0mcom\u001b[0m\u001b[1;33m.\u001b[0m\u001b[0m_apply_if_callable\u001b[0m\u001b[1;33m(\u001b[0m\u001b[0mkey\u001b[0m\u001b[1;33m,\u001b[0m \u001b[0mself\u001b[0m\u001b[1;33m)\u001b[0m\u001b[1;33m\u001b[0m\u001b[0m\n\u001b[0;32m    600\u001b[0m         \u001b[1;32mtry\u001b[0m\u001b[1;33m:\u001b[0m\u001b[1;33m\u001b[0m\u001b[0m\n\u001b[1;32m--> 601\u001b[1;33m             \u001b[0mresult\u001b[0m \u001b[1;33m=\u001b[0m \u001b[0mself\u001b[0m\u001b[1;33m.\u001b[0m\u001b[0mindex\u001b[0m\u001b[1;33m.\u001b[0m\u001b[0mget_value\u001b[0m\u001b[1;33m(\u001b[0m\u001b[0mself\u001b[0m\u001b[1;33m,\u001b[0m \u001b[0mkey\u001b[0m\u001b[1;33m)\u001b[0m\u001b[1;33m\u001b[0m\u001b[0m\n\u001b[0m\u001b[0;32m    602\u001b[0m \u001b[1;33m\u001b[0m\u001b[0m\n\u001b[0;32m    603\u001b[0m             \u001b[1;32mif\u001b[0m \u001b[1;32mnot\u001b[0m \u001b[0mis_scalar\u001b[0m\u001b[1;33m(\u001b[0m\u001b[0mresult\u001b[0m\u001b[1;33m)\u001b[0m\u001b[1;33m:\u001b[0m\u001b[1;33m\u001b[0m\u001b[0m\n",
      "\u001b[1;32mE:\\python\\lib\\site-packages\\pandas\\core\\indexes\\base.py\u001b[0m in \u001b[0;36mget_value\u001b[1;34m(self, series, key)\u001b[0m\n\u001b[0;32m   2426\u001b[0m         \u001b[1;32mtry\u001b[0m\u001b[1;33m:\u001b[0m\u001b[1;33m\u001b[0m\u001b[0m\n\u001b[0;32m   2427\u001b[0m             return self._engine.get_value(s, k,\n\u001b[1;32m-> 2428\u001b[1;33m                                           tz=getattr(series.dtype, 'tz', None))\n\u001b[0m\u001b[0;32m   2429\u001b[0m         \u001b[1;32mexcept\u001b[0m \u001b[0mKeyError\u001b[0m \u001b[1;32mas\u001b[0m \u001b[0me1\u001b[0m\u001b[1;33m:\u001b[0m\u001b[1;33m\u001b[0m\u001b[0m\n\u001b[0;32m   2430\u001b[0m             \u001b[1;32mif\u001b[0m \u001b[0mlen\u001b[0m\u001b[1;33m(\u001b[0m\u001b[0mself\u001b[0m\u001b[1;33m)\u001b[0m \u001b[1;33m>\u001b[0m \u001b[1;36m0\u001b[0m \u001b[1;32mand\u001b[0m \u001b[0mself\u001b[0m\u001b[1;33m.\u001b[0m\u001b[0minferred_type\u001b[0m \u001b[1;32min\u001b[0m \u001b[1;33m[\u001b[0m\u001b[1;34m'integer'\u001b[0m\u001b[1;33m,\u001b[0m \u001b[1;34m'boolean'\u001b[0m\u001b[1;33m]\u001b[0m\u001b[1;33m:\u001b[0m\u001b[1;33m\u001b[0m\u001b[0m\n",
      "\u001b[1;32mpandas\\_libs\\index.pyx\u001b[0m in \u001b[0;36mpandas._libs.index.IndexEngine.get_value (pandas\\_libs\\index.c:4363)\u001b[1;34m()\u001b[0m\n",
      "\u001b[1;32mpandas\\_libs\\index.pyx\u001b[0m in \u001b[0;36mpandas._libs.index.IndexEngine.get_value (pandas\\_libs\\index.c:4046)\u001b[1;34m()\u001b[0m\n",
      "\u001b[1;32mpandas\\_libs\\index.pyx\u001b[0m in \u001b[0;36mpandas._libs.index.IndexEngine.get_loc (pandas\\_libs\\index.c:5022)\u001b[1;34m()\u001b[0m\n",
      "\u001b[1;32mpandas\\_libs\\index.pyx\u001b[0m in \u001b[0;36mpandas._libs.index.IndexEngine._get_loc_duplicates (pandas\\_libs\\index.c:5469)\u001b[1;34m()\u001b[0m\n",
      "\u001b[1;32mpandas\\_libs\\index_class_helper.pxi\u001b[0m in \u001b[0;36mpandas._libs.index.Int64Engine._maybe_get_bool_indexer (pandas\\_libs\\index.c:16647)\u001b[1;34m()\u001b[0m\n",
      "\u001b[1;31mKeyError\u001b[0m: 0"
     ]
    }
   ],
   "source": [
    "# Cleaning the reviews\n",
    "corpus = []\n",
    "for i in range(0,1000):\n",
    "\n",
    "  # Cleaning special character from the reviews\n",
    "  review = re.sub(pattern='[^a-zA-Z]',repl=' ', string=Rst['Reviews'][i])\n",
    "\n",
    "  # Converting the entire review into lower case\n",
    "  review = review.lower()\n",
    "\n",
    "  # Tokenizing the review by words\n",
    "  review_words = review.split()\n",
    "\n",
    "  # Removing the stop words\n",
    "  review_words = [word for word in review_words if not word in set(stopwords.words('english'))]\n",
    "\n",
    "  # Stemming the words\n",
    "  ps = PorterStemmer()\n",
    "  review = [ps.stem(word) for word in review_words]\n",
    "\n",
    "  # Joining the stemmed words\n",
    "  review = ' '.join(review)\n",
    "\n",
    "  # Creating a corpus\n",
    "  corpus.append(review)"
   ]
  },
  {
   "cell_type": "code",
   "execution_count": null,
   "metadata": {
    "collapsed": true
   },
   "outputs": [],
   "source": []
  },
  {
   "cell_type": "code",
   "execution_count": null,
   "metadata": {
    "collapsed": true
   },
   "outputs": [],
   "source": []
  }
 ],
 "metadata": {
  "kernelspec": {
   "display_name": "Python 3",
   "language": "python",
   "name": "python3"
  },
  "language_info": {
   "codemirror_mode": {
    "name": "ipython",
    "version": 3
   },
   "file_extension": ".py",
   "mimetype": "text/x-python",
   "name": "python",
   "nbconvert_exporter": "python",
   "pygments_lexer": "ipython3",
   "version": "3.6.1"
  }
 },
 "nbformat": 4,
 "nbformat_minor": 2
}
